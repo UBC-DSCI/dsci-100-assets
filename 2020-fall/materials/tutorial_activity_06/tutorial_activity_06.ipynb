{
 "cells": [
  {
   "cell_type": "markdown",
   "metadata": {
    "deletable": false,
    "editable": false,
    "nbgrader": {
     "cell_type": "markdown",
     "checksum": "ca47629593e8441613f56faf62a60b5e",
     "grade": false,
     "grade_id": "cell-24f9bfcfc0c028b2",
     "locked": true,
     "schema_version": 3,
     "solution": false,
     "task": false
    },
    "slideshow": {
     "slide_type": "slide"
    }
   },
   "source": [
    "# DSCI 100: Introduction to Data Science\n",
    "\n",
    "## Tutorial 6 - Classification I  (Training & predicting): Class activity\n",
    "Consider the `iris` dataset, which is built into R:"
   ]
  },
  {
   "cell_type": "code",
   "execution_count": null,
   "metadata": {
    "deletable": false,
    "editable": false,
    "nbgrader": {
     "cell_type": "code",
     "checksum": "e2886716b7c6478538b715f8af2174f8",
     "grade": false,
     "grade_id": "cell-ed1a6b13b46b5ff2",
     "locked": true,
     "schema_version": 3,
     "solution": false,
     "task": false
    }
   },
   "outputs": [],
   "source": [
    "head(iris)"
   ]
  },
  {
   "cell_type": "markdown",
   "metadata": {
    "deletable": false,
    "editable": false,
    "nbgrader": {
     "cell_type": "markdown",
     "checksum": "fbef5abc5c12fd629566eca7ca754f0c",
     "grade": false,
     "grade_id": "cell-2349ad75258323eb",
     "locked": true,
     "schema_version": 3,
     "solution": false,
     "task": false
    }
   },
   "source": [
    "Suppose we are given a new, unclassified observation with\n",
    "\n",
    "- `Petal.Length` = 5\n",
    "- `Petal.Width` = 0.6\n",
    "\n",
    "Using R and the `tidymodels` package, how would you classify this observation based on the $k=3$ nearest neighbours?"
   ]
  },
  {
   "cell_type": "markdown",
   "metadata": {
    "deletable": false,
    "editable": false,
    "nbgrader": {
     "cell_type": "markdown",
     "checksum": "3981137f32e5109c0ceeec7859320ff7",
     "grade": false,
     "grade_id": "cell-a30d7f12f24db0c2",
     "locked": true,
     "schema_version": 3,
     "solution": false,
     "task": false
    },
    "slideshow": {
     "slide_type": "slide"
    }
   },
   "source": [
    "First, load the necessary libraries (we need `tidyverse` and `tidymodels`)"
   ]
  },
  {
   "cell_type": "code",
   "execution_count": null,
   "metadata": {
    "deletable": false,
    "nbgrader": {
     "cell_type": "code",
     "checksum": "8af6f878f6e622fb6ed17d201f1a3458",
     "grade": true,
     "grade_id": "cell-862ad148734f02d5",
     "locked": false,
     "points": 0,
     "schema_version": 3,
     "solution": true,
     "task": false
    },
    "slideshow": {
     "slide_type": "fragment"
    }
   },
   "outputs": [],
   "source": [
    "# your code here\n",
    "fail() # No Answer - remove if you provide an answer"
   ]
  },
  {
   "cell_type": "markdown",
   "metadata": {
    "deletable": false,
    "editable": false,
    "nbgrader": {
     "cell_type": "markdown",
     "checksum": "642220a0dd1496ae795c60f1230ebb86",
     "grade": false,
     "grade_id": "cell-7128b905ae8e4202",
     "locked": true,
     "schema_version": 3,
     "solution": false,
     "task": false
    },
    "slideshow": {
     "slide_type": "slide"
    }
   },
   "source": [
    "Next, create a scatterplot to explore the relationship between the predictors/explanatory variables and the target variable."
   ]
  },
  {
   "cell_type": "code",
   "execution_count": null,
   "metadata": {
    "deletable": false,
    "nbgrader": {
     "cell_type": "code",
     "checksum": "30be6fc363cd4f0f3bdf040594c4146b",
     "grade": true,
     "grade_id": "cell-411f5c32f74e8702",
     "locked": false,
     "points": 0,
     "schema_version": 3,
     "solution": true,
     "task": false
    },
    "slideshow": {
     "slide_type": "fragment"
    }
   },
   "outputs": [],
   "source": [
    "# your code here\n",
    "fail() # No Answer - remove if you provide an answer"
   ]
  },
  {
   "cell_type": "markdown",
   "metadata": {
    "deletable": false,
    "editable": false,
    "nbgrader": {
     "cell_type": "markdown",
     "checksum": "d5eb7bef3e8b4f64f99fc437207bbf56",
     "grade": false,
     "grade_id": "cell-8dbbe8cbaae55ef9",
     "locked": true,
     "schema_version": 3,
     "solution": false,
     "task": false
    }
   },
   "source": [
    "Next, make the tidymodels workflow for the analysis:\n",
    "\n",
    "1. Make a recipe for our model. Include centering and scaling preprocessing steps\n",
    "2. Make the model specification. Use 3 neighbours.\n",
    "3. Combine them in a workflow."
   ]
  },
  {
   "cell_type": "code",
   "execution_count": null,
   "metadata": {
    "deletable": false,
    "nbgrader": {
     "cell_type": "code",
     "checksum": "3b563308480aafc5508668c2dcf09485",
     "grade": true,
     "grade_id": "cell-1ca3281e90b09d1f",
     "locked": false,
     "points": 0,
     "schema_version": 3,
     "solution": true,
     "task": false
    }
   },
   "outputs": [],
   "source": [
    "# your code here\n",
    "fail() # No Answer - remove if you provide an answer"
   ]
  },
  {
   "cell_type": "markdown",
   "metadata": {
    "deletable": false,
    "editable": false,
    "nbgrader": {
     "cell_type": "markdown",
     "checksum": "1dfc870390aad9fcabba105f8dfc8361",
     "grade": false,
     "grade_id": "cell-cd6602003e295cda",
     "locked": true,
     "schema_version": 3,
     "solution": false,
     "task": false
    },
    "slideshow": {
     "slide_type": "slide"
    }
   },
   "source": [
    "Now train the model using the `fit` function.\n"
   ]
  },
  {
   "cell_type": "code",
   "execution_count": null,
   "metadata": {
    "deletable": false,
    "nbgrader": {
     "cell_type": "code",
     "checksum": "1b472f2e7a381b905dd8808d312d751c",
     "grade": true,
     "grade_id": "cell-1e6adb2a7f93ea0c",
     "locked": false,
     "points": 0,
     "schema_version": 3,
     "solution": true,
     "task": false
    },
    "slideshow": {
     "slide_type": "fragment"
    }
   },
   "outputs": [],
   "source": [
    "# your code here\n",
    "fail() # No Answer - remove if you provide an answer"
   ]
  },
  {
   "cell_type": "markdown",
   "metadata": {
    "deletable": false,
    "editable": false,
    "nbgrader": {
     "cell_type": "markdown",
     "checksum": "56621207182bc0286a79287f3452af4d",
     "grade": false,
     "grade_id": "cell-197073db13b4c44c",
     "locked": true,
     "schema_version": 3,
     "solution": false,
     "task": false
    },
    "slideshow": {
     "slide_type": "slide"
    }
   },
   "source": [
    "Finally, predict the label for the new observation."
   ]
  },
  {
   "cell_type": "code",
   "execution_count": null,
   "metadata": {
    "deletable": false,
    "nbgrader": {
     "cell_type": "code",
     "checksum": "2067f1455286df947c61451bc6cc6d54",
     "grade": true,
     "grade_id": "cell-418ddd4dae62425a",
     "locked": false,
     "points": 0,
     "schema_version": 3,
     "solution": true,
     "task": false
    },
    "slideshow": {
     "slide_type": "fragment"
    }
   },
   "outputs": [],
   "source": [
    "# your code here\n",
    "fail() # No Answer - remove if you provide an answer"
   ]
  }
 ],
 "metadata": {
  "kernelspec": {
   "display_name": "R",
   "language": "R",
   "name": "ir"
  },
  "language_info": {
   "codemirror_mode": "r",
   "file_extension": ".r",
   "mimetype": "text/x-r-source",
   "name": "R",
   "pygments_lexer": "r",
   "version": "4.0.0"
  }
 },
 "nbformat": 4,
 "nbformat_minor": 2
}
