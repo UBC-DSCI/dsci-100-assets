{
 "cells": [
  {
   "cell_type": "markdown",
   "metadata": {
    "deletable": false,
    "editable": false,
    "nbgrader": {
     "cell_type": "markdown",
     "checksum": "e2dd155ee279ce7043a82a8cdcd05828",
     "grade": false,
     "grade_id": "cell-097c971e4c534365",
     "locked": true,
     "schema_version": 3,
     "solution": false,
     "task": false
    }
   },
   "source": [
    "# Tutorial 1: Introduction to Data Science\n",
    "\n",
    "### Lecture and Tutorial Learning Goals:\n",
    "\n",
    "After completing this week's lecture and tutorial work, you will be able to:\n",
    "\n",
    "* use a Jupyter notebook to execute provided R code\n",
    "* edit code and markdown cells in a Jupyter notebook\n",
    "* create new code and markdown cells in a Jupyter notebook\n",
    "* load the `tidyverse` library into R\n",
    "* create new variables and objects in R using the assignment symbol\n",
    "* use the help and documentation tools in R\n",
    "* match the names of the following functions from the `tidyverse` library to their documentation descriptions: \n",
    "    - `read_csv` \n",
    "    - `select`\n",
    "    - `mutate`\n",
    "    - `filter`\n",
    "    - `ggplot`\n",
    "    - `aes`\n",
    "\n",
    "Any place you see `...`, you must fill in the function, variable, or data to complete the code. Replace `fail()` with your completed code and run the cell!\n",
    "\n",
    "Reminder: All autograded questions (i.e., questions with tests) are worth 1 point and all hidden test and manually graded questions are worth 3 points. "
   ]
  },
  {
   "cell_type": "code",
   "execution_count": null,
   "metadata": {
    "deletable": false,
    "editable": false,
    "nbgrader": {
     "cell_type": "code",
     "checksum": "0ddaa9347133994a21e664a2ce28e6a5",
     "grade": false,
     "grade_id": "cell-f8bed7e28ebf84d3",
     "locked": true,
     "schema_version": 3,
     "solution": false,
     "task": false
    }
   },
   "outputs": [],
   "source": [
    "### Run this cell before continuing. \n",
    "library(repr)\n",
    "source(\"tests_tutorial_01.R\")\n",
    "source(\"cleanup_tutorial_01.R\")"
   ]
  },
  {
   "cell_type": "markdown",
   "metadata": {
    "deletable": false,
    "editable": false,
    "nbgrader": {
     "cell_type": "markdown",
     "checksum": "8922c13439a6d7abf40b94d434f5ef62",
     "grade": false,
     "grade_id": "cell-83392b7a5bae6d15",
     "locked": true,
     "schema_version": 3,
     "solution": false,
     "task": false
    }
   },
   "source": [
    "**Revision Question** Match the following definitions with the corresponding functions used in R:\n",
    "<br> {points: 1}\n",
    "\n",
    "*Definitions*\n",
    "\n",
    "A. Reads the most common types of flat file data, comma separated values and tab separated values, respectively. \n",
    "\n",
    "B. Keeps only the variables you mention.\n",
    "\n",
    "C. Keeps only rows with entries satisfying some logical condition that you specify.\n",
    "\n",
    "D. Adds a new variable to a data frame as a function of the old columns.\n",
    "\n",
    "E. Declares the input data frame for a graphic and specifies the set of plot aesthetics intended to be common throughout all subsequent layers unless specifically overridden.\n",
    "\n",
    "F. Returns the first six rows or values of a vector, matrix, table, data frame or function.\n",
    "\n",
    "\n",
    "*Functions*\n",
    "\n",
    "1. `ggplot`\n",
    "2. `select`\n",
    "3. `head`\n",
    "4. `read_csv`\n",
    "5. `mutate`\n",
    "6. `filter`\n",
    "\n",
    "For each definition, assign the integer corresponding to the correct function to the letter object associated with the defintion. For example:\n",
    "\n",
    "    B <- 1\n",
    "\n",
    "_Assign your answers to the objects `A`, `B`, `C`, `D`, `E`, and `F`. Your answers should each be a single integer._"
   ]
  },
  {
   "cell_type": "code",
   "execution_count": null,
   "metadata": {
    "deletable": false,
    "nbgrader": {
     "cell_type": "code",
     "checksum": "a2148f85f77dd214c024a9bc3c23de4c",
     "grade": false,
     "grade_id": "cell-364071ddddabc1ef",
     "locked": false,
     "schema_version": 3,
     "solution": true
    }
   },
   "outputs": [],
   "source": [
    "# Assign your answer to a letter object: A, B, C, D, E, F\n",
    "# Make sure the correct answer is an integer from 1-6 \n",
    "# Replace the fail() with your answer. \n",
    "\n",
    "# A <- ...\n",
    "# B <- ...\n",
    "# C <- ...\n",
    "# D <- ...\n",
    "# E <- ...\n",
    "# F <- ...\n",
    "\n",
    "# your code here\n",
    "fail() # No Answer - remove if you provide an answer"
   ]
  },
  {
   "cell_type": "code",
   "execution_count": null,
   "metadata": {
    "deletable": false,
    "editable": false,
    "nbgrader": {
     "cell_type": "code",
     "checksum": "6e2a1ffc93aedda2921c60c798025e08",
     "grade": true,
     "grade_id": "cell-8bfa7659789da213",
     "locked": true,
     "points": 1,
     "schema_version": 3,
     "solution": false
    }
   },
   "outputs": [],
   "source": [
    "test_revision()"
   ]
  },
  {
   "cell_type": "markdown",
   "metadata": {
    "deletable": false,
    "editable": false,
    "nbgrader": {
     "cell_type": "markdown",
     "checksum": "5ae0fd03cd144831e3e2bc2f5b0a430a",
     "grade": false,
     "grade_id": "cell-23fa8d80b908d764",
     "locked": true,
     "schema_version": 3,
     "solution": false,
     "task": false
    }
   },
   "source": [
    "## 1. Vickers and Vertosick Exercise\n",
    "We hope you haven't forgotten about them just yet! As you might recall from lecture, Vickers and Vertosick were the researchers that wanted to study different factors affecting race performance of recreational runners. They assembled a data set that includes the age, sex, and Body Mass Index (BMI) of runners, comparing it with their timed performance (how long it took them to complete either 5 or 10 km runs).\n",
    "\n",
    "We will be continuing our analysis of their data to practice what you learnt during the previous lecture. The goal for today, however, is to produce a plot of BMI against the time **(in minutes)** it took for participants **under the age of 35** to run 5 kilometres. To do this, we will need to complete the following steps:\n",
    "\n",
    "1. use `filter` to extract the rows where age is less than 35\n",
    "2. use `select` to extract the `bmi` and `km5_time_seconds` columns \n",
    "3. use `mutate` to convert 5 km race time from seconds (`km5_time_seconds`) to minutes\n",
    "4. use `ggplot` to create our plot of BMI (x-axis) and race time in minutes (y-axis)\n",
    "\n",
    "**Tips for success:** Try going through all of the steps on your own, but don't forget to discuss with others (classmates, TAs, or an instructor) if you get stuck. If something is wrong and you can't spot the issue, be sure to **read the error message carefully**. Since there are a lot of steps involved in working with data and modifying it, feel free to look back at [`worksheet_01`](https://github.com/UBC-DSCI/dsci-100/blob/master/materials/worksheet_01/worksheet_01.ipynb) for assistance. "
   ]
  },
  {
   "cell_type": "markdown",
   "metadata": {
    "deletable": false,
    "editable": false,
    "nbgrader": {
     "cell_type": "markdown",
     "checksum": "5c4196bcdae24bf8b079dc1515597872",
     "grade": false,
     "grade_id": "cell-ba22162ace034660",
     "locked": true,
     "schema_version": 3,
     "solution": false,
     "task": false
    }
   },
   "source": [
    "**Question 1.1** Multiple Choice\n",
    "<br> {points: 1}\n",
    "\n",
    "After reading the text above (and remembering that `filter` lets us choose rows that have values at, above, or below a threshold), what column do you think we will be using for our threshold when we filter? \n",
    "\n",
    "A. `age`\n",
    "\n",
    "B. `km5_time_seconds`\n",
    "\n",
    "C. `bmi`\n",
    "\n",
    "D. `sex`\n",
    "\n",
    "*Assign your answer to an object called `answer1.1`. Make sure to write the uppercase letter for the answer you have chosen and surround the letter with quote.*"
   ]
  },
  {
   "cell_type": "code",
   "execution_count": null,
   "metadata": {
    "deletable": false,
    "nbgrader": {
     "cell_type": "code",
     "checksum": "49524c46371fe544d2db27c7c7d708d8",
     "grade": false,
     "grade_id": "cell-5a274965f36e740d",
     "locked": false,
     "schema_version": 3,
     "solution": true
    }
   },
   "outputs": [],
   "source": [
    "# Make sure the correct answer is an uppercase letter. \n",
    "# Surround your answer with quotation marks.\n",
    "# Replace the fail() with your answer. \n",
    "\n",
    "# your code here\n",
    "fail() # No Answer - remove if you provide an answer"
   ]
  },
  {
   "cell_type": "code",
   "execution_count": null,
   "metadata": {
    "deletable": false,
    "editable": false,
    "nbgrader": {
     "cell_type": "code",
     "checksum": "27b26c2ea8b0120dfe18544f7492d194",
     "grade": true,
     "grade_id": "cell-22b73e3ca6d3e321",
     "locked": true,
     "points": 1,
     "schema_version": 3,
     "solution": false
    }
   },
   "outputs": [],
   "source": [
    "test_1.1()"
   ]
  },
  {
   "cell_type": "markdown",
   "metadata": {
    "deletable": false,
    "editable": false,
    "nbgrader": {
     "cell_type": "markdown",
     "checksum": "ba612abce26ef2a59614b92184c4fe79",
     "grade": false,
     "grade_id": "cell-3f21b62829f67fdb",
     "locked": true,
     "schema_version": 3,
     "solution": false,
     "task": false
    }
   },
   "source": [
    "**Question 1.2** True or False\n",
    "<br> {points: 1}\n",
    "\n",
    "We will be selecting the columns `age` and `km5_time_seconds` to plot. True or false?\n",
    "\n",
    "*Assign your answer (of either true or false) to an object called `answer1.2`. Make sure to write in all lower-case and surround your answer with quotes.*"
   ]
  },
  {
   "cell_type": "code",
   "execution_count": null,
   "metadata": {
    "deletable": false,
    "nbgrader": {
     "cell_type": "code",
     "checksum": "e9a72ea1daed14db9e1202a1b8cd0175",
     "grade": false,
     "grade_id": "cell-cfdba6cc55279aa9",
     "locked": false,
     "schema_version": 3,
     "solution": true
    }
   },
   "outputs": [],
   "source": [
    "# Make sure the correct answer is written in lower-case (true / false)\n",
    "# Surround your answer with quotation marks.\n",
    "# Replace the fail() with your answer. \n",
    "\n",
    "# your code here\n",
    "fail() # No Answer - remove if you provide an answer"
   ]
  },
  {
   "cell_type": "code",
   "execution_count": null,
   "metadata": {
    "deletable": false,
    "editable": false,
    "nbgrader": {
     "cell_type": "code",
     "checksum": "afead27604b0274a577f16133dbfd09f",
     "grade": true,
     "grade_id": "cell-561d497f339ca0fb",
     "locked": true,
     "points": 1,
     "schema_version": 3,
     "solution": false
    }
   },
   "outputs": [],
   "source": [
    "test_1.2()"
   ]
  },
  {
   "cell_type": "markdown",
   "metadata": {
    "deletable": false,
    "editable": false,
    "nbgrader": {
     "cell_type": "markdown",
     "checksum": "3f6187b7ebaaabfc0c15ce7b9a0741ec",
     "grade": false,
     "grade_id": "cell-83631a06f3627d5e",
     "locked": true,
     "schema_version": 3,
     "solution": false,
     "task": false
    }
   },
   "source": [
    "**Question 1.3** Multiple Choice\n",
    "<br> {points: 1}\n",
    "\n",
    "Select the answer with the correct order of functions that we will use to wrangle our data into a useable form for the plot we want to create. \n",
    "\n",
    "A. `mutate`, `ggplot`, `select`\n",
    "\n",
    "B. `mutate`, `read_csv`, `select`\n",
    "\n",
    "C. `filter`, `select`, `mutate`\n",
    "\n",
    "D. `filter`, `aes`, `ggplot`\n",
    "\n",
    "*Assign your answer to an object called `answer1.3`. Make sure to write the uppercase letter for the answer you have chosen and surround the letter with quote.*"
   ]
  },
  {
   "cell_type": "code",
   "execution_count": null,
   "metadata": {
    "deletable": false,
    "nbgrader": {
     "cell_type": "code",
     "checksum": "69cfa7b93cdc7bca1e2903fd896a1cc4",
     "grade": false,
     "grade_id": "cell-406f7cb23352e3ed",
     "locked": false,
     "schema_version": 3,
     "solution": true
    }
   },
   "outputs": [],
   "source": [
    "# Make sure the correct answer is an uppercase letter. \n",
    "# Surround your answer with quotation marks.\n",
    "# Replace the fail() with your answer.\n",
    "\n",
    "# your code here\n",
    "fail() # No Answer - remove if you provide an answer"
   ]
  },
  {
   "cell_type": "code",
   "execution_count": null,
   "metadata": {
    "deletable": false,
    "editable": false,
    "nbgrader": {
     "cell_type": "code",
     "checksum": "7492415e363e3d33a95c2b0ecfc4ce41",
     "grade": true,
     "grade_id": "cell-b661cd0b7158dcb0",
     "locked": true,
     "points": 1,
     "schema_version": 3,
     "solution": false
    }
   },
   "outputs": [],
   "source": [
    "test_1.3()"
   ]
  },
  {
   "cell_type": "markdown",
   "metadata": {
    "deletable": false,
    "editable": false,
    "nbgrader": {
     "cell_type": "markdown",
     "checksum": "a99e415fb600d5fa8173d9386ea66cb1",
     "grade": false,
     "grade_id": "cell-46092fdb323894bb",
     "locked": true,
     "schema_version": 3,
     "solution": false,
     "task": false
    }
   },
   "source": [
    "**Question 1.4** \n",
    "<br> {points: 1}\n",
    "\n",
    "To work on the cells below, load the `tidyverse` package. "
   ]
  },
  {
   "cell_type": "code",
   "execution_count": null,
   "metadata": {
    "deletable": false,
    "nbgrader": {
     "cell_type": "code",
     "checksum": "e59ae85f956c272bfe50c247c3a8c378",
     "grade": false,
     "grade_id": "cell-3acec18e66b7d95e",
     "locked": false,
     "schema_version": 3,
     "solution": true
    }
   },
   "outputs": [],
   "source": [
    "# Replace the fail() with your line of code. \n",
    "# If you have difficulty with loading this package,\n",
    "# go back to worksheet_01 and read over Section 5 (Packages).\n",
    "\n",
    "# your code here\n",
    "fail() # No Answer - remove if you provide an answer"
   ]
  },
  {
   "cell_type": "code",
   "execution_count": null,
   "metadata": {
    "deletable": false,
    "editable": false,
    "nbgrader": {
     "cell_type": "code",
     "checksum": "4946d29166e4ee72ae78ace7d36418a0",
     "grade": true,
     "grade_id": "cell-d2363dbfecca5186",
     "locked": true,
     "points": 1,
     "schema_version": 3,
     "solution": false
    }
   },
   "outputs": [],
   "source": [
    "test_1.4()"
   ]
  },
  {
   "cell_type": "markdown",
   "metadata": {
    "deletable": false,
    "editable": false,
    "nbgrader": {
     "cell_type": "markdown",
     "checksum": "09caaf45bfa4a768eaac5a9c708dd2ac",
     "grade": false,
     "grade_id": "cell-5f6f0d868a5c9053",
     "locked": true,
     "schema_version": 3,
     "solution": false,
     "task": false
    }
   },
   "source": [
    "**Question 1.5** \n",
    "<br> {points: 1}\n",
    "\n",
    "With the proper package loaded, you can now read in the data.\n",
    "\n",
    "Replace `fail()` with the correct function. Assign your data to an object called `marathon_small`."
   ]
  },
  {
   "cell_type": "code",
   "execution_count": null,
   "metadata": {
    "deletable": false,
    "nbgrader": {
     "cell_type": "code",
     "checksum": "46b18879f74d127a2070fc3582dd272a",
     "grade": false,
     "grade_id": "cell-67b296f10ee85743",
     "locked": false,
     "schema_version": 3,
     "solution": true
    }
   },
   "outputs": [],
   "source": [
    "# ... <- ...(\"marathon_small.csv\")\n",
    "# Take the line above and fill in the ...\n",
    "# Once finished, copy and replace the fail(). \n",
    "\n",
    "# your code here\n",
    "fail() # No Answer - remove if you provide an answer\n",
    "head(marathon_small)"
   ]
  },
  {
   "cell_type": "code",
   "execution_count": null,
   "metadata": {
    "deletable": false,
    "editable": false,
    "nbgrader": {
     "cell_type": "code",
     "checksum": "29542c148a2f8ca83e16706d5e09439d",
     "grade": true,
     "grade_id": "cell-e905afcc39967bfd",
     "locked": true,
     "points": 1,
     "schema_version": 3,
     "solution": false
    }
   },
   "outputs": [],
   "source": [
    "test_1.5()"
   ]
  },
  {
   "cell_type": "markdown",
   "metadata": {
    "deletable": false,
    "editable": false,
    "nbgrader": {
     "cell_type": "markdown",
     "checksum": "9f0b3099e2aa344b37e12ccc371d207e",
     "grade": false,
     "grade_id": "cell-15bf4a69411a57d3",
     "locked": true,
     "schema_version": 3,
     "solution": false,
     "task": false
    }
   },
   "source": [
    "**Question 1.6** \n",
    "<br> {points: 1}\n",
    "\n",
    "`filter` and `select` the data (`marathon_small`) such that information is only included from participants under the age of 35 and only contains the columns needed for the plot.\n",
    "\n",
    "*Hint: `bmi` is already given to you. What else do we want to plot?*\n",
    "\n",
    "*Name the result of filtering `marathon_age`, and name the result of selecting `marathon_select`*."
   ]
  },
  {
   "cell_type": "code",
   "execution_count": null,
   "metadata": {
    "deletable": false,
    "nbgrader": {
     "cell_type": "code",
     "checksum": "b433cbe086c45d9c621f7aaaa92b3c4b",
     "grade": false,
     "grade_id": "cell-806aa79f3e6fa7fe",
     "locked": false,
     "schema_version": 3,
     "solution": true
    }
   },
   "outputs": [],
   "source": [
    "# ... <- filter(marathon_small, ... < 35)\n",
    "# ... <- ...(marathon_age, bmi, ...)\n",
    "\n",
    "# Take the code above and fill in the ...\n",
    "# Once finished, copy and replace the fail(). \n",
    "\n",
    "# your code here\n",
    "fail() # No Answer - remove if you provide an answer\n",
    "head(marathon_age)\n",
    "head(marathon_select)"
   ]
  },
  {
   "cell_type": "code",
   "execution_count": null,
   "metadata": {
    "deletable": false,
    "editable": false,
    "nbgrader": {
     "cell_type": "code",
     "checksum": "c2b66ae611cdf2b670958d87f7634753",
     "grade": true,
     "grade_id": "cell-1a313685beceed6a",
     "locked": true,
     "points": 1,
     "schema_version": 3,
     "solution": false
    }
   },
   "outputs": [],
   "source": [
    "test_1.6()"
   ]
  },
  {
   "cell_type": "markdown",
   "metadata": {
    "deletable": false,
    "editable": false,
    "nbgrader": {
     "cell_type": "markdown",
     "checksum": "3514e3fe6f7ccd156619629360bb14dc",
     "grade": false,
     "grade_id": "cell-2f50469b147fe4dc",
     "locked": true,
     "schema_version": 3,
     "solution": false,
     "task": false
    }
   },
   "source": [
    "**Question 1.7** \n",
    "<br> {points: 1}\n",
    "\n",
    "Mutate the data frame (`marathon_select`) to create a new column called: `km5_time_minutes`. \n",
    "\n",
    "*Note: we will be selecting once again the specific columns we want to include in our data frame.*\n",
    "\n",
    "*Name the result after creating the new column `marathon_mutate`, and name the result after selecting the columns used for plotting `marathon_exact`.*"
   ]
  },
  {
   "cell_type": "code",
   "execution_count": null,
   "metadata": {
    "deletable": false,
    "nbgrader": {
     "cell_type": "code",
     "checksum": "37b4a648b64dd391f9b0bb6318dabf0b",
     "grade": false,
     "grade_id": "cell-b08900047b925166",
     "locked": false,
     "schema_version": 3,
     "solution": true
    }
   },
   "outputs": [],
   "source": [
    "# ... <- mutate(marathon_select, km5_time_minutes = ... / ...) \n",
    "# ... <- select(..., ..., km5_time_minutes)\n",
    "\n",
    "# Take the code above and fill in the ...\n",
    "# Once finished, copy and replace the fail(). \n",
    "\n",
    "# your code here\n",
    "fail() # No Answer - remove if you provide an answer\n",
    "head(marathon_mutate)\n",
    "head(marathon_exact)"
   ]
  },
  {
   "cell_type": "code",
   "execution_count": null,
   "metadata": {
    "deletable": false,
    "editable": false,
    "nbgrader": {
     "cell_type": "code",
     "checksum": "7dc443bbb41fdfd9af48e377e31522c9",
     "grade": true,
     "grade_id": "cell-fb3b4f7db2ccce40",
     "locked": true,
     "points": 1,
     "schema_version": 3,
     "solution": false
    }
   },
   "outputs": [],
   "source": [
    "test_1.7()"
   ]
  },
  {
   "cell_type": "markdown",
   "metadata": {
    "deletable": false,
    "editable": false,
    "nbgrader": {
     "cell_type": "markdown",
     "checksum": "25496d80bdc2ac03407d6a6dff1b495d",
     "grade": false,
     "grade_id": "cell-9980e4781dfca899",
     "locked": true,
     "schema_version": 3,
     "solution": false,
     "task": false
    }
   },
   "source": [
    "**Question 1.8** \n",
    "<br> {points: 1}\n",
    "\n",
    "Lastly, generate a scatter plot. Assign your plot to an object called `marathon_plot`. \n",
    "\n",
    "Ensure that your axis labels are human-readable (do not leave them as default column names)."
   ]
  },
  {
   "cell_type": "code",
   "execution_count": null,
   "metadata": {
    "deletable": false,
    "editable": false,
    "nbgrader": {
     "cell_type": "code",
     "checksum": "fdc0fdba8bb49fe9b4a6e0adf1452d7a",
     "grade": false,
     "grade_id": "cell-726db133ec981b52",
     "locked": true,
     "schema_version": 3,
     "solution": false,
     "task": false
    }
   },
   "outputs": [],
   "source": [
    "# code to set-up plot size\n",
    "library(repr)\n",
    "options(repr.plot.width = 8, repr.plot.height = 8)"
   ]
  },
  {
   "cell_type": "code",
   "execution_count": null,
   "metadata": {
    "deletable": false,
    "nbgrader": {
     "cell_type": "code",
     "checksum": "c5c8ccdc55cd1b804c3d0add8e126685",
     "grade": false,
     "grade_id": "cell-98f2cd52592effe7",
     "locked": false,
     "schema_version": 3,
     "solution": true
    }
   },
   "outputs": [],
   "source": [
    "# marathon_plot <- ...(marathon_exact, aes(x = ..., y = ...)) + \n",
    "#   ..._point() + \n",
    "#   xlab(...) + \n",
    "#   ...(...)\n",
    "\n",
    "# Take the code above and fill in the ...\n",
    "# Once finished, copy and replace the fail(). \n",
    "# As shown in the first line, remember to name your plot: marathon_plot\n",
    "\n",
    "\n",
    "# your code here\n",
    "fail() # No Answer - remove if you provide an answer"
   ]
  },
  {
   "cell_type": "code",
   "execution_count": null,
   "metadata": {
    "deletable": false,
    "editable": false,
    "nbgrader": {
     "cell_type": "code",
     "checksum": "8860ced7da28c7855ac192d20abc2f02",
     "grade": false,
     "grade_id": "cell-12ea5d8d73fb8908",
     "locked": true,
     "schema_version": 3,
     "solution": false,
     "task": false
    }
   },
   "outputs": [],
   "source": [
    "# Run this cell to see what your scatterplot looks like!\n",
    "marathon_plot"
   ]
  },
  {
   "cell_type": "code",
   "execution_count": null,
   "metadata": {
    "deletable": false,
    "editable": false,
    "nbgrader": {
     "cell_type": "code",
     "checksum": "5b4ad05497592766a8692c733720e1ff",
     "grade": true,
     "grade_id": "cell-d9530f4ffebdcdc4",
     "locked": true,
     "points": 1,
     "schema_version": 3,
     "solution": false
    }
   },
   "outputs": [],
   "source": [
    "test_1.8()"
   ]
  },
  {
   "cell_type": "markdown",
   "metadata": {
    "deletable": false,
    "editable": false,
    "nbgrader": {
     "cell_type": "markdown",
     "checksum": "4c5d8e7c6333dcc48dbfd442270caaa7",
     "grade": false,
     "grade_id": "cell-038b816fda3debe7",
     "locked": true,
     "schema_version": 3,
     "solution": false,
     "task": false
    }
   },
   "source": [
    "*Note: the warning message above tells us the number of rows that had missing data in the data set, and that these rows were not plotted. When you see something like this, you should stop and think, do I expect missing rows in my data? Sometimes the answer is yes, sometimes it is no. It depends on the data set, and you as the Data Scientist must know the answer to this. How would you determine the answer? By talking to those who collected the data and/or researching where the data came from, for example.*"
   ]
  },
  {
   "cell_type": "markdown",
   "metadata": {
    "deletable": false,
    "editable": false,
    "nbgrader": {
     "cell_type": "markdown",
     "checksum": "0d00adb39de8afb2c8e7f70415458e53",
     "grade": false,
     "grade_id": "cell-dccdf4d2112fe1a2",
     "locked": true,
     "schema_version": 3,
     "solution": false
    }
   },
   "source": [
    "**Question 1.9** \n",
    "<br> {points: 3}\n",
    "\n",
    "Which option below **best** describes the plot above? One or more may be correct.\n",
    "\n",
    "A. There is no relationship between BMI and the time it takes runners under the age of 35 to complete a 5 km race. \n",
    "\n",
    "B. For runners under 35, we see that as BMI increases so does the time it takes to complete a 5 km race. This suggests that there is a positive relationship between these two variables for runners under 35 in this data set. \n",
    "\n",
    "C. For runners under 35, we see that as BMI increases the time it takes to complete a 5 km decreases. This suggests that there is a negative relationship between these two variables for runners under 35 in this data set.\n",
    "\n",
    "D. For runners under 35, we see that as BMI decreases the time it takes to complete a 5 km race increases. This suggests that there is a negative relationship between these two variables for runners under 35 in this data set.\n",
    "\n",
    "*Assign your answer to an object called `answer1.9`. Make sure to write the uppercase letter for the answer you have chosen and surround the letter with quotes.*"
   ]
  },
  {
   "cell_type": "code",
   "execution_count": null,
   "metadata": {
    "deletable": false,
    "nbgrader": {
     "cell_type": "code",
     "checksum": "3c1540857ca1930d287c46fdcdd4f658",
     "grade": false,
     "grade_id": "cell-60a176d22d144d14",
     "locked": false,
     "schema_version": 3,
     "solution": true,
     "task": false
    }
   },
   "outputs": [],
   "source": [
    "# Make sure the correct answer is an uppercase letter. \n",
    "# Surround your answer with quotation marks.\n",
    "# Replace the fail() with your answer. \n",
    "\n",
    "# your code here\n",
    "fail() # No Answer - remove if you provide an answer"
   ]
  },
  {
   "cell_type": "code",
   "execution_count": null,
   "metadata": {
    "deletable": false,
    "editable": false,
    "nbgrader": {
     "cell_type": "code",
     "checksum": "8b49436509dec02549c99b9e59a988d9",
     "grade": true,
     "grade_id": "cell-ea3ffe9c476dc109",
     "locked": true,
     "points": 3,
     "schema_version": 3,
     "solution": false,
     "task": false
    }
   },
   "outputs": [],
   "source": [
    "# Here we check whether you have the correct object name(s). However,\n",
    "# all other tests were intentionally hidden so that you can practice deciding \n",
    "# when you have the correct answer.\n",
    "test_that(\"Did not create an object named answer1.9\", {\n",
    "    expect_true(exists(\"answer1.9\")) \n",
    "})\n"
   ]
  },
  {
   "cell_type": "markdown",
   "metadata": {
    "deletable": false,
    "editable": false,
    "nbgrader": {
     "cell_type": "markdown",
     "checksum": "29a5d6bb7a9564b3c05626356782713a",
     "grade": false,
     "grade_id": "cell-b324b8cf4a4cfdb7",
     "locked": true,
     "schema_version": 3,
     "solution": false
    }
   },
   "source": [
    "**Question 1.10**\n",
    "<br> {points: 1}\n",
    "\n",
    "Now explore the relationship between the **age** of all runners and the time taken to complete the 5 km run (in minutes again). Using the original `marathon_small` data frame, mutate the `km5_time_seconds` column such that it is in minutes. Save the resulting data frame to an object called `marathon_small_mins`.\n",
    "\n",
    "Next, create a scatter plot (similar to the one in Question 1.9) but this time have `age` on the x-axis. Assign your plot to an object called `age_vs_time`.\n",
    "\n",
    "There is a lot missing from the cell below (no hints were given). Try working on it on your own before looking at earlier questions in this tutorial or worksheet_01. "
   ]
  },
  {
   "cell_type": "code",
   "execution_count": null,
   "metadata": {
    "deletable": false,
    "nbgrader": {
     "cell_type": "code",
     "checksum": "516e1b5baa103a19b90a17a1434fb552",
     "grade": false,
     "grade_id": "cell-c22a955cd4404c5b",
     "locked": false,
     "schema_version": 3,
     "solution": true,
     "task": false
    }
   },
   "outputs": [],
   "source": [
    "# your code here\n",
    "fail() # No Answer - remove if you provide an answer\n",
    "age_vs_time"
   ]
  },
  {
   "cell_type": "code",
   "execution_count": null,
   "metadata": {
    "deletable": false,
    "editable": false,
    "nbgrader": {
     "cell_type": "code",
     "checksum": "cfe3537b57dc90a1e3062d6b104d89df",
     "grade": true,
     "grade_id": "cell-4d1c3570e13e2bf5",
     "locked": true,
     "points": 1,
     "schema_version": 3,
     "solution": false,
     "task": false
    }
   },
   "outputs": [],
   "source": [
    "test_1.10()"
   ]
  },
  {
   "cell_type": "markdown",
   "metadata": {
    "deletable": false,
    "editable": false,
    "nbgrader": {
     "cell_type": "markdown",
     "checksum": "411a921217d9e0ce6e588c1d9b763990",
     "grade": false,
     "grade_id": "cell-9d31aa288903a9ea",
     "locked": true,
     "schema_version": 3,
     "solution": false
    }
   },
   "source": [
    "**Question 1.11**\n",
    "<br> {points: 3}\n",
    "\n",
    "In the plot above, we can see a positive relationship between age and time taken to complete a 5 km run. Is this relationship strong (points closely follow a line/path) or weak (points are more widely scattered)? \n",
    "\n",
    "Assign your answer (either `\"weak\"` or `\"strong\"`) to an object called `answer1.11`. Make sure to write in all lower-case and surround your answer with quotes."
   ]
  },
  {
   "cell_type": "code",
   "execution_count": null,
   "metadata": {
    "deletable": false,
    "nbgrader": {
     "cell_type": "code",
     "checksum": "b83ee93c69666366c86394fb305efe61",
     "grade": false,
     "grade_id": "cell-233ead150bde1b4c",
     "locked": false,
     "schema_version": 3,
     "solution": true,
     "task": false
    }
   },
   "outputs": [],
   "source": [
    "# your code here\n",
    "fail() # No Answer - remove if you provide an answer"
   ]
  },
  {
   "cell_type": "code",
   "execution_count": null,
   "metadata": {
    "deletable": false,
    "editable": false,
    "nbgrader": {
     "cell_type": "code",
     "checksum": "663d92e17a612aab986d438448ec5be6",
     "grade": true,
     "grade_id": "cell-9e2ae295dbdda179",
     "locked": true,
     "points": 3,
     "schema_version": 3,
     "solution": false,
     "task": false
    }
   },
   "outputs": [],
   "source": [
    "# Here we check whether you have the correct object name(s). However,\n",
    "# all other tests were intentionally hidden so that you can practice deciding \n",
    "# when you have the correct answer.\n",
    "test_that(\"Did not create an object named answer1.11\", {\n",
    "    expect_true(exists(\"answer1.11\")) \n",
    "})\n"
   ]
  },
  {
   "cell_type": "markdown",
   "metadata": {
    "deletable": false,
    "editable": false,
    "nbgrader": {
     "cell_type": "markdown",
     "checksum": "6074d95e14dc2d1c2b44edb5daae2c41",
     "grade": false,
     "grade_id": "cell-06f94c611090c6cd",
     "locked": true,
     "schema_version": 3,
     "solution": false,
     "task": false
    }
   },
   "source": [
    "## 2. Bike-Sharing\n",
    "\n",
    "Climate change, and solutions to mitigate it, is currently on the tongues and minds of many people. One healthy and environmentally friendly transportation alternative that has been recently gaining popularity is bike-sharing. Apart from their extensive real-world applications in improving health and creating more climate-friendly transit, the data generated by these bike-sharing systems makes them great for research. In contrast to bus and subway transit systems, bike-share transit systems precisely document where a trip starts, where it ends, and how long it lasts, for each individual using the system. This level of individual traceability may allow for better detection of mobility patterns in cities and possible detection of important events.\n",
    "\n",
    "Today, we will be analyzing [data obtained from Capital Bikeshare](http://archive.ics.uci.edu/ml/datasets/Bike+Sharing+Dataset#), a bike-sharing system from Washington, DC. The temperature data (in units of degrees Celsius) has been normalized from the original range so that all values fall between 0 and 1 (a common data processing technique helpful for some machine/statistical learning tools). Our goal is to determine if there is a relationship between temperature and the number of people renting bikes during the Spring (March 20th - June 21st). "
   ]
  },
  {
   "cell_type": "markdown",
   "metadata": {
    "deletable": false,
    "editable": false,
    "nbgrader": {
     "cell_type": "markdown",
     "checksum": "768b970c8d07f38a1c065600f69267c4",
     "grade": false,
     "grade_id": "cell-de815a806cde9546",
     "locked": true,
     "schema_version": 3,
     "solution": false
    }
   },
   "source": [
    "**Question 2.1** Multiple Choice\n",
    "<br> {points: 1}\n",
    "\n",
    "In comparison to bike-sharing systems, why aren't other modes of transportation as useful when it comes to acquiring data?\n",
    "\n",
    "A. Not as fast. \n",
    "\n",
    "B. Documentation isn't as precise. \n",
    "\n",
    "C. Not as environmentally friendly. \n",
    "\n",
    "D. Bus drivers don't cooperate. \n",
    "\n",
    "*Assign your answer to an object called: `answer2.1`. Make sure the correct answer is an uppercase letter.*"
   ]
  },
  {
   "cell_type": "code",
   "execution_count": null,
   "metadata": {
    "deletable": false,
    "nbgrader": {
     "cell_type": "code",
     "checksum": "d26f423a2ad48260465f7dd1c0d10978",
     "grade": false,
     "grade_id": "cell-2cf1c56a2c4f28cb",
     "locked": false,
     "schema_version": 3,
     "solution": true
    }
   },
   "outputs": [],
   "source": [
    "# Make sure the correct answer is an uppercase letter. \n",
    "# Surround your answer with quotation marks.\n",
    "# Replace the fail() with your answer.\n",
    "\n",
    "# your code here\n",
    "fail() # No Answer - remove if you provide an answer"
   ]
  },
  {
   "cell_type": "code",
   "execution_count": null,
   "metadata": {
    "deletable": false,
    "editable": false,
    "nbgrader": {
     "cell_type": "code",
     "checksum": "398a76aefd6c54a8d472379eb12ca2e4",
     "grade": true,
     "grade_id": "cell-d06d98ba907d1977",
     "locked": true,
     "points": 1,
     "schema_version": 3,
     "solution": false
    }
   },
   "outputs": [],
   "source": [
    "test_2.1()"
   ]
  },
  {
   "cell_type": "markdown",
   "metadata": {
    "deletable": false,
    "editable": false,
    "nbgrader": {
     "cell_type": "markdown",
     "checksum": "c792114757d9d75e712697eb8f6b5d62",
     "grade": false,
     "grade_id": "cell-33dc10c33586506f",
     "locked": true,
     "schema_version": 3,
     "solution": false
    }
   },
   "source": [
    "**Question 2.2** Multiple Choice\n",
    "<br> {points: 1}\n",
    "\n",
    "What are the units for the normalized temperature?\n",
    "\n",
    "A. Kelvin\n",
    "\n",
    "B. Fahrenheit \n",
    "\n",
    "C. Celsius \n",
    "\n",
    "*Assign your answer to an object called: `answer2.2`. Make sure the correct answer is an uppercase letter.*"
   ]
  },
  {
   "cell_type": "code",
   "execution_count": null,
   "metadata": {
    "deletable": false,
    "nbgrader": {
     "cell_type": "code",
     "checksum": "94da00ded6e37f059aca78fd97463622",
     "grade": false,
     "grade_id": "cell-82289416080754b6",
     "locked": false,
     "schema_version": 3,
     "solution": true
    }
   },
   "outputs": [],
   "source": [
    "# Make sure the correct answer is an uppercase letter. \n",
    "# Surround your answer with quotation marks.\n",
    "# Replace the fail() with your answer.\n",
    "\n",
    "# your code here\n",
    "fail() # No Answer - remove if you provide an answer"
   ]
  },
  {
   "cell_type": "code",
   "execution_count": null,
   "metadata": {
    "deletable": false,
    "editable": false,
    "nbgrader": {
     "cell_type": "code",
     "checksum": "92718237234280624ba5a0a6649337b6",
     "grade": true,
     "grade_id": "cell-ed10ec095b72acec",
     "locked": true,
     "points": 1,
     "schema_version": 3,
     "solution": false
    }
   },
   "outputs": [],
   "source": [
    "test_2.2()"
   ]
  },
  {
   "cell_type": "markdown",
   "metadata": {
    "deletable": false,
    "editable": false,
    "nbgrader": {
     "cell_type": "markdown",
     "checksum": "ab875c782c348616ae7476440552d22a",
     "grade": false,
     "grade_id": "cell-040c21f8f09b9a99",
     "locked": true,
     "schema_version": 3,
     "solution": false
    }
   },
   "source": [
    "**Question 2.3** \n",
    "<br> {points: 1}\n",
    "\n",
    "Since we already have `tidyverse` loaded and ready to use, the first step is to read our new data. Add in the missing function and symbol to complete the cell below. Make sure to assign your answer to `bike_data`. "
   ]
  },
  {
   "cell_type": "code",
   "execution_count": null,
   "metadata": {
    "deletable": false,
    "nbgrader": {
     "cell_type": "code",
     "checksum": "e0dc768c1f601659ff9013503aff3afe",
     "grade": false,
     "grade_id": "cell-725376dd29896d14",
     "locked": false,
     "schema_version": 3,
     "solution": true
    }
   },
   "outputs": [],
   "source": [
    "# bike_data <- ...(\"bike_share.csv\")\n",
    "\n",
    "# Take the code above and fill in the ...\n",
    "# Once finished, copy and replace fail(). \n",
    "# As shown in the hint, remember to name your answer: bike_data\n",
    "\n",
    "# your code here\n",
    "fail() # No Answer - remove if you provide an answer\n",
    "head(bike_data)"
   ]
  },
  {
   "cell_type": "code",
   "execution_count": null,
   "metadata": {
    "deletable": false,
    "editable": false,
    "nbgrader": {
     "cell_type": "code",
     "checksum": "c7f080827c6c06b9ba695412be839ceb",
     "grade": true,
     "grade_id": "cell-48666a8a98614042",
     "locked": true,
     "points": 1,
     "schema_version": 3,
     "solution": false
    }
   },
   "outputs": [],
   "source": [
    "test_2.3()"
   ]
  },
  {
   "cell_type": "markdown",
   "metadata": {
    "deletable": false,
    "editable": false,
    "nbgrader": {
     "cell_type": "markdown",
     "checksum": "2a239459dd243085b08eb070a1afafdd",
     "grade": false,
     "grade_id": "cell-8c4775182d73800e",
     "locked": true,
     "schema_version": 3,
     "solution": false
    }
   },
   "source": [
    "**Question 2.4** \n",
    "<br> {points: 1}\n",
    "\n",
    "Mutate the data such that you have a new column called `total_users`. \n",
    "This column would be the sum of the `casual_users` and the `registered_users`. "
   ]
  },
  {
   "cell_type": "code",
   "execution_count": null,
   "metadata": {
    "deletable": false,
    "nbgrader": {
     "cell_type": "code",
     "checksum": "e3772c4a9319ba8024a48f049ff8e3e3",
     "grade": false,
     "grade_id": "cell-9685158f545889b2",
     "locked": false,
     "schema_version": 3,
     "solution": true
    }
   },
   "outputs": [],
   "source": [
    "# bike_mutate <- ...(bike_data, ...)\n",
    "\n",
    "# Take the code above and fill in the ...\n",
    "# Once finished, copy and replace fail().\n",
    "# As shown in the hint, remember to name your answer: bike_mutate\n",
    "\n",
    "# your code here\n",
    "fail() # No Answer - remove if you provide an answer\n",
    "head(bike_mutate)"
   ]
  },
  {
   "cell_type": "code",
   "execution_count": null,
   "metadata": {
    "deletable": false,
    "editable": false,
    "nbgrader": {
     "cell_type": "code",
     "checksum": "27dd5e8f5445b3caa0623aa8983c7088",
     "grade": true,
     "grade_id": "cell-72591b6954d26444",
     "locked": true,
     "points": 1,
     "schema_version": 3,
     "solution": false
    }
   },
   "outputs": [],
   "source": [
    "test_2.4()"
   ]
  },
  {
   "cell_type": "markdown",
   "metadata": {
    "deletable": false,
    "editable": false,
    "nbgrader": {
     "cell_type": "markdown",
     "checksum": "41f91855b301bbea1168c866af0b995d",
     "grade": false,
     "grade_id": "cell-b31394a784dbe759",
     "locked": true,
     "schema_version": 3,
     "solution": false
    }
   },
   "source": [
    "**Question 2.5** \n",
    "<br> {points: 1}\n",
    "\n",
    "Filter out the data to include information about rentals that were only made during `Spring`. Name your answer `bike_filter`. "
   ]
  },
  {
   "cell_type": "code",
   "execution_count": null,
   "metadata": {
    "deletable": false,
    "nbgrader": {
     "cell_type": "code",
     "checksum": "21ce64dfac41bfbf74ab04c31aed0a4a",
     "grade": false,
     "grade_id": "cell-cb6259eedeecf3e8",
     "locked": false,
     "schema_version": 3,
     "solution": true
    }
   },
   "outputs": [],
   "source": [
    "# bike_filter <- ...(bike_mutate, ... == \"Spring\")\n",
    "\n",
    "# Take the code above and fill in the ...\n",
    "# Once finished, copy and replace the fail(). \n",
    "# As shown in the hint, remember to name your answer: bike_filter\n",
    "\n",
    "# your code here\n",
    "fail() # No Answer - remove if you provide an answer\n",
    "head(bike_filter)"
   ]
  },
  {
   "cell_type": "code",
   "execution_count": null,
   "metadata": {
    "deletable": false,
    "editable": false,
    "nbgrader": {
     "cell_type": "code",
     "checksum": "67c0464180f97ebf54b8ffd07dc81b6a",
     "grade": true,
     "grade_id": "cell-ae4372c768287348",
     "locked": true,
     "points": 1,
     "schema_version": 3,
     "solution": false
    }
   },
   "outputs": [],
   "source": [
    "test_2.5()"
   ]
  },
  {
   "cell_type": "markdown",
   "metadata": {
    "deletable": false,
    "editable": false,
    "nbgrader": {
     "cell_type": "markdown",
     "checksum": "31e0ce7c061a3d40b6ae7801236549cd",
     "grade": false,
     "grade_id": "cell-f6bdff9fe357f6d6",
     "locked": true,
     "schema_version": 3,
     "solution": false
    }
   },
   "source": [
    "**Question 2.6** \n",
    "<br> {points: 3}\n",
    "\n",
    "Select the columns from the data that we wish to plot. \n",
    "\n",
    "*Hint: if you have forgetten, scroll up and re-read the introduction to this exercise.* Name your answer `bike_select`. "
   ]
  },
  {
   "cell_type": "code",
   "execution_count": null,
   "metadata": {
    "deletable": false,
    "nbgrader": {
     "cell_type": "code",
     "checksum": "912e618ce38d64d297029255af96dfcd",
     "grade": false,
     "grade_id": "cell-d6bf8ba0fdbf99e1",
     "locked": false,
     "schema_version": 3,
     "solution": true
    }
   },
   "outputs": [],
   "source": [
    "# bike_select <- select(...)\n",
    "\n",
    "# Take the code above and fill in the ...\n",
    "# Once finished, copy and replace the fail(). \n",
    "# As shown in the hint, remember to name your answer: bike_select\n",
    "\n",
    "# your code here\n",
    "fail() # No Answer - remove if you provide an answer\n",
    "head(bike_select)"
   ]
  },
  {
   "cell_type": "code",
   "execution_count": null,
   "metadata": {
    "deletable": false,
    "editable": false,
    "nbgrader": {
     "cell_type": "code",
     "checksum": "0fd9b7cdfd81981f4f994266c180990f",
     "grade": true,
     "grade_id": "cell-ea4089cd0490790f",
     "locked": true,
     "points": 3,
     "schema_version": 3,
     "solution": false
    }
   },
   "outputs": [],
   "source": [
    "# Here we check whether you have the correct object name(s). However,\n",
    "# all other tests were intentionally hidden so that you can practice deciding \n",
    "# when you have the correct answer.\n",
    "test_that(\"Did not create an object named bike_select\", {\n",
    "    expect_true(exists(\"bike_select\")) \n",
    "})\n"
   ]
  },
  {
   "cell_type": "markdown",
   "metadata": {
    "deletable": false,
    "editable": false,
    "nbgrader": {
     "cell_type": "markdown",
     "checksum": "8974458fda82e9e911840185d8bf4820",
     "grade": false,
     "grade_id": "cell-d998752e81ad7842",
     "locked": true,
     "schema_version": 3,
     "solution": false
    }
   },
   "source": [
    "**Question 2.7** \n",
    "<br> {points: 3}\n",
    "\n",
    "Plot the data as a scatter plot. \n",
    "\n",
    "There is a lot missing from the cell below (no hints were given). Try completing this on your own before looking back at any previous exercises. Assign your plot to an object called `bike_plot_spring`.\n",
    "\n",
    "*Hint: what do you think should be the x-axis / y-axis? Don't forget to label your axes!*"
   ]
  },
  {
   "cell_type": "code",
   "execution_count": null,
   "metadata": {
    "deletable": false,
    "nbgrader": {
     "cell_type": "code",
     "checksum": "656c1846b876a5d6d33b3a648cea4d4b",
     "grade": false,
     "grade_id": "cell-d96ff44fe30428be",
     "locked": false,
     "schema_version": 3,
     "solution": true,
     "task": false
    }
   },
   "outputs": [],
   "source": [
    "# Replace the fail() with your line of code (answer). \n",
    "# Remember to name your plot: bike_plot_spring\n",
    "# Make sure to use xlab() and ylab() to label your axes. \n",
    "\n",
    "# your code here\n",
    "fail() # No Answer - remove if you provide an answer\n",
    "bike_plot_spring"
   ]
  },
  {
   "cell_type": "code",
   "execution_count": null,
   "metadata": {
    "deletable": false,
    "editable": false,
    "nbgrader": {
     "cell_type": "code",
     "checksum": "4fc260480074c8d42990164d55b067b4",
     "grade": true,
     "grade_id": "cell-15aff75b717f53ee",
     "locked": true,
     "points": 3,
     "schema_version": 3,
     "solution": false
    }
   },
   "outputs": [],
   "source": [
    "# Here we check whether you have the correct object name(s). However,\n",
    "# all other tests were intentionally hidden so that you can practice deciding \n",
    "# when you have the correct answer.\n",
    "test_that(\"Did not create a plot named bike_plot_spring\", {\n",
    "    expect_true(exists(\"bike_plot_spring\")) \n",
    "})\n"
   ]
  },
  {
   "cell_type": "markdown",
   "metadata": {
    "deletable": false,
    "editable": false,
    "nbgrader": {
     "cell_type": "markdown",
     "checksum": "257eec6cd355979db3090f0729bed461",
     "grade": false,
     "grade_id": "cell-d9337eb068332ba1",
     "locked": true,
     "schema_version": 3,
     "solution": false
    }
   },
   "source": [
    "**Question 2.8** \n",
    "<br> {points: 3}\n",
    "\n",
    "In 1-2 sentences, describe whether there is a relationship between the variables observed in the scatterplot of the data for the spring season. Comment on the direction and the strength of the relationship (if there is one), and how the variables change with respect to each other (if they do)."
   ]
  },
  {
   "cell_type": "markdown",
   "metadata": {
    "deletable": false,
    "nbgrader": {
     "cell_type": "markdown",
     "checksum": "463cd8c689356fd414f2ff297441236d",
     "grade": true,
     "grade_id": "cell-b82402894d84e002",
     "locked": false,
     "points": 3,
     "schema_version": 3,
     "solution": true
    }
   },
   "source": [
    "DOUBLE CLICK TO EDIT **THIS CELL** AND REPLACE THIS TEXT WITH YOUR ANSWER."
   ]
  },
  {
   "cell_type": "markdown",
   "metadata": {
    "deletable": false,
    "editable": false,
    "nbgrader": {
     "cell_type": "markdown",
     "checksum": "52d3ca5bcd0e348edddfe6d9b553207c",
     "grade": false,
     "grade_id": "cell-496c01803b66e800",
     "locked": true,
     "schema_version": 3,
     "solution": false,
     "task": false
    }
   },
   "source": [
    "## 3. Bike-Sharing Continued\n",
    "\n",
    "For this exercise, we are going to continue working with Capital Bikeshare dataset. This part of the tutorial will focus on your understanding of how the functions work and test your ability to write code without hints. Note that we have also intentionally decreased the number of auto-graded questions for the remainder of the tutorial.\n",
    "\n",
    "Unlike the previous exercise, we now want to determine if there is a relationship between temperature and the amount of people renting bikes during Fall (September 22nd - December 21st).  \n",
    "\n",
    "*Try completing this Exercise from start to finish without any outside help. If you are struggling with a particular question, look at Exercise 2 for assistance.*"
   ]
  },
  {
   "cell_type": "markdown",
   "metadata": {
    "deletable": false,
    "editable": false,
    "nbgrader": {
     "cell_type": "markdown",
     "checksum": "0c266ef20f66a333f663612506248715",
     "grade": false,
     "grade_id": "cell-7eda544cbea0bea4",
     "locked": true,
     "schema_version": 3,
     "solution": false
    }
   },
   "source": [
    "**Question 3.1** Multiple Choice\n",
    "<br> {points: 1}\n",
    "\n",
    "Which column is going to be filtered during this exercise?\n",
    "\n",
    "A. `casual_users`\n",
    "\n",
    "B. `season`\n",
    "\n",
    "C. `temperature`\n",
    "\n",
    "D. `total_users`\n",
    "\n",
    "*Assign your answer to an object called `answer3.1`. Make sure to write a capital letter for the answer you have chosen.*"
   ]
  },
  {
   "cell_type": "code",
   "execution_count": null,
   "metadata": {
    "deletable": false,
    "nbgrader": {
     "cell_type": "code",
     "checksum": "35fd4b2bf028bbed0864f7fdf5c9a2a5",
     "grade": false,
     "grade_id": "cell-27f3db6e4f543f8b",
     "locked": false,
     "schema_version": 3,
     "solution": true
    }
   },
   "outputs": [],
   "source": [
    "# Make sure the correct answer is an uppercase letter. \n",
    "# Surround your answer with quotation marks.\n",
    "# Replace fail() with your answer. \n",
    "\n",
    "# your code here\n",
    "fail() # No Answer - remove if you provide an answer"
   ]
  },
  {
   "cell_type": "code",
   "execution_count": null,
   "metadata": {
    "deletable": false,
    "editable": false,
    "nbgrader": {
     "cell_type": "code",
     "checksum": "25a7005d0cbbc63998fa94f66ed288ac",
     "grade": true,
     "grade_id": "cell-df34058ddcf40d34",
     "locked": true,
     "points": 1,
     "schema_version": 3,
     "solution": false
    }
   },
   "outputs": [],
   "source": [
    "test_3.1()"
   ]
  },
  {
   "cell_type": "markdown",
   "metadata": {
    "deletable": false,
    "editable": false,
    "nbgrader": {
     "cell_type": "markdown",
     "checksum": "8c1670998ba7fdb0843c7bf58ac56ac5",
     "grade": false,
     "grade_id": "cell-ead9fd93f7cc5803",
     "locked": true,
     "schema_version": 3,
     "solution": false
    }
   },
   "source": [
    "**Question 3.2** \n",
    "<br> {points: 3}\n",
    "\n",
    "Recall that the `tidyverse` package has loaded and the data has already been read. The next step is to mutate the data such that we have information on all the users. Make sure to save your answer to an object called `bike_mutated`."
   ]
  },
  {
   "cell_type": "code",
   "execution_count": null,
   "metadata": {
    "deletable": false,
    "nbgrader": {
     "cell_type": "code",
     "checksum": "0e0e338057ae221b3caede3bffabf048",
     "grade": false,
     "grade_id": "cell-39303850daf03030",
     "locked": false,
     "schema_version": 3,
     "solution": true,
     "task": false
    }
   },
   "outputs": [],
   "source": [
    "# Remember to name your answer: bike_mutated\n",
    "# Replace fail() with your line of code. \n",
    "\n",
    "# your code here\n",
    "fail() # No Answer - remove if you provide an answer\n",
    "head(bike_mutated)"
   ]
  },
  {
   "cell_type": "code",
   "execution_count": null,
   "metadata": {
    "deletable": false,
    "editable": false,
    "nbgrader": {
     "cell_type": "code",
     "checksum": "3a2a90374dd367244ac405864704160c",
     "grade": true,
     "grade_id": "cell-d078f12a02af4811",
     "locked": true,
     "points": 3,
     "schema_version": 3,
     "solution": false,
     "task": false
    }
   },
   "outputs": [],
   "source": [
    "# Here we check whether you have the correct object name(s). However,\n",
    "# all other tests were intentionally hidden so that you can practice deciding \n",
    "# when you have the correct answer.\n",
    "test_that(\"Did not create an object named bike_mutated\", {\n",
    "    expect_true(exists(\"bike_mutated\")) \n",
    "})\n"
   ]
  },
  {
   "cell_type": "markdown",
   "metadata": {
    "deletable": false,
    "editable": false,
    "nbgrader": {
     "cell_type": "markdown",
     "checksum": "e81a0941d98e77f17103ad7600db9d5b",
     "grade": false,
     "grade_id": "cell-67669610134de359",
     "locked": true,
     "schema_version": 3,
     "solution": false
    }
   },
   "source": [
    "**Question 3.3** \n",
    "<br> {points: 3}\n",
    "\n",
    "Filter out the data to include information about rentals that were only made during `Fall` - assign this data frame to an object called `bike_filtered`. Next, select for the columns we wish to plot. Name your answer `bike_selected`. "
   ]
  },
  {
   "cell_type": "code",
   "execution_count": null,
   "metadata": {
    "deletable": false,
    "nbgrader": {
     "cell_type": "code",
     "checksum": "3e9319ab4b94294eb3b4dc4ca114e85b",
     "grade": false,
     "grade_id": "cell-d81822a09ef9e8d1",
     "locked": false,
     "schema_version": 3,
     "solution": true,
     "task": false
    }
   },
   "outputs": [],
   "source": [
    "# Remember to name your answer: bike_selected\n",
    "# Replace fail() with your line of code. \n",
    "\n",
    "# your code here\n",
    "fail() # No Answer - remove if you provide an answer\n",
    "head(bike_selected)"
   ]
  },
  {
   "cell_type": "code",
   "execution_count": null,
   "metadata": {
    "deletable": false,
    "editable": false,
    "nbgrader": {
     "cell_type": "code",
     "checksum": "c38d733852caa129c77c8fe81289a8e1",
     "grade": true,
     "grade_id": "cell-f83d8178b0983eaf",
     "locked": true,
     "points": 3,
     "schema_version": 3,
     "solution": false,
     "task": false
    }
   },
   "outputs": [],
   "source": [
    "# Here we check whether you have the correct object name(s). However,\n",
    "# all other tests were intentionally hidden so that you can practice deciding \n",
    "# when you have the correct answer.\n",
    "test_that(\"Did not create an object named bike_filtered\", {\n",
    "    expect_true(exists(\"bike_filtered\")) \n",
    "})\n",
    "test_that(\"Did not create an object named bike_selected\", {\n",
    "    expect_true(exists(\"bike_selected\")) \n",
    "})\n"
   ]
  },
  {
   "cell_type": "markdown",
   "metadata": {
    "deletable": false,
    "editable": false,
    "nbgrader": {
     "cell_type": "markdown",
     "checksum": "ff8f7f38dcc342301be81ef504fefb4f",
     "grade": false,
     "grade_id": "cell-9ec71f0f8c57613d",
     "locked": true,
     "schema_version": 3,
     "solution": false
    }
   },
   "source": [
    "**Question 3.4** \n",
    "<br> {points: 3}\n",
    "\n",
    "Plot the data as a scatter plot. Assign your plot to an object called `bike_plot_fall`."
   ]
  },
  {
   "cell_type": "code",
   "execution_count": null,
   "metadata": {
    "deletable": false,
    "nbgrader": {
     "cell_type": "code",
     "checksum": "bf68f8005b5d4c490837cc3fb773f168",
     "grade": false,
     "grade_id": "cell-68a6cb066e2250a9",
     "locked": false,
     "schema_version": 3,
     "solution": true,
     "task": false
    }
   },
   "outputs": [],
   "source": [
    "# Replace the fail() with your line of code (answer). \n",
    "# Remember to name your plot: bike_plot_fall\n",
    "# Label your x-axis: Temperature (Celsius)\n",
    "# Label your y-axis: Total Users (Casual and Registered)\n",
    "\n",
    "# your code here\n",
    "fail() # No Answer - remove if you provide an answer\n",
    "bike_plot_fall"
   ]
  },
  {
   "cell_type": "code",
   "execution_count": null,
   "metadata": {
    "deletable": false,
    "editable": false,
    "nbgrader": {
     "cell_type": "code",
     "checksum": "3e724675993a11b8e28cc5952d23421a",
     "grade": true,
     "grade_id": "cell-bed51905509ec5ba",
     "locked": true,
     "points": 3,
     "schema_version": 3,
     "solution": false,
     "task": false
    }
   },
   "outputs": [],
   "source": [
    "# Here we check whether you have the correct object name(s). However,\n",
    "# all other tests were intentionally hidden so that you can practice deciding \n",
    "# when you have the correct answer.\n",
    "test_that(\"Did not create an object named bike_plot_fall\", {\n",
    "    expect_true(exists(\"bike_plot_fall\")) \n",
    "})\n"
   ]
  },
  {
   "cell_type": "markdown",
   "metadata": {
    "deletable": false,
    "editable": false,
    "nbgrader": {
     "cell_type": "markdown",
     "checksum": "cdc09a57aef5d23fe30922f47b381e9b",
     "grade": false,
     "grade_id": "cell-0fd8f05654f1a761",
     "locked": true,
     "schema_version": 3,
     "solution": false
    }
   },
   "source": [
    "**Question 3.5** \n",
    "<br> {points: 3}\n",
    "\n",
    "In one sentence, describe whether there is a relationship observed in the scatter plot for the fall season, and if so, the direction of that relationship."
   ]
  },
  {
   "cell_type": "markdown",
   "metadata": {
    "deletable": false,
    "nbgrader": {
     "cell_type": "markdown",
     "checksum": "937f375f64e55e7d1e3a5cff8d97209e",
     "grade": true,
     "grade_id": "cell-5cffa9bce11917de",
     "locked": false,
     "points": 3,
     "schema_version": 3,
     "solution": true
    }
   },
   "source": [
    "DOUBLE CLICK TO EDIT **THIS CELL** AND REPLACE THIS TEXT WITH YOUR ANSWER."
   ]
  },
  {
   "cell_type": "markdown",
   "metadata": {
    "deletable": false,
    "editable": false,
    "nbgrader": {
     "cell_type": "markdown",
     "checksum": "633a1920c9542cd361515dd3d095a3ff",
     "grade": false,
     "grade_id": "cell-5a83e5402e223b72",
     "locked": true,
     "schema_version": 3,
     "solution": false
    }
   },
   "source": [
    "**Question 3.6** \n",
    "<br> {points: 3}\n",
    "\n",
    "Looking at the scatter plots for the spring and the fall seasons, what difference(s) do you see? Based on these two plots, what might you recommend to this company to increase their users?"
   ]
  },
  {
   "cell_type": "markdown",
   "metadata": {
    "deletable": false,
    "nbgrader": {
     "cell_type": "markdown",
     "checksum": "6dbc83959f49c9927e365a1fd2f50868",
     "grade": true,
     "grade_id": "cell-a7bf24f74901d418",
     "locked": false,
     "points": 3,
     "schema_version": 3,
     "solution": true
    }
   },
   "source": [
    "DOUBLE CLICK TO EDIT **THIS CELL** AND REPLACE THIS TEXT WITH YOUR ANSWER."
   ]
  }
 ],
 "metadata": {
  "kernelspec": {
   "display_name": "R",
   "language": "R",
   "name": "ir"
  },
  "language_info": {
   "codemirror_mode": "r",
   "file_extension": ".r",
   "mimetype": "text/x-r-source",
   "name": "R",
   "pygments_lexer": "r",
   "version": "4.0.0"
  }
 },
 "nbformat": 4,
 "nbformat_minor": 2
}
