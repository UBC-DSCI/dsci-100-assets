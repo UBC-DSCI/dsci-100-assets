{
 "cells": [
  {
   "cell_type": "markdown",
   "metadata": {
    "deletable": false,
    "editable": false,
    "nbgrader": {
     "cell_type": "markdown",
     "checksum": "446a06563324027227464dc3773e9d12",
     "grade": false,
     "grade_id": "cell-f4ccfb3ce6b69253",
     "locked": true,
     "schema_version": 3,
     "solution": false,
     "task": false
    }
   },
   "source": [
    "# Tutorial 4: Effective Data Visualization \n",
    "\n",
    "### Lecture and Tutorial Learning Goals:\n",
    "\n",
    "Expand your data visualization knowledge and tool set beyond what we have seen and practiced so far. We will move beyond scatter plots and learn other effective ways to visualize data, as well as some general rules of thumb to follow when creating visualizations. All visualization tasks this week will be applied to real world data sets. Remember, it is an iterative process to answer questions and each step taken should have a good reason behind it.  \n",
    "\n",
    "After completing this week's lecture and tutorial work, you will be able to:\n",
    "\n",
    "- Describe when to use the following kinds of visualizations:\n",
    "    - scatter plots\n",
    "    - line plots\n",
    "    - bar plots\n",
    "    - histogram plots\n",
    "- Given a dataset and a question, select from the above plot types to create a visualization that best answers the question\n",
    "- Given a visualization and a question, evaluate the effectiveness of the visualization and suggest improvements to better answer the question\n",
    "- Identify rules of thumb for creating effective visualizations\n",
    "- Define the three key aspects of ggplot objects:\n",
    "    - aesthetic mappings\n",
    "    - geometric objects\n",
    "    - scales\n",
    "- Use the `ggplot2` library in R to create and refine the above visualizations using:\n",
    "    - geometric objects: `geom_point`, `geom_line`, `geom_histogram`, `geom_bar`, `geom_vline`, `geom_hline`\n",
    "    - scales: `scale_x_continuous`, `scale_y_continuous`\n",
    "    - aesthetic mappings: `x`, `y`, `fill`, `colour`, `shape`\n",
    "    - labelling: `xlab`, `ylab`, `labs`\n",
    "    - font control and legend positioning: `theme`\n",
    "    - flipping axes: `coord_flip`\n",
    "    - subplots: `facet_grid`\n",
    "- Describe the difference in raster and vector output formats\n",
    "- Use `ggsave` to save visualizations in `.png` and `.svg` format\n",
    "\n",
    "Any place you see `...`, you must fill in the function, variable, or data to complete the code. Replace `fail()` with your completed code and run the cell!"
   ]
  },
  {
   "cell_type": "code",
   "execution_count": null,
   "metadata": {
    "deletable": false,
    "editable": false,
    "nbgrader": {
     "cell_type": "code",
     "checksum": "8c455fcc6b1632bfeb39644b4530b11f",
     "grade": false,
     "grade_id": "cell-483076aac3dc5fa7",
     "locked": true,
     "schema_version": 3,
     "solution": false,
     "task": false
    }
   },
   "outputs": [],
   "source": [
    "### Run this cell before continuing. \n",
    "\n",
    "library(tidyverse)\n",
    "library(repr)\n",
    "source(\"tests_tutorial_04.R\")\n",
    "source(\"cleanup_tutorial_04.R\")"
   ]
  },
  {
   "cell_type": "markdown",
   "metadata": {
    "deletable": false,
    "editable": false,
    "nbgrader": {
     "cell_type": "markdown",
     "checksum": "b6ed585990862a08134b0a2ae6de8d84",
     "grade": false,
     "grade_id": "cell-d0104ab32afbab28",
     "locked": true,
     "schema_version": 3,
     "solution": false
    }
   },
   "source": [
    "**Question 0.1** \n",
    "<br> {points: 1}\n",
    "\n",
    "Match the following definitions with the corresponding aesthetic mapping or function used in R:\n",
    "\n",
    "*Definitions*\n",
    "\n",
    "A. Prevents a chart from being stacked. It preserves the vertical position of a plot while adjusting the horizontal position. \n",
    "\n",
    "B. In bar charts, this aesthetic fills in the bars by a specific colour or separates the counts by a variable different from the x-axis. \n",
    "\n",
    "C. In bar charts, it outlines the bars but in scatterplots, it fills in the points (colouring them based on a particular variable aside from the x/y-axis). \n",
    "\n",
    "D. This makes the height of each bar equal to the number of cases in each group, and it is incompatible with mapping values to the y aesthetic. This stat basically allows the y-axis to represent particular values from the data instead of just counts. \n",
    "\n",
    "E. This aesthetic allows further visualization of data by varying data points by shape (modifying their shape based on a particular variable aside from the x/y-axis).\n",
    "\n",
    "F. Labels the y-axis. \n",
    "\n",
    "\n",
    "*Aesthetics and Functions*\n",
    "\n",
    "1. `colour`\n",
    "2. `dodge`\n",
    "3. `fill`\n",
    "4. `identity`\n",
    "5. `ylab`\n",
    "6. `shape`\n",
    "\n",
    "For every description, create an object using the letter associated with the definition and assign it to the corresponding number from the list above. For example: `B <- 1`"
   ]
  },
  {
   "cell_type": "code",
   "execution_count": null,
   "metadata": {
    "deletable": false,
    "nbgrader": {
     "cell_type": "code",
     "checksum": "c52d4de109ec38deb792e7f00fb23900",
     "grade": false,
     "grade_id": "cell-b22b3db664eb1abc",
     "locked": false,
     "schema_version": 3,
     "solution": true
    }
   },
   "outputs": [],
   "source": [
    "# Assign your answer to a letter: A, B, C, D, E, F\n",
    "# Make sure the correct answer is a numerical number from 1-6 \n",
    "# Replace the fail() with your answer. \n",
    "# for example, we could match B with 1 by doing\n",
    "# B <- 1\n",
    "\n",
    "# your code here\n",
    "fail() # No Answer - remove if you provide an answer"
   ]
  },
  {
   "cell_type": "code",
   "execution_count": null,
   "metadata": {
    "deletable": false,
    "editable": false,
    "nbgrader": {
     "cell_type": "code",
     "checksum": "020bccac327efc952989c35593d4d65d",
     "grade": true,
     "grade_id": "cell-471b37b1ecc45a3a",
     "locked": true,
     "points": 1,
     "schema_version": 3,
     "solution": false
    }
   },
   "outputs": [],
   "source": [
    "test_0.1()"
   ]
  },
  {
   "cell_type": "markdown",
   "metadata": {
    "deletable": false,
    "editable": false,
    "nbgrader": {
     "cell_type": "markdown",
     "checksum": "f668ed66af206f94f351034e6fac6bfe",
     "grade": false,
     "grade_id": "cell-7b8ea6ab55690b06",
     "locked": true,
     "schema_version": 3,
     "solution": false,
     "task": false
    }
   },
   "source": [
    "**Question 0.2** True or False:\n",
    "<br> {points: 1}\n",
    "\n",
    "We should save a plot as an `.svg` file if we want to be able to rescale it without losing quality.\n",
    "\n",
    "Assign your answer (either \"true\" or \"false\") to a variable named `answer0.2`.\n"
   ]
  },
  {
   "cell_type": "code",
   "execution_count": null,
   "metadata": {
    "deletable": false,
    "nbgrader": {
     "cell_type": "code",
     "checksum": "450adffa785131f426510a997c9111b2",
     "grade": false,
     "grade_id": "cell-8608b643ace9768c",
     "locked": false,
     "schema_version": 3,
     "solution": true,
     "task": false
    }
   },
   "outputs": [],
   "source": [
    "# Make sure the correct answer is written in lower-case (true / false)\n",
    "# Surround your answer with quotation marks.\n",
    "# Replace the fail() with your answer.\n",
    " \n",
    "# your code here\n",
    "fail() # No Answer - remove if you provide an answer"
   ]
  },
  {
   "cell_type": "code",
   "execution_count": null,
   "metadata": {
    "deletable": false,
    "editable": false,
    "nbgrader": {
     "cell_type": "code",
     "checksum": "1179abb9a5dd20f7a5464934caffb640",
     "grade": true,
     "grade_id": "cell-dd04803a3b061830",
     "locked": true,
     "points": 1,
     "schema_version": 3,
     "solution": false,
     "task": false
    }
   },
   "outputs": [],
   "source": [
    "test_0.2()"
   ]
  },
  {
   "cell_type": "markdown",
   "metadata": {
    "deletable": false,
    "editable": false,
    "nbgrader": {
     "cell_type": "markdown",
     "checksum": "615a2bf067137d1304c071b6932d6af0",
     "grade": false,
     "grade_id": "cell-b38e048867240520",
     "locked": true,
     "schema_version": 3,
     "solution": false,
     "task": false
    }
   },
   "source": [
    "## 1. Data on Personal Medical Costs \n",
    "\n",
    "As we saw in the worksheet, data scientists work in all types of organizations and with all kinds of problems. One of these types of organizations are companies in the private sector that work with health data. Today we will be looking at data on personal medical costs. There are varying factors that affect health and consequently medical costs. Our goal for today is to determine how are variables related to the medical costs billed by health insurance companies. \n",
    "\n",
    "\n",
    "To analyze this, we will be looking at a dataset that includes the following columns:\n",
    "\n",
    "* `age`: age of primary beneficiary\n",
    "* `sex`: insurance contractor gender: female, male\n",
    "* `bmi`: body mass index, providing an understanding of body, weights that are relatively high or low relative to height, objective index of body weight (kg/$m^{2}$) using the ratio of height to weight, ideally 18.5 to 24.9\n",
    "* `children`: number of children covered by health insurance / number of dependents\n",
    "* `smoker`: smoking\n",
    "* `region`: the beneficiary's residential area in the US: northeast, southeast, southwest, northwest.\n",
    "* `charges`: individual medical costs billed by health insurance\n",
    "\n",
    "*This dataset, was taken from the [collection of Data Sets](https://github.com/stedy/Machine-Learning-with-R-datasets) created and curated for the [Machine Learning with R](https://www.packtpub.com/big-data-and-business-intelligence/machine-learning-r) book by Brett Lantz.*"
   ]
  },
  {
   "cell_type": "markdown",
   "metadata": {
    "deletable": false,
    "editable": false,
    "nbgrader": {
     "cell_type": "markdown",
     "checksum": "7c5b29085cd3e6439d4eee2b05b52e2f",
     "grade": false,
     "grade_id": "cell-c5c6d19c1567adf8",
     "locked": true,
     "schema_version": 3,
     "solution": false
    }
   },
   "source": [
    "**Question 1.1** Yes or No: \n",
    "<br> {points: 1}\n",
    "\n",
    "Based on the information given in the cell above, do you think the column `charges` includes quantitative, numerical data? \n",
    "\n",
    "*Assign your answer (either \"yes\" or \"no\") to an object called `answer1.1`.*"
   ]
  },
  {
   "cell_type": "code",
   "execution_count": null,
   "metadata": {
    "deletable": false,
    "nbgrader": {
     "cell_type": "code",
     "checksum": "fb6e1e13f295074e44c138d50462e4f2",
     "grade": false,
     "grade_id": "cell-8da0d830fc8f8b0c",
     "locked": false,
     "schema_version": 3,
     "solution": true
    }
   },
   "outputs": [],
   "source": [
    "# Make sure the correct answer is written in lower-case (yes / no)\n",
    "# Surround your answer with quotation marks.\n",
    "# Replace the fail() with your answer. \n",
    "\n",
    "# your code here\n",
    "fail() # No Answer - remove if you provide an answer"
   ]
  },
  {
   "cell_type": "code",
   "execution_count": null,
   "metadata": {
    "deletable": false,
    "editable": false,
    "nbgrader": {
     "cell_type": "code",
     "checksum": "ede87adc8352e412089ec8721669a2b0",
     "grade": true,
     "grade_id": "cell-37a00841b56391ad",
     "locked": true,
     "points": 1,
     "schema_version": 3,
     "solution": false
    }
   },
   "outputs": [],
   "source": [
    "test_1.1()"
   ]
  },
  {
   "cell_type": "markdown",
   "metadata": {
    "deletable": false,
    "editable": false,
    "nbgrader": {
     "cell_type": "markdown",
     "checksum": "7eb7a29acd7747bc0848bb72bafcc414",
     "grade": false,
     "grade_id": "cell-4325b0202bdfb877",
     "locked": true,
     "schema_version": 3,
     "solution": false
    }
   },
   "source": [
    "**Question 1.2** Multiple Choice:\n",
    "<br> {points: 1}\n",
    "\n",
    "Assuming overplotting is not an issue, which plot would be the most effective to compare the relationship of `age` and `charges`?\n",
    "\n",
    "A. Scatterplot \n",
    "\n",
    "B. Stacked Bar Plot \n",
    "\n",
    "C. Bar Plot \n",
    "\n",
    "D. Histogram \n",
    "\n",
    "*Assign your answer to an object called `answer1.2`.*"
   ]
  },
  {
   "cell_type": "code",
   "execution_count": null,
   "metadata": {
    "deletable": false,
    "nbgrader": {
     "cell_type": "code",
     "checksum": "a40045dca3dc65038f190c93af8b799c",
     "grade": false,
     "grade_id": "cell-776947ebfdd46a40",
     "locked": false,
     "schema_version": 3,
     "solution": true
    }
   },
   "outputs": [],
   "source": [
    "# Make sure the correct answer is an uppercase letter. \n",
    "# Surround your answer with quotation marks.\n",
    "# Replace the fail() with your answer. \n",
    "\n",
    "# your code here\n",
    "fail() # No Answer - remove if you provide an answer"
   ]
  },
  {
   "cell_type": "code",
   "execution_count": null,
   "metadata": {
    "deletable": false,
    "editable": false,
    "nbgrader": {
     "cell_type": "code",
     "checksum": "06ce8c9ed033846103a66ceff424f555",
     "grade": true,
     "grade_id": "cell-d344b7c03dae8345",
     "locked": true,
     "points": 1,
     "schema_version": 3,
     "solution": false
    }
   },
   "outputs": [],
   "source": [
    "test_1.2()"
   ]
  },
  {
   "cell_type": "markdown",
   "metadata": {
    "deletable": false,
    "editable": false,
    "nbgrader": {
     "cell_type": "markdown",
     "checksum": "de832cb4458661ec2299bbc834c642cc",
     "grade": false,
     "grade_id": "cell-ab7e6749d3d47397",
     "locked": true,
     "schema_version": 3,
     "solution": false
    }
   },
   "source": [
    "**Question 1.3**\n",
    "<br> {points: 1}\n",
    "\n",
    "Read the `insurance.csv` file in the `data/` folder and look at the last 6 individuals presented. \n",
    "\n",
    "*Assign your answer to an object called `insurance`.*"
   ]
  },
  {
   "cell_type": "code",
   "execution_count": null,
   "metadata": {
    "deletable": false,
    "nbgrader": {
     "cell_type": "code",
     "checksum": "b77d84c574acfc45455f76825815cd8f",
     "grade": false,
     "grade_id": "cell-ace20e7d125da6cc",
     "locked": false,
     "schema_version": 3,
     "solution": true
    }
   },
   "outputs": [],
   "source": [
    "# your code here\n",
    "fail() # No Answer - remove if you provide an answer\n",
    "tail(insurance)"
   ]
  },
  {
   "cell_type": "code",
   "execution_count": null,
   "metadata": {
    "deletable": false,
    "editable": false,
    "nbgrader": {
     "cell_type": "code",
     "checksum": "b51f9a954e61d7dbd4fdff22374b73c2",
     "grade": true,
     "grade_id": "cell-662935f6d4ccb428",
     "locked": true,
     "points": 1,
     "schema_version": 3,
     "solution": false
    }
   },
   "outputs": [],
   "source": [
    "test_1.3()"
   ]
  },
  {
   "cell_type": "markdown",
   "metadata": {
    "deletable": false,
    "editable": false,
    "nbgrader": {
     "cell_type": "markdown",
     "checksum": "f5264c6f0c765565d423e3844e816014",
     "grade": false,
     "grade_id": "cell-8c60df934c35dd9a",
     "locked": true,
     "schema_version": 3,
     "solution": false
    }
   },
   "source": [
    "**Question 1.4** \n",
    "<br> {points: 3}\n",
    "\n",
    "Looking over the loaded data shown above, what observations can you make about medical charges and age? How about medical charges and BMI? Finally, what about medical charges and smoking? \n",
    "\n",
    "Also, comment on whether our observations might change if we visualize the data? And/or whether visualizing the data might allow us to more easily make observations about the relationships in the data as opposed to trying to make them directly from the data table?\n",
    "\n",
    "Answer in the cell below."
   ]
  },
  {
   "cell_type": "markdown",
   "metadata": {
    "deletable": false,
    "nbgrader": {
     "cell_type": "markdown",
     "checksum": "461e90160ad679e460221e1c3128100f",
     "grade": true,
     "grade_id": "cell-62d184813aadd4b3",
     "locked": false,
     "points": 3,
     "schema_version": 3,
     "solution": true
    }
   },
   "source": [
    "DOUBLE CLICK TO EDIT **THIS CELL** AND REPLACE THIS TEXT WITH YOUR ANSWER."
   ]
  },
  {
   "cell_type": "markdown",
   "metadata": {
    "deletable": false,
    "editable": false,
    "nbgrader": {
     "cell_type": "markdown",
     "checksum": "f96e6673eaf3b6a60cce8e6c279463e6",
     "grade": false,
     "grade_id": "cell-865d9fd68151c0a0",
     "locked": true,
     "schema_version": 3,
     "solution": false
    }
   },
   "source": [
    "**Question 1.5**\n",
    "<br> {points: 1}\n",
    "\n",
    "According to the National Heart, Lung and Blood Institute of the US: \"The higher your BMI, the higher your risk for certain diseases such as heart disease, high blood pressure, type 2 diabetes, gallstones, breathing problems, and certain cancers\". \n",
    "\n",
    "Based on this information, we can hypothesize that individuals with a higher BMI are likely to have more medical costs. Let's use our data and see if this holds true. Create a scatter plot of `charges` (y-axis) versus `bmi` (x-axis).\n",
    "\n",
    "In the scaffolding we provide below, we suggest that you set `alpha` to a value between 0.2 and 0.4. `alpha` sets the transparency of points on a scatter plot, and increasing transparencing of points is one tool you can use to deal with over plotting issues.\n",
    "\n",
    "*Assign your answer to an object called `bmi_plot`. Make sure to label your axes appropriately.*"
   ]
  },
  {
   "cell_type": "code",
   "execution_count": null,
   "metadata": {
    "deletable": false,
    "nbgrader": {
     "cell_type": "code",
     "checksum": "4e995e8c937eaa9a3b4421f3d371b371",
     "grade": false,
     "grade_id": "cell-fa480888e071a7ee",
     "locked": false,
     "schema_version": 3,
     "solution": true
    }
   },
   "outputs": [],
   "source": [
    "options(repr.plot.width = 8, repr.plot.height = 8) #Remember to set your plot sizes to an appropiate size\n",
    "\n",
    "#... <- insurance %>%\n",
    "#    ggplot(aes(x = ..., y =  ...)) + \n",
    "#        geom_...(alpha = ...) + # Deals with the transparency of the points, set it to an appropiate value\n",
    "#        xlab(...) +\n",
    "#        ylab(...) +\n",
    "#        ggtitle(...)\n",
    "\n",
    "# your code here\n",
    "fail() # No Answer - remove if you provide an answer\n",
    "bmi_plot"
   ]
  },
  {
   "cell_type": "code",
   "execution_count": null,
   "metadata": {
    "deletable": false,
    "editable": false,
    "nbgrader": {
     "cell_type": "code",
     "checksum": "b7e95044f516c66f69cff7b19b34ce2f",
     "grade": true,
     "grade_id": "cell-b6e79c0645925ade",
     "locked": true,
     "points": 1,
     "schema_version": 3,
     "solution": false
    }
   },
   "outputs": [],
   "source": [
    "test_1.5()"
   ]
  },
  {
   "cell_type": "markdown",
   "metadata": {
    "deletable": false,
    "editable": false,
    "nbgrader": {
     "cell_type": "markdown",
     "checksum": "c43e4c71ae8742f918262a12dc24dd97",
     "grade": false,
     "grade_id": "cell-128a1023c3d0bc57",
     "locked": true,
     "schema_version": 3,
     "solution": false
    }
   },
   "source": [
    "**Question 1.6**\n",
    "<br> {points: 3}\n",
    "\n",
    "Analysis: Comment on the effectiveness of the plot. Take into consideration the rules of thumb discussed in lecture. Also comment on what could be improved for this plot and what is done correctly. \n",
    "\n",
    "Answer in the cell below."
   ]
  },
  {
   "cell_type": "markdown",
   "metadata": {
    "deletable": false,
    "nbgrader": {
     "cell_type": "markdown",
     "checksum": "9b2daa8b91edbccdb89ea0adecd51245",
     "grade": true,
     "grade_id": "cell-a3673af9bcf8288b",
     "locked": false,
     "points": 3,
     "schema_version": 3,
     "solution": true
    }
   },
   "source": [
    "DOUBLE CLICK TO EDIT **THIS CELL** AND REPLACE THIS TEXT WITH YOUR ANSWER."
   ]
  },
  {
   "cell_type": "markdown",
   "metadata": {
    "deletable": false,
    "editable": false,
    "nbgrader": {
     "cell_type": "markdown",
     "checksum": "c4afa0237518af2f5531d9e7075fb8a9",
     "grade": false,
     "grade_id": "cell-9a854e3ee84b2fe0",
     "locked": true,
     "schema_version": 3,
     "solution": false
    }
   },
   "source": [
    "**Question 1.7**\n",
    "<br> {points: 3}\n",
    "\n",
    "Analysis: What do you observe? Do the data suggest that there might be evidence that BMI may affect the medical costs of individuals?\n",
    "\n",
    "Answer in the cell below. "
   ]
  },
  {
   "cell_type": "markdown",
   "metadata": {
    "deletable": false,
    "nbgrader": {
     "cell_type": "markdown",
     "checksum": "fe3c8775d82b1cccd32d0a856917600b",
     "grade": true,
     "grade_id": "cell-93c1d5cb7d1bcbea",
     "locked": false,
     "points": 3,
     "schema_version": 3,
     "solution": true
    }
   },
   "source": [
    "DOUBLE CLICK TO EDIT **THIS CELL** AND REPLACE THIS TEXT WITH YOUR ANSWER."
   ]
  },
  {
   "cell_type": "markdown",
   "metadata": {
    "deletable": false,
    "editable": false,
    "nbgrader": {
     "cell_type": "markdown",
     "checksum": "f4245163d30028cb8e7f7d61b7b7233d",
     "grade": false,
     "grade_id": "cell-8e216e802a268da5",
     "locked": true,
     "schema_version": 3,
     "solution": false
    }
   },
   "source": [
    "**Question 1.8**\n",
    "<br> {points: 3}\n",
    "\n",
    "Again, based on information from the National Heart, Lung and Blood Institute of the US, smoking cigarettes is said to be a risk factor for obesity. Create the same plot as you did in **Question 1.5** but this time add the `colour` aesthetic to observe if smoking might affect the body mass of individuals. Also, use `labs` to format your legend title.\n",
    "\n",
    "*Assign your answer to an object called `smoke_plot`. Make sure to label your axes appropriately.*"
   ]
  },
  {
   "cell_type": "code",
   "execution_count": null,
   "metadata": {
    "deletable": false,
    "nbgrader": {
     "cell_type": "code",
     "checksum": "3d6c3ad65b2984040688f97ef1190896",
     "grade": true,
     "grade_id": "cell-2128ed1aa06e5391",
     "locked": false,
     "points": 3,
     "schema_version": 3,
     "solution": true
    }
   },
   "outputs": [],
   "source": [
    "# your code here\n",
    "fail() # No Answer - remove if you provide an answer\n",
    "smoke_plot"
   ]
  },
  {
   "cell_type": "code",
   "execution_count": null,
   "metadata": {
    "deletable": false,
    "editable": false,
    "nbgrader": {
     "cell_type": "code",
     "checksum": "5289f5e9d5b2d5124b3d64055fc8a208",
     "grade": true,
     "grade_id": "cell-a5dc720f9e5813bd",
     "locked": true,
     "points": 3,
     "schema_version": 3,
     "solution": false,
     "task": false
    }
   },
   "outputs": [],
   "source": [
    "# Most of the tests for this question are hidden. You have to decide whether you've created a good visualization!\n",
    "# Make sure you label all your axes and legend with human-readable labels\n",
    "# You may want to pass alpha = 0.4 to the scatter geometric object to make the scatter points translucent\n",
    "# (just for your own ease of visualization; you don't have to and we won't check that when grading)\n",
    "\n",
    "# here's one test to at least ensure you named the plot object correctly:\n",
    "expect_true(exists(\"smoke_plot\"))\n",
    "\n"
   ]
  },
  {
   "cell_type": "markdown",
   "metadata": {
    "deletable": false,
    "editable": false,
    "nbgrader": {
     "cell_type": "markdown",
     "checksum": "9b48f4e66adbd86b6c8515e1424c21f7",
     "grade": false,
     "grade_id": "cell-4cbc5d12976da647",
     "locked": true,
     "schema_version": 3,
     "solution": false
    }
   },
   "source": [
    "**Question 1.9.0** (Analyzing the Graph) True or False: \n",
    "<br> {points: 1}\n",
    "\n",
    "Smokers generally have a lower BMI than non-smokers. \n",
    "\n",
    "*Assign your answer to an object called `answer1.9.0`.*"
   ]
  },
  {
   "cell_type": "code",
   "execution_count": null,
   "metadata": {
    "deletable": false,
    "nbgrader": {
     "cell_type": "code",
     "checksum": "f978409ffaa782f3c0082022cc2a3d63",
     "grade": false,
     "grade_id": "cell-4302d377b0fc06e3",
     "locked": false,
     "schema_version": 3,
     "solution": true
    }
   },
   "outputs": [],
   "source": [
    "# Make sure the correct answer is written in lower-case (true / false)\n",
    "# Surround your answer with quotation marks.\n",
    "# Replace the fail() with your answer. \n",
    "\n",
    "# your code here\n",
    "fail() # No Answer - remove if you provide an answer"
   ]
  },
  {
   "cell_type": "code",
   "execution_count": null,
   "metadata": {
    "deletable": false,
    "editable": false,
    "nbgrader": {
     "cell_type": "code",
     "checksum": "beb658da3bc36dd5b042d3dfc156ac29",
     "grade": true,
     "grade_id": "cell-9d85f368775a121b",
     "locked": true,
     "points": 1,
     "schema_version": 3,
     "solution": false
    }
   },
   "outputs": [],
   "source": [
    "test_1.9.0()"
   ]
  },
  {
   "cell_type": "markdown",
   "metadata": {
    "deletable": false,
    "editable": false,
    "nbgrader": {
     "cell_type": "markdown",
     "checksum": "65ba75f3aa0fb34d4f0de267c3131c1c",
     "grade": false,
     "grade_id": "cell-9548b0b41e3b4700",
     "locked": true,
     "schema_version": 3,
     "solution": false
    }
   },
   "source": [
    "**Question 1.9.1** (Analyzing the Graph) True or False: \n",
    "<br> {points: 1}\n",
    "\n",
    "Smokers generally have higher medical charges than non-smokers.\n",
    "\n",
    "*Assign your answer to an object called `answer1.9.1`.*"
   ]
  },
  {
   "cell_type": "code",
   "execution_count": null,
   "metadata": {
    "deletable": false,
    "nbgrader": {
     "cell_type": "code",
     "checksum": "d46d54eb9005996d88719cf87a06b59b",
     "grade": false,
     "grade_id": "cell-b9f9c54000889b5c",
     "locked": false,
     "schema_version": 3,
     "solution": true
    }
   },
   "outputs": [],
   "source": [
    "# Make sure the correct answer is written in lower-case (true / false)\n",
    "# Surround your answer with quotation marks.\n",
    "# Replace the fail() with your answer. \n",
    "\n",
    "# your code here\n",
    "fail() # No Answer - remove if you provide an answer"
   ]
  },
  {
   "cell_type": "code",
   "execution_count": null,
   "metadata": {
    "deletable": false,
    "editable": false,
    "nbgrader": {
     "cell_type": "code",
     "checksum": "70556583ee507037f8f91f306648352b",
     "grade": true,
     "grade_id": "cell-b82577eedde24cb1",
     "locked": true,
     "points": 1,
     "schema_version": 3,
     "solution": false
    }
   },
   "outputs": [],
   "source": [
    "test_1.9.1()"
   ]
  },
  {
   "cell_type": "markdown",
   "metadata": {
    "deletable": false,
    "editable": false,
    "nbgrader": {
     "cell_type": "markdown",
     "checksum": "f4ccf1a01863c148d09b3bc06deb213f",
     "grade": false,
     "grade_id": "cell-56d49ae191d3e93f",
     "locked": true,
     "schema_version": 3,
     "solution": false
    }
   },
   "source": [
    "**Question 1.10**\n",
    "<br> {points: 1}\n",
    "\n",
    "Finally, create a bar graph that displays the proportion of smokers for both females and males in the data set. Use sex as the horizontal axis, and colour the bars to differentiate between smokers / nonsmokers. This could, for example, be used help us determine whether we should consider smoking behaviour when exploring whether there is a relationship between sex and medical costs.\n",
    "\n",
    "*Assign your answer to an object called `bar_plot`. Make sure to label your axes appropriately.*"
   ]
  },
  {
   "cell_type": "code",
   "execution_count": null,
   "metadata": {
    "deletable": false,
    "nbgrader": {
     "cell_type": "code",
     "checksum": "9520a71015707f0457b39a992a402e33",
     "grade": false,
     "grade_id": "cell-19a1b424460c544e",
     "locked": false,
     "schema_version": 3,
     "solution": true
    }
   },
   "outputs": [],
   "source": [
    "#... <- insurance %>%\n",
    "#    ggplot(aes(x = ..., fill = ...)) + \n",
    "#    ..._...(position = 'fill') + \n",
    "#    xlab(...) +\n",
    "#    ylab(...) +\n",
    "#    labs(fill = \"Does the person smoke\") +\n",
    "#    ggtitle(...)\n",
    "\n",
    "\n",
    "# your code here\n",
    "fail() # No Answer - remove if you provide an answer\n",
    "bar_plot"
   ]
  },
  {
   "cell_type": "code",
   "execution_count": null,
   "metadata": {
    "deletable": false,
    "editable": false,
    "nbgrader": {
     "cell_type": "code",
     "checksum": "e5d47e2bfa55dca61bdb7f814684ad90",
     "grade": true,
     "grade_id": "cell-37fe64d61b7366b4",
     "locked": true,
     "points": 1,
     "schema_version": 3,
     "solution": false
    }
   },
   "outputs": [],
   "source": [
    "test_1.10()"
   ]
  },
  {
   "cell_type": "markdown",
   "metadata": {
    "deletable": false,
    "editable": false,
    "nbgrader": {
     "cell_type": "markdown",
     "checksum": "61c4fbbc172a649dda877641e1a3cb53",
     "grade": false,
     "grade_id": "cell-426d75901920cc91",
     "locked": true,
     "schema_version": 3,
     "solution": false
    }
   },
   "source": [
    "**Question 1.11**\n",
    "<br> {points: 1}\n",
    "\n",
    "Based on the graph, is the proportion of smokers higher amongst men or women?\n",
    "\n",
    "*Assign your answer to an object called `answer1.11`.*"
   ]
  },
  {
   "cell_type": "code",
   "execution_count": null,
   "metadata": {
    "deletable": false,
    "nbgrader": {
     "cell_type": "code",
     "checksum": "6d7c119732fc8c9a64a7effe4465b1b5",
     "grade": false,
     "grade_id": "cell-123d8e2e2b0e9555",
     "locked": false,
     "schema_version": 3,
     "solution": true
    }
   },
   "outputs": [],
   "source": [
    "# Make sure the correct answer is written in lower-case (male / female)\n",
    "# Surround your answer with quotation marks.\n",
    "# Replace the fail() with your answer. \n",
    "\n",
    "# your code here\n",
    "fail() # No Answer - remove if you provide an answer"
   ]
  },
  {
   "cell_type": "code",
   "execution_count": null,
   "metadata": {
    "deletable": false,
    "editable": false,
    "nbgrader": {
     "cell_type": "code",
     "checksum": "fb30009289168a9d43918b704a47f364",
     "grade": true,
     "grade_id": "cell-204b484044f109f1",
     "locked": true,
     "points": 1,
     "schema_version": 3,
     "solution": false
    }
   },
   "outputs": [],
   "source": [
    "test_1.11()"
   ]
  },
  {
   "cell_type": "markdown",
   "metadata": {
    "deletable": false,
    "editable": false,
    "nbgrader": {
     "cell_type": "markdown",
     "checksum": "82c888ee5dbb5af8cb08dc7ff9f8d543",
     "grade": false,
     "grade_id": "cell-841e1fd7134bfd1c",
     "locked": true,
     "schema_version": 3,
     "solution": false
    }
   },
   "source": [
    "## 2. Color Palettes (beyond the defaults)\n",
    "{points: 3}\n",
    "\n",
    "In the worksheet and this tutorial, you have seen the same colours again and again. These are from the default `ggplot2` color palette. What if you want different colors? We can do this! In R, one of the libraries that provides altenative color palettes is the `RColorBrewer` library. \n",
    "\n",
    "For this question:\n",
    "\n",
    "- Load the `RColorBrewer`library\n",
    "- Print the list of palettes available for you with the `display.brewer.all()` function\n",
    "- You can also print out a list of color blind friendly palettes with `display.brewer.all(colorblindFriendly = T)`\n",
    "- Choose one of the palettes and apply it to the plot whose code is given in the cell below.\n",
    "    - For the fill aesthetic with categorical variable the function is: `scale_fill_brewer(palette = '...')`\n",
    "    - For the fill aesthetic with numeric variable the function is: `scale_fill_distiller(palette = '...')`\n",
    "- Finally, you can also use this [color blindness simulator](https://www.color-blindness.com/coblis-color-blindness-simulator/) to check if your visualizations are color blind friendly\n",
    "\n",
    "You can look more in depth into the documentation of the `scale_fill_*` functions here: https://ggplot2.tidyverse.org/reference/scale_brewer.html\n",
    "\n",
    "*Assign your answer to an object called `diamonds_plot`.*"
   ]
  },
  {
   "cell_type": "code",
   "execution_count": null,
   "metadata": {},
   "outputs": [],
   "source": [
    "## Run this cell and to explore the RColorBrewer features\n",
    "library(RColorBrewer)\n",
    "display.brewer.all()"
   ]
  },
  {
   "cell_type": "code",
   "execution_count": null,
   "metadata": {
    "deletable": false,
    "nbgrader": {
     "cell_type": "code",
     "checksum": "27f2428e99449a9d9e7b8e27abb371d5",
     "grade": true,
     "grade_id": "cell-0b3c9b55db17a5f8",
     "locked": false,
     "points": 3,
     "schema_version": 3,
     "solution": true
    }
   },
   "outputs": [],
   "source": [
    "diamonds_plot <- diamonds %>%\n",
    "    ggplot(aes(x = color, fill = clarity)) + \n",
    "    geom_bar(position = 'fill') +\n",
    "    xlab('Diamond color') +\n",
    "    ylab('Proportion') +\n",
    "    labs(fill = \"Diamond clarity\") \n",
    "\n",
    "#Below, insert your colour palette choice via\n",
    "#... <- diamonds_plot + \n",
    "#       ...(...)\n",
    "\n",
    "\n",
    "# your code here\n",
    "fail() # No Answer - remove if you provide an answer\n",
    "diamonds_plot"
   ]
  },
  {
   "cell_type": "markdown",
   "metadata": {
    "deletable": false,
    "editable": false,
    "nbgrader": {
     "cell_type": "markdown",
     "checksum": "b910ed8a03e1939afa8bc5ed6d3415f8",
     "grade": false,
     "grade_id": "cell-e9106361d22cb189",
     "locked": true,
     "schema_version": 3,
     "solution": false
    }
   },
   "source": [
    "## 3. Fast-Food Chains in the United States (Continued)\n",
    "<br> {points: 6}\n",
    "\n",
    "In Worksheet 04, we explored this data set through some visualizations. Now, it is is all up to you. The goal of this assignment is to create **one** plot that can help you figure out which restaurant to open and where! After that you need to write a paragraph explaining your visualization and why you chose it. Also, explain your conclusion from the visualization and reasoning as to how you came to that conclusion. If you need to bring in outside information to help you answer your question, please feel free to do so.  Finally, if there is some way that you could improve your visualization, but don't yet know how to do it, please explain what you would do if you knew how.\n",
    "\n",
    "In answering this question, there is no need to restrict yourself to the west coast of the USA. Consider all states that you have data for. You have a variety of graphs to choose from, but before starting the assignment, discuss with a partner which plot would be the most optimal to answer this question.\n",
    "\n",
    "<img src=\"mcdonalds.jpg\" width = \"300\"/>\n",
    "\n",
    "\n",
    "Hint: The function `pull` from the `dplyr` package selects a column in a data frame and transforms it into a vector. Note: There are different ways you can complete this question so you don't necessarily need to use `pull` (you may find a solution without using it) but it may be helpful.\n"
   ]
  },
  {
   "cell_type": "code",
   "execution_count": null,
   "metadata": {
    "deletable": false,
    "nbgrader": {
     "cell_type": "code",
     "checksum": "1fb6c4da4abcf9ff90603bacff081d9e",
     "grade": true,
     "grade_id": "cell-2f6cf34c963eb07a",
     "locked": false,
     "points": 3,
     "schema_version": 3,
     "solution": true
    }
   },
   "outputs": [],
   "source": [
    "# write the code for your plot here\n",
    "# your code here\n",
    "fail() # No Answer - remove if you provide an answer"
   ]
  },
  {
   "cell_type": "markdown",
   "metadata": {
    "deletable": false,
    "nbgrader": {
     "cell_type": "markdown",
     "checksum": "d6053f5cf05ede8a5198e92232e1b92e",
     "grade": true,
     "grade_id": "cell-6ac8b7c5b2701b78",
     "locked": false,
     "points": 3,
     "schema_version": 3,
     "solution": true
    }
   },
   "source": [
    "*Write a paragraph explaining your visualization and why you chose it. Also explain your conclusion from the visualization and reasoning as to how you came to that conclusion. If you need to bring in outside information to help you answer your question, please feel free to do so. Finally, if there is some way that you could improve your visualization, but don't yet know how to do it, please explain what you would do if you knew how.*\n",
    "\n",
    "DOUBLE CLICK TO EDIT **THIS CELL** AND REPLACE THIS TEXT WITH YOUR ANSWER."
   ]
  }
 ],
 "metadata": {
  "kernelspec": {
   "display_name": "R",
   "language": "R",
   "name": "ir"
  },
  "language_info": {
   "codemirror_mode": "r",
   "file_extension": ".r",
   "mimetype": "text/x-r-source",
   "name": "R",
   "pygments_lexer": "r",
   "version": "4.0.0"
  }
 },
 "nbformat": 4,
 "nbformat_minor": 2
}
