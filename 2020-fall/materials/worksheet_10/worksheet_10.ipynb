{
 "cells": [
  {
   "cell_type": "markdown",
   "metadata": {
    "deletable": false,
    "editable": false,
    "nbgrader": {
     "cell_type": "markdown",
     "checksum": "a2a2ec25314253f023f93dd83bd0a358",
     "grade": false,
     "grade_id": "cell-4e13769a31cd3f6c",
     "locked": true,
     "schema_version": 3,
     "solution": false,
     "task": false
    }
   },
   "source": [
    "# Worksheet 10 - Clustering\n",
    "\n",
    "### Lecture and Tutorial Learning Goals:\n",
    "\n",
    "After completing this week's lecture and tutorial work, you will be able to:\n",
    "\n",
    "* Describe a case where clustering would be an appropriate tool, and what insight it would bring from the data.\n",
    "* Explain the k-means clustering algorithm.\n",
    "* Interpret the output of a k-means cluster analysis.\n",
    "* Perform k-means clustering in R using k-means\n",
    "* Visualize the output of k-means clustering in R using a coloured scatter plot\n",
    "* Identify when it is necessary to scale variables before clustering and do this using R\n",
    "* Use the elbow method to choose the number of clusters for k-means\n",
    "* Describe advantages, limitations and assumptions of the kmeans clustering algorithm.\n"
   ]
  },
  {
   "cell_type": "code",
   "execution_count": null,
   "metadata": {
    "deletable": false,
    "editable": false,
    "nbgrader": {
     "cell_type": "code",
     "checksum": "bed7edcc8ef816109b5fafe8f5cb9839",
     "grade": false,
     "grade_id": "cell-692894fcc96c281b",
     "locked": true,
     "schema_version": 3,
     "solution": false,
     "task": false
    }
   },
   "outputs": [],
   "source": [
    "### Run this cell before continuing.\n",
    "library(tidyverse)\n",
    "library(forcats)\n",
    "library(repr)\n",
    "library(broom)\n",
    "source('tests_worksheet_10.R')\n",
    "source(\"cleanup_worksheet_10.R\")"
   ]
  },
  {
   "cell_type": "markdown",
   "metadata": {
    "deletable": false,
    "editable": false,
    "nbgrader": {
     "cell_type": "markdown",
     "checksum": "ca10de1604e841c05d1d5f68086a3a5a",
     "grade": false,
     "grade_id": "cell-353d89a0c34b681a",
     "locked": true,
     "schema_version": 3,
     "solution": false,
     "task": false
    }
   },
   "source": [
    "**Question 0.0** Multiple Choice:\n",
    "<br> {points: 1}\n",
    "\n",
    "In which of the following scenarios would clustering methods likely be appropriate?\n",
    "\n",
    "A. Identifying sub-groups of houses according to their house type, value, and geographical location\n",
    "\n",
    "B. Predicting whether a given user will click on an ad on a website\n",
    "\n",
    "C. Segmenting customers based on their preferences to target advertising\n",
    "\n",
    "D. Both A. and B.\n",
    "\n",
    "E. Both A. and C. \n",
    "\n",
    "*Assign your answer to an object called `answer0.0`. Your answer should be a single upper-case character surrounded by quotes.*"
   ]
  },
  {
   "cell_type": "code",
   "execution_count": null,
   "metadata": {
    "deletable": false,
    "nbgrader": {
     "cell_type": "code",
     "checksum": "98f8e9fd12bc6e4c429aeab4f287df0a",
     "grade": false,
     "grade_id": "cell-5dbd8978b6a0a44c",
     "locked": false,
     "schema_version": 3,
     "solution": true
    }
   },
   "outputs": [],
   "source": [
    "# your code here\n",
    "fail() # No Answer - remove if you provide an answer"
   ]
  },
  {
   "cell_type": "code",
   "execution_count": null,
   "metadata": {
    "deletable": false,
    "editable": false,
    "nbgrader": {
     "cell_type": "code",
     "checksum": "502b48b038fc06bf052b3b8cbcc6b861",
     "grade": true,
     "grade_id": "cell-13f71e2d909892e4",
     "locked": true,
     "points": 1,
     "schema_version": 3,
     "solution": false
    }
   },
   "outputs": [],
   "source": [
    "test_0.0()"
   ]
  },
  {
   "cell_type": "markdown",
   "metadata": {
    "deletable": false,
    "editable": false,
    "nbgrader": {
     "cell_type": "markdown",
     "checksum": "207fa2b9113fd3ec35656268aabd12b8",
     "grade": false,
     "grade_id": "cell-ba0b77eef45527d2",
     "locked": true,
     "schema_version": 3,
     "solution": false,
     "task": false
    }
   },
   "source": [
    "**Question 0.1** Multiple Choice:\n",
    "<br> {points: 1}\n",
    "\n",
    "Which step in the description of the Kmeans algorithm below is incorrect?\n",
    "\n",
    "0. Choose the number of clusters\n",
    "\n",
    "1. Randomly assign each of the points to one of the clusters\n",
    "\n",
    "2. Calculate the position for the cluster centre (centroid) for each of the clusters (this is the middle of the points in the cluster, as measured by straight-line distance)\n",
    "\n",
    "3. Re-assign each of the points to the cluster who's centroid is furthest from that point\n",
    "\n",
    "4. Repeat steps 1 - 2 until the cluster centroids don't change very much between iterations\n",
    "\n",
    "*Assign your answer to an object called `answer0.1`. Your answer should be a single numerical character surrounded by quotes.*"
   ]
  },
  {
   "cell_type": "code",
   "execution_count": null,
   "metadata": {
    "deletable": false,
    "nbgrader": {
     "cell_type": "code",
     "checksum": "14c3d242ec6e4c50a48381fb4cfccae7",
     "grade": false,
     "grade_id": "cell-4c524a7e35eb23bb",
     "locked": false,
     "schema_version": 3,
     "solution": true
    }
   },
   "outputs": [],
   "source": [
    "# your code here\n",
    "fail() # No Answer - remove if you provide an answer"
   ]
  },
  {
   "cell_type": "code",
   "execution_count": null,
   "metadata": {
    "deletable": false,
    "editable": false,
    "nbgrader": {
     "cell_type": "code",
     "checksum": "6f5dfb2e8bf6bf040b42ab6c5165768b",
     "grade": true,
     "grade_id": "cell-4ac8aab3f8626a82",
     "locked": true,
     "points": 1,
     "schema_version": 3,
     "solution": false
    }
   },
   "outputs": [],
   "source": [
    "test_0.1()"
   ]
  },
  {
   "cell_type": "markdown",
   "metadata": {
    "deletable": false,
    "editable": false,
    "nbgrader": {
     "cell_type": "markdown",
     "checksum": "a82fcf4d840b36c74f8dd08e52acece2",
     "grade": false,
     "grade_id": "cell-3b5cd50b0518b4d1",
     "locked": true,
     "schema_version": 3,
     "solution": false,
     "task": false
    }
   },
   "source": [
    "## Hoppy Craft Beer\n",
    "\n",
    "Craft beer is a strong market in Canada and the US, and is expanding to other countries as well. If you wanted to get into the craft beer brewing market, you might want to better understand the product landscape. One popular craft beer product is hopped craft beer. Breweries create/label many different kinds of hopped craft beer, but how many different kinds of hopped craft beer are there really when you look at the chemical properties instead of the human labels? \n",
    "\n",
    "We will start to look at the question by looking at a [craft beer data set from Kaggle](https://www.kaggle.com/nickhould/craft-cans#beers.csv). In this data set, we will use the alcoholic content by volume  (`abv` column) and the International bittering units (`ibu` column) as variables to try to cluster the beers."
   ]
  },
  {
   "cell_type": "markdown",
   "metadata": {
    "deletable": false,
    "editable": false,
    "nbgrader": {
     "cell_type": "markdown",
     "checksum": "d3f9b9af91421126213ec2b9d42e8c5f",
     "grade": false,
     "grade_id": "cell-97bd85f0599a8d9d",
     "locked": true,
     "schema_version": 3,
     "solution": false,
     "task": false
    }
   },
   "source": [
    "**Question 1.0** \n",
    "<br> {points: 1}\n",
    "\n",
    "Read in the `beers.csv` data using `read_csv()` and assign it to an object called `beer`. The data is located within the `worksheet_10/data/` folder. \n",
    "\n",
    "*Assign your dataframe answer to an object called `beer`.*"
   ]
  },
  {
   "cell_type": "code",
   "execution_count": null,
   "metadata": {
    "deletable": false,
    "nbgrader": {
     "cell_type": "code",
     "checksum": "13d13be93c92e6077d84768cb15b033c",
     "grade": false,
     "grade_id": "cell-b15ec51dce472f41",
     "locked": false,
     "schema_version": 3,
     "solution": true
    }
   },
   "outputs": [],
   "source": [
    "# your code here\n",
    "fail() # No Answer - remove if you provide an answer\n",
    "head(beer)"
   ]
  },
  {
   "cell_type": "code",
   "execution_count": null,
   "metadata": {
    "deletable": false,
    "editable": false,
    "nbgrader": {
     "cell_type": "code",
     "checksum": "c2dace932ecbdb26d70dc250bd747375",
     "grade": true,
     "grade_id": "cell-7afc19b7bc727fc8",
     "locked": true,
     "points": 1,
     "schema_version": 3,
     "solution": false
    }
   },
   "outputs": [],
   "source": [
    "test_1.0()"
   ]
  },
  {
   "cell_type": "markdown",
   "metadata": {
    "deletable": false,
    "editable": false,
    "nbgrader": {
     "cell_type": "markdown",
     "checksum": "8dcf861b2888c3e09aec249d2755f4bd",
     "grade": false,
     "grade_id": "cell-eaefcd87f19fdf96",
     "locked": true,
     "schema_version": 3,
     "solution": false,
     "task": false
    }
   },
   "source": [
    "**Question 1.1**\n",
    "<br> {points: 1}\n",
    "\n",
    "Let's start by visualizing the variables we are going to use in our cluster analysis as a scatter plot. Put `ibu` on the horizontal axis, and `abv` on the vertical axis. Name the plot object `beer_eda`. \n",
    "\n",
    "*Remember to follow the best visualization practices, including adding human-readable labels to your plot.*"
   ]
  },
  {
   "cell_type": "code",
   "execution_count": null,
   "metadata": {
    "deletable": false,
    "nbgrader": {
     "cell_type": "code",
     "checksum": "8a58784464e532430215f88b9a1fbf6a",
     "grade": false,
     "grade_id": "cell-685ad4bcdc753cbf",
     "locked": false,
     "schema_version": 3,
     "solution": true
    }
   },
   "outputs": [],
   "source": [
    "# your code here\n",
    "fail() # No Answer - remove if you provide an answer\n",
    "beer_eda"
   ]
  },
  {
   "cell_type": "code",
   "execution_count": null,
   "metadata": {
    "deletable": false,
    "editable": false,
    "nbgrader": {
     "cell_type": "code",
     "checksum": "0ed664ed84f5cabfa93b155c1ef6f08a",
     "grade": true,
     "grade_id": "cell-a38c885f90300a1b",
     "locked": true,
     "points": 1,
     "schema_version": 3,
     "solution": false
    }
   },
   "outputs": [],
   "source": [
    "test_1.1()"
   ]
  },
  {
   "cell_type": "markdown",
   "metadata": {
    "deletable": false,
    "editable": false,
    "nbgrader": {
     "cell_type": "markdown",
     "checksum": "3e0b3201007f9b4b0b84c5bc5829e931",
     "grade": false,
     "grade_id": "cell-4826275eec3db51a",
     "locked": true,
     "schema_version": 3,
     "solution": false,
     "task": false
    }
   },
   "source": [
    "**Question 1.2**\n",
    "<br> {points: 1}\n",
    "\n",
    "We need to clean this data a bit. Specifically, we need to remove the rows where `ibu` is `NA`, and select only the columns we are interested in clustering, which are `ibu` and `abv`. \n",
    "\n",
    "*Assign your answer to an object named `clean_beer`.*"
   ]
  },
  {
   "cell_type": "code",
   "execution_count": null,
   "metadata": {
    "deletable": false,
    "nbgrader": {
     "cell_type": "code",
     "checksum": "52c2ab0323a33441d8033f0192404f09",
     "grade": false,
     "grade_id": "cell-77a1b2827a0e31a3",
     "locked": false,
     "schema_version": 3,
     "solution": true
    }
   },
   "outputs": [],
   "source": [
    "# your code here\n",
    "fail() # No Answer - remove if you provide an answer\n",
    "head(clean_beer)"
   ]
  },
  {
   "cell_type": "code",
   "execution_count": null,
   "metadata": {
    "deletable": false,
    "editable": false,
    "nbgrader": {
     "cell_type": "code",
     "checksum": "de78d2939a1d0c13089fb8e0d8ea29f2",
     "grade": true,
     "grade_id": "cell-1ed1c760a10e3e9d",
     "locked": true,
     "points": 1,
     "schema_version": 3,
     "solution": false
    }
   },
   "outputs": [],
   "source": [
    "test_1.2()"
   ]
  },
  {
   "cell_type": "markdown",
   "metadata": {
    "deletable": false,
    "editable": false,
    "nbgrader": {
     "cell_type": "markdown",
     "checksum": "1f16a9cde51e228a43327a6f6f4e0283",
     "grade": false,
     "grade_id": "cell-98c23f6aa556be8b",
     "locked": true,
     "schema_version": 3,
     "solution": false,
     "task": false
    }
   },
   "source": [
    "**Question 1.3.1**\n",
    "<br>{points: 1}\n",
    "\n",
    "Why do we need to scale the variables when using k-means clustering?\n",
    "\n",
    "A. k-means uses the Euclidean distance to compute how similar data points are to each cluster centre\n",
    "\n",
    "B. k-means is an iterative algorithm\n",
    "\n",
    "C. Some variables might be more important for prediction than others\n",
    "\n",
    "D. To make sure their mean is 0\n",
    "\n",
    "*Assign your answer to an object named `answer1.3.1`. Make sure your answer is a single upper-case character surrounded by quotes.*"
   ]
  },
  {
   "cell_type": "code",
   "execution_count": null,
   "metadata": {
    "deletable": false,
    "nbgrader": {
     "cell_type": "code",
     "checksum": "523a381b6fa147dcca8608049d1b49c9",
     "grade": false,
     "grade_id": "cell-dabeb5fe0dacbc55",
     "locked": false,
     "schema_version": 3,
     "solution": true,
     "task": false
    }
   },
   "outputs": [],
   "source": [
    "# your code here\n",
    "fail() # No Answer - remove if you provide an answer"
   ]
  },
  {
   "cell_type": "code",
   "execution_count": null,
   "metadata": {
    "deletable": false,
    "editable": false,
    "nbgrader": {
     "cell_type": "code",
     "checksum": "9cda8822c543af3178ac67125dcf8330",
     "grade": true,
     "grade_id": "cell-cee046b5d47ebb72",
     "locked": true,
     "points": 1,
     "schema_version": 3,
     "solution": false,
     "task": false
    }
   },
   "outputs": [],
   "source": [
    "test_1.3.1()"
   ]
  },
  {
   "cell_type": "markdown",
   "metadata": {
    "deletable": false,
    "editable": false,
    "nbgrader": {
     "cell_type": "markdown",
     "checksum": "3bcfaa9eccbeb12eb9ab6c4af14a0a56",
     "grade": false,
     "grade_id": "cell-b44ed52f8fdc5336",
     "locked": true,
     "schema_version": 3,
     "solution": false,
     "task": false
    }
   },
   "source": [
    "**Question 1.3.2**\n",
    "<br> {points: 1}\n",
    "\n",
    "Let's do that scaling now. Recall that we used a `recipe` for scaling when doing classification and regression. This is because we needed to be able to split train and test data, compute a standardization on *just* training data, and apply the standardization to *both* train and test data.\n",
    "\n",
    "But in clustering, there is no train/test split. So let's use the much simpler `scale` function in R. `scale` takes in a column of a dataframe and outputs the standardized version of it. We can therefore apply `scale` to all variables in the cleaned data frame using the `map_df` function.\n",
    "\n",
    "*Note: you could still use a recipe to do this, using `prep`/`bake` appropriately. But `scale` is much simpler.*\n",
    "\n",
    "*Assign your answer to an object named `scaled_beer`. Use the scaffolding provided.*"
   ]
  },
  {
   "cell_type": "code",
   "execution_count": null,
   "metadata": {
    "deletable": false,
    "nbgrader": {
     "cell_type": "code",
     "checksum": "50fbd46b8f945d2a89bd67bc0defc75b",
     "grade": false,
     "grade_id": "cell-db7d5a769e2ede77",
     "locked": false,
     "schema_version": 3,
     "solution": true
    }
   },
   "outputs": [],
   "source": [
    "# ... <- ... %>% \n",
    "#    map_df(...)\n",
    "\n",
    "# your code here\n",
    "fail() # No Answer - remove if you provide an answer\n",
    "head(scaled_beer)"
   ]
  },
  {
   "cell_type": "code",
   "execution_count": null,
   "metadata": {
    "deletable": false,
    "editable": false,
    "nbgrader": {
     "cell_type": "code",
     "checksum": "12a01fdf6aed74d07bf4dc4ba8aac99e",
     "grade": true,
     "grade_id": "cell-f4fa609002e00099",
     "locked": true,
     "points": 1,
     "schema_version": 3,
     "solution": false
    }
   },
   "outputs": [],
   "source": [
    "test_1.3.2()"
   ]
  },
  {
   "cell_type": "markdown",
   "metadata": {
    "deletable": false,
    "editable": false,
    "nbgrader": {
     "cell_type": "markdown",
     "checksum": "c0da726dfb99b46e3c4586c04adf3f99",
     "grade": false,
     "grade_id": "cell-8c5a413f54e55216",
     "locked": true,
     "schema_version": 3,
     "solution": false,
     "task": false
    }
   },
   "source": [
    "**Question 1.4**\n",
    "<br> {points: 1}\n",
    "\n",
    "From our exploratory data visualization, 2 seems like a reasonable number of clusters. Use the `kmeans` function with `centers = 2` to perform clustering with this choice of K. \n",
    "\n",
    "*Assign your model to an object named `beer_cluster_k2`. Note that since k-means uses a random initialization, we need to set the seed again; don't change the value!*"
   ]
  },
  {
   "cell_type": "code",
   "execution_count": null,
   "metadata": {
    "deletable": false,
    "nbgrader": {
     "cell_type": "code",
     "checksum": "2749f4a8adc1bde713c6926fd8ae2c97",
     "grade": false,
     "grade_id": "cell-59fd6cac5b722485",
     "locked": false,
     "schema_version": 3,
     "solution": true
    }
   },
   "outputs": [],
   "source": [
    "# DON'T CHANGE THE SEED VALUE!\n",
    "set.seed(1234)\n",
    "\n",
    "# ... <- kmeans(..., centers = 2)\n",
    "# your code here\n",
    "fail() # No Answer - remove if you provide an answer\n",
    "beer_cluster_k2"
   ]
  },
  {
   "cell_type": "code",
   "execution_count": null,
   "metadata": {
    "deletable": false,
    "editable": false,
    "nbgrader": {
     "cell_type": "code",
     "checksum": "0f524f7823caadf1939ffdc76d144cce",
     "grade": true,
     "grade_id": "cell-b9995d961e6abdd4",
     "locked": true,
     "points": 1,
     "schema_version": 3,
     "solution": false
    }
   },
   "outputs": [],
   "source": [
    "test_1.4()"
   ]
  },
  {
   "cell_type": "markdown",
   "metadata": {
    "deletable": false,
    "editable": false,
    "nbgrader": {
     "cell_type": "markdown",
     "checksum": "bc3148af7b25e7a39c2e27b4a540c356",
     "grade": false,
     "grade_id": "cell-b40335391796b8bc",
     "locked": true,
     "schema_version": 3,
     "solution": false,
     "task": false
    }
   },
   "source": [
    "**Question 1.5**\n",
    "<br> {points: 1}\n",
    "\n",
    "Use the `augment` function from the `broom` package to get the cluster assignment for each point in the `scaled_beer` data frame. \n",
    "\n",
    "*Assign your answer to an object named `tidy_beer_cluster_k2`.* "
   ]
  },
  {
   "cell_type": "code",
   "execution_count": null,
   "metadata": {
    "deletable": false,
    "nbgrader": {
     "cell_type": "code",
     "checksum": "31d9cee2ce8a7706fd1d2e6cb79d2487",
     "grade": false,
     "grade_id": "cell-09a5a07201a2f1e3",
     "locked": false,
     "schema_version": 3,
     "solution": true
    }
   },
   "outputs": [],
   "source": [
    "# ... <- augment(..., ...)\n",
    "# your code here\n",
    "fail() # No Answer - remove if you provide an answer\n",
    "head(tidy_beer_cluster_k2)"
   ]
  },
  {
   "cell_type": "code",
   "execution_count": null,
   "metadata": {
    "deletable": false,
    "editable": false,
    "nbgrader": {
     "cell_type": "code",
     "checksum": "6e624e23235524c1d402cb4d70184816",
     "grade": true,
     "grade_id": "cell-46d87f5ee36a932c",
     "locked": true,
     "points": 1,
     "schema_version": 3,
     "solution": false
    }
   },
   "outputs": [],
   "source": [
    "test_1.5()"
   ]
  },
  {
   "cell_type": "markdown",
   "metadata": {
    "deletable": false,
    "editable": false,
    "nbgrader": {
     "cell_type": "markdown",
     "checksum": "20ea6c2f74e47fa3f2060e4ff20de196",
     "grade": false,
     "grade_id": "cell-6adf5ec5d9d2f3ef",
     "locked": true,
     "schema_version": 3,
     "solution": false,
     "task": false
    }
   },
   "source": [
    "**Question 1.6**\n",
    "<br> {points: 1}\n",
    "\n",
    "Create a scatter plot of `abv` on the y-axis versus `ibu` on the x-axis (using the data in `tidy_beer_cluster_k2`) where the points are labelled by their cluster assignment. Name the plot object `tidy_beer_cluster_k2_plot`."
   ]
  },
  {
   "cell_type": "code",
   "execution_count": null,
   "metadata": {
    "deletable": false,
    "nbgrader": {
     "cell_type": "code",
     "checksum": "9a04cbbcb904c19ef9bdd457866df58c",
     "grade": false,
     "grade_id": "cell-70d2a62ba35172b0",
     "locked": false,
     "schema_version": 3,
     "solution": true
    }
   },
   "outputs": [],
   "source": [
    "# your code here\n",
    "fail() # No Answer - remove if you provide an answer\n",
    "tidy_beer_cluster_k2_plot"
   ]
  },
  {
   "cell_type": "code",
   "execution_count": null,
   "metadata": {
    "deletable": false,
    "editable": false,
    "nbgrader": {
     "cell_type": "code",
     "checksum": "e1663ac6d9c11c49824ac42282bc124e",
     "grade": true,
     "grade_id": "cell-f8a27de5ec7f09e6",
     "locked": true,
     "points": 1,
     "schema_version": 3,
     "solution": false
    }
   },
   "outputs": [],
   "source": [
    "test_1.6()"
   ]
  },
  {
   "cell_type": "markdown",
   "metadata": {
    "deletable": false,
    "editable": false,
    "nbgrader": {
     "cell_type": "markdown",
     "checksum": "1cc4ebaaf2f0ac39ddb38a574813b15c",
     "grade": false,
     "grade_id": "cell-97f33922ed0d39e8",
     "locked": true,
     "schema_version": 3,
     "solution": false,
     "task": false
    }
   },
   "source": [
    "**Question 1.7.1** Multiple Choice:\n",
    "<br> {points: 1}\n",
    "\n",
    "We do not know, however, that two clusters (K = 2) is the best choice for this data set. What can we do to choose the best K?\n",
    "\n",
    "A. Perform *cross-validation* for a variety of possible Ks. Choose the one where within-cluster sum of squares distance starts to *decrease less*.\n",
    "\n",
    "B. Perform *cross-validation* for a variety of possible Ks. Choose the one where the within-cluster sum of squares distance starts to *decrease more*. \n",
    "\n",
    "C. Perform *clustering* for a variety of possible Ks. Choose the one where within-cluster sum of squares distance starts to *decrease less*.\n",
    "\n",
    "D. Perform *clustering* for a variety of possible Ks. Choose the one where the within-cluster sum of squares distance starts to *decrease more*. \n",
    "\n",
    "*Assign your answer to an object called `answer1.7.1`. Make sure it is a single upper-case character surrounded by quotes.*"
   ]
  },
  {
   "cell_type": "code",
   "execution_count": null,
   "metadata": {
    "deletable": false,
    "nbgrader": {
     "cell_type": "code",
     "checksum": "bcb77ef6634005033f2705240c94fc5a",
     "grade": false,
     "grade_id": "cell-61e001fe5e991523",
     "locked": false,
     "schema_version": 3,
     "solution": true
    }
   },
   "outputs": [],
   "source": [
    "# your code here\n",
    "fail() # No Answer - remove if you provide an answer"
   ]
  },
  {
   "cell_type": "code",
   "execution_count": null,
   "metadata": {
    "deletable": false,
    "editable": false,
    "nbgrader": {
     "cell_type": "code",
     "checksum": "baf09c264b2c98bb82208c9f2b22b52c",
     "grade": true,
     "grade_id": "cell-693552f36c9a4230",
     "locked": true,
     "points": 1,
     "schema_version": 3,
     "solution": false
    }
   },
   "outputs": [],
   "source": [
    "test_1.7.1()"
   ]
  },
  {
   "cell_type": "markdown",
   "metadata": {
    "deletable": false,
    "editable": false,
    "nbgrader": {
     "cell_type": "markdown",
     "checksum": "b6956cfe25a8469a0b5351418a9df3b4",
     "grade": false,
     "grade_id": "cell-d884f2f1c5ea8b43",
     "locked": true,
     "schema_version": 3,
     "solution": false,
     "task": false
    }
   },
   "source": [
    "**Question 1.7.2**\n",
    "<br> {points: 1}\n",
    "\n",
    "Use the `glance` function from the `broom` library to get the model-level statistics for the clustering we just performed, including total within-cluster sum of squares. \n",
    "\n",
    "*Assign your answer to an object named `beer_cluster_k2_model_stats`.*\n",
    "\n",
    "**Note: Do not pass `tidy_beer_cluster_k2` or `scaled_beer` into the `glance` function. This will cause the R kernel to crash.** "
   ]
  },
  {
   "cell_type": "code",
   "execution_count": null,
   "metadata": {
    "deletable": false,
    "nbgrader": {
     "cell_type": "code",
     "checksum": "d261f0cadd65590f4b7a798609fbc70a",
     "grade": false,
     "grade_id": "cell-868cebb3f86944d1",
     "locked": false,
     "schema_version": 3,
     "solution": true
    }
   },
   "outputs": [],
   "source": [
    "# your code here\n",
    "fail() # No Answer - remove if you provide an answer\n",
    "beer_cluster_k2_model_stats"
   ]
  },
  {
   "cell_type": "code",
   "execution_count": null,
   "metadata": {
    "deletable": false,
    "editable": false,
    "nbgrader": {
     "cell_type": "code",
     "checksum": "db22bcda65422b52bf1a8d62ee4bf480",
     "grade": true,
     "grade_id": "cell-31427d5e0afe53be",
     "locked": true,
     "points": 1,
     "schema_version": 3,
     "solution": false
    }
   },
   "outputs": [],
   "source": [
    "test_1.7.2()"
   ]
  },
  {
   "cell_type": "markdown",
   "metadata": {
    "deletable": false,
    "editable": false,
    "nbgrader": {
     "cell_type": "markdown",
     "checksum": "d468d2a68083a1000e61d526a942fcdb",
     "grade": false,
     "grade_id": "cell-42cd7e853af98bb1",
     "locked": true,
     "schema_version": 3,
     "solution": false,
     "task": false
    }
   },
   "source": [
    "**Question 1.8**\n",
    "<br> {points: 1}\n",
    "\n",
    "Let's now choose the best K for this clustering problem. To do this we need to create a tibble with a column named `k`, where we vary K from 1 to 10. \n",
    "\n",
    "*Assign your answer to an object named `beer_ks`.*"
   ]
  },
  {
   "cell_type": "code",
   "execution_count": null,
   "metadata": {
    "deletable": false,
    "nbgrader": {
     "cell_type": "code",
     "checksum": "70aeede42d313c34dde1c92131e18a4c",
     "grade": false,
     "grade_id": "cell-2291e50c08f701d2",
     "locked": false,
     "schema_version": 3,
     "solution": true
    }
   },
   "outputs": [],
   "source": [
    "# your code here\n",
    "fail() # No Answer - remove if you provide an answer\n",
    "beer_ks"
   ]
  },
  {
   "cell_type": "code",
   "execution_count": null,
   "metadata": {
    "deletable": false,
    "editable": false,
    "nbgrader": {
     "cell_type": "code",
     "checksum": "80742e45ee1837988a22721cefd20487",
     "grade": true,
     "grade_id": "cell-58c958b24994d60d",
     "locked": true,
     "points": 1,
     "schema_version": 3,
     "solution": false
    }
   },
   "outputs": [],
   "source": [
    "test_1.8()"
   ]
  },
  {
   "cell_type": "markdown",
   "metadata": {
    "deletable": false,
    "editable": false,
    "nbgrader": {
     "cell_type": "markdown",
     "checksum": "d3c1728872cc86a31923f4a525092521",
     "grade": false,
     "grade_id": "cell-39c29b9969ea902b",
     "locked": true,
     "schema_version": 3,
     "solution": false,
     "task": false
    }
   },
   "source": [
    "**Question 1.9**\n",
    "<br> {points: 1}\n",
    "\n",
    "Next we use `mutate` to create a new column named `models`, where we use `map` to apply the `kmeans` function to our `scaled_beer` data set for each of the K's.\n",
    "\n",
    "*Assign your answer to an object named `beer_clustering`.*"
   ]
  },
  {
   "cell_type": "code",
   "execution_count": null,
   "metadata": {
    "deletable": false,
    "nbgrader": {
     "cell_type": "code",
     "checksum": "f9f7256106af356250decb10e03b1095",
     "grade": false,
     "grade_id": "cell-ad2989c2822a50e3",
     "locked": false,
     "schema_version": 3,
     "solution": true
    }
   },
   "outputs": [],
   "source": [
    "# ... <- ... %>%\n",
    "    # mutate(models = map(k, ~kmeans(..., .x)))\n",
    "\n",
    "# your code here\n",
    "fail() # No Answer - remove if you provide an answer\n",
    "glimpse(beer_clustering)"
   ]
  },
  {
   "cell_type": "code",
   "execution_count": null,
   "metadata": {
    "deletable": false,
    "editable": false,
    "nbgrader": {
     "cell_type": "code",
     "checksum": "abed70a2e0ace4fe2bc25a0dd6c0744f",
     "grade": true,
     "grade_id": "cell-ed0f2e1a31372296",
     "locked": true,
     "points": 1,
     "schema_version": 3,
     "solution": false
    }
   },
   "outputs": [],
   "source": [
    "test_1.9()"
   ]
  },
  {
   "cell_type": "markdown",
   "metadata": {
    "deletable": false,
    "editable": false,
    "nbgrader": {
     "cell_type": "markdown",
     "checksum": "34d575cbc7d1c4fc7909706d80ee591c",
     "grade": false,
     "grade_id": "cell-712c5d5bf721ba07",
     "locked": true,
     "schema_version": 3,
     "solution": false,
     "task": false
    }
   },
   "source": [
    "**Question 2.0**\n",
    "<br> {points: 1}\n",
    "\n",
    "Next we use `mutate` again to create a new column called `model_statistics` where we use `map` to apply the `glance` function to each of our models (in the `models` column) to get the model-level statistics (this is where we can get the value for total within sum of squares that we use to choose K).\n",
    "\n",
    "*Assign your answer to an object named `beer_model_stats`.*"
   ]
  },
  {
   "cell_type": "code",
   "execution_count": null,
   "metadata": {
    "deletable": false,
    "nbgrader": {
     "cell_type": "code",
     "checksum": "91134530109485164e7aea2e9356e595",
     "grade": false,
     "grade_id": "cell-e5550ab0d15e904b",
     "locked": false,
     "schema_version": 3,
     "solution": true
    }
   },
   "outputs": [],
   "source": [
    "# ... <- ... %>% \n",
    "    # mutate(... = map(models, ...))\n",
    "\n",
    "# your code here\n",
    "fail() # No Answer - remove if you provide an answer\n",
    "glimpse(beer_model_stats)"
   ]
  },
  {
   "cell_type": "code",
   "execution_count": null,
   "metadata": {
    "deletable": false,
    "editable": false,
    "nbgrader": {
     "cell_type": "code",
     "checksum": "ed4a4ef54021ac637f9a2ee5f82fa5ba",
     "grade": true,
     "grade_id": "cell-a3574637a73eada8",
     "locked": true,
     "points": 1,
     "schema_version": 3,
     "solution": false
    }
   },
   "outputs": [],
   "source": [
    "test_2.0()"
   ]
  },
  {
   "cell_type": "markdown",
   "metadata": {
    "deletable": false,
    "editable": false,
    "nbgrader": {
     "cell_type": "markdown",
     "checksum": "3d2ee0e816a727fe18f83a55e39d51bd",
     "grade": false,
     "grade_id": "cell-888915107f007211",
     "locked": true,
     "schema_version": 3,
     "solution": false,
     "task": false
    }
   },
   "source": [
    "**Question 2.1**\n",
    "<br> {points: 1}\n",
    "\n",
    "Now we use the `unnest` function to expand the data frames in the `model_statistics` column so that we can access the values for total within sum of squares as a column. \n",
    "\n",
    "*Assign your answer to an object named `beer_clustering_unnested`.*"
   ]
  },
  {
   "cell_type": "code",
   "execution_count": null,
   "metadata": {
    "deletable": false,
    "nbgrader": {
     "cell_type": "code",
     "checksum": "aafcd9da769d0bd320b21c53f6e91328",
     "grade": false,
     "grade_id": "cell-310e2643cf08b8db",
     "locked": false,
     "schema_version": 3,
     "solution": true
    }
   },
   "outputs": [],
   "source": [
    "# ... <- ... %>% unnest(model_statistics)\n",
    "# your code here\n",
    "fail() # No Answer - remove if you provide an answer\n",
    "glimpse(beer_clustering_unnested)"
   ]
  },
  {
   "cell_type": "code",
   "execution_count": null,
   "metadata": {
    "deletable": false,
    "editable": false,
    "nbgrader": {
     "cell_type": "code",
     "checksum": "3b4618ff5afd9f4cd8e729c244f7ec33",
     "grade": true,
     "grade_id": "cell-a3da38618bb71a0c",
     "locked": true,
     "points": 1,
     "schema_version": 3,
     "solution": false
    }
   },
   "outputs": [],
   "source": [
    "test_2.1()"
   ]
  },
  {
   "cell_type": "markdown",
   "metadata": {
    "deletable": false,
    "editable": false,
    "nbgrader": {
     "cell_type": "markdown",
     "checksum": "8dfac1657002238da63db22b6c98b754",
     "grade": false,
     "grade_id": "cell-671e8f2244d62bbb",
     "locked": true,
     "schema_version": 3,
     "solution": false,
     "task": false
    }
   },
   "source": [
    "**Question 2.2**\n",
    "<br> {points: 1}\n",
    "\n",
    "We now have the the values for total within-cluster sum of squares for each model in a column (`tot.withinss`). Let's use it to create a line plot with points of total within-cluster sum of squares versus k, so that we can choose the best number of clusters to use. \n",
    "\n",
    "*Assign your plot to an object called `choose_beer_k`. Total within-cluster sum of squares should be on the y-axis and K should be on the x-axis. Remember to follow the best visualization practices, including adding human-readable labels to your plot.*"
   ]
  },
  {
   "cell_type": "code",
   "execution_count": null,
   "metadata": {
    "deletable": false,
    "nbgrader": {
     "cell_type": "code",
     "checksum": "f247de529aecfec576ae9b9297e946b6",
     "grade": false,
     "grade_id": "cell-8a414509ff54b5ec",
     "locked": false,
     "schema_version": 3,
     "solution": true
    }
   },
   "outputs": [],
   "source": [
    "options(repr.plot.width = 8, repr.plot.height = 7)\n",
    "\n",
    "# your code here\n",
    "fail() # No Answer - remove if you provide an answer\n",
    "choose_beer_k"
   ]
  },
  {
   "cell_type": "code",
   "execution_count": null,
   "metadata": {
    "deletable": false,
    "editable": false,
    "nbgrader": {
     "cell_type": "code",
     "checksum": "c82e169acdc86638c062a9f10954a262",
     "grade": true,
     "grade_id": "cell-3e758ca8ceea0217",
     "locked": true,
     "points": 1,
     "schema_version": 3,
     "solution": false
    }
   },
   "outputs": [],
   "source": [
    "test_2.2()"
   ]
  },
  {
   "cell_type": "markdown",
   "metadata": {
    "deletable": false,
    "editable": false,
    "nbgrader": {
     "cell_type": "markdown",
     "checksum": "e5f26acb11934afbe463d251da0b69e7",
     "grade": false,
     "grade_id": "cell-790ae1331636b0f3",
     "locked": true,
     "schema_version": 3,
     "solution": false,
     "task": false
    }
   },
   "source": [
    "**Question 2.3**\n",
    "<br> {points: 1}\n",
    "\n",
    "From the plot above, which K should we choose? \n",
    "\n",
    "*Assign your answer to an object called `answer2.3`. Make sure your answer is a single numerical character surrounded by quotation marks.*"
   ]
  },
  {
   "cell_type": "code",
   "execution_count": null,
   "metadata": {
    "deletable": false,
    "nbgrader": {
     "cell_type": "code",
     "checksum": "4489acbc06e2879ca35fca09d6766cba",
     "grade": false,
     "grade_id": "cell-bd38240a36b3d416",
     "locked": false,
     "schema_version": 3,
     "solution": true
    }
   },
   "outputs": [],
   "source": [
    "# your code here\n",
    "fail() # No Answer - remove if you provide an answer"
   ]
  },
  {
   "cell_type": "code",
   "execution_count": null,
   "metadata": {
    "deletable": false,
    "editable": false,
    "nbgrader": {
     "cell_type": "code",
     "checksum": "0e77c20b27466e92f76fc4a9fb45b557",
     "grade": true,
     "grade_id": "cell-62328bcd821daea9",
     "locked": true,
     "points": 1,
     "schema_version": 3,
     "solution": false
    }
   },
   "outputs": [],
   "source": [
    "test_2.3()"
   ]
  },
  {
   "cell_type": "markdown",
   "metadata": {
    "deletable": false,
    "editable": false,
    "nbgrader": {
     "cell_type": "markdown",
     "checksum": "e9644f2edeaf98a02c96de8a5f3fc0f3",
     "grade": false,
     "grade_id": "cell-ef050c1e9d2e38a3",
     "locked": true,
     "schema_version": 3,
     "solution": false,
     "task": false
    }
   },
   "source": [
    "**Question 2.4**\n",
    "<br> (optional - not graded)\n",
    "\n",
    "In your own words, explain why we chose the K we chose above."
   ]
  },
  {
   "cell_type": "markdown",
   "metadata": {},
   "source": []
  },
  {
   "cell_type": "markdown",
   "metadata": {
    "deletable": false,
    "editable": false,
    "nbgrader": {
     "cell_type": "markdown",
     "checksum": "9259b3841b092fb5d76afa3a5b436269",
     "grade": false,
     "grade_id": "cell-e28e4f23066bcf9a",
     "locked": true,
     "schema_version": 3,
     "solution": false,
     "task": false
    }
   },
   "source": [
    "**Question 2.5**\n",
    "<br> (optional - not graded)\n",
    "\n",
    "What can we conclude from our analysis? How many different types of hoppy craft beer are there in this data set using the two variables we have? Do you think our analysis might change if we added additional variables? Why/why not?\n"
   ]
  },
  {
   "cell_type": "markdown",
   "metadata": {},
   "source": []
  },
  {
   "cell_type": "markdown",
   "metadata": {
    "deletable": false,
    "editable": false,
    "nbgrader": {
     "cell_type": "markdown",
     "checksum": "beed53cdb50d71acc76ab98c166a8175",
     "grade": false,
     "grade_id": "cell-91d519c3b41719e6",
     "locked": true,
     "schema_version": 3,
     "solution": false,
     "task": false
    }
   },
   "source": [
    "**Question 2.6** \n",
    "<br> (optional - not graded)\n",
    "\n",
    "Visually verify that 2 clusters is the \"best\" choice for K for this analysis. Do this by plotting the cluster assignments for the points for each K (each should be its own scatter plot)."
   ]
  },
  {
   "cell_type": "code",
   "execution_count": null,
   "metadata": {
    "deletable": false,
    "editable": false,
    "nbgrader": {
     "cell_type": "code",
     "checksum": "a8ed1a5cba09b72ee697554ae90470fa",
     "grade": false,
     "grade_id": "cell-40c8760369f78526",
     "locked": true,
     "schema_version": 3,
     "solution": false,
     "task": false
    }
   },
   "outputs": [],
   "source": [
    "source(\"cleanup_worksheet_10.R\")"
   ]
  }
 ],
 "metadata": {
  "kernelspec": {
   "display_name": "R",
   "language": "R",
   "name": "ir"
  },
  "language_info": {
   "codemirror_mode": "r",
   "file_extension": ".r",
   "mimetype": "text/x-r-source",
   "name": "R",
   "pygments_lexer": "r",
   "version": "4.0.0"
  }
 },
 "nbformat": 4,
 "nbformat_minor": 2
}
