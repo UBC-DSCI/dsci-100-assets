{
 "cells": [
  {
   "cell_type": "markdown",
   "metadata": {},
   "source": [
    "# DSCI 100: Introduction to Data Science\n",
    "\n",
    "## Tutorial 10 — Clustering: Class activity"
   ]
  },
  {
   "cell_type": "markdown",
   "metadata": {},
   "source": [
    "Today, we will be looking at US economic time series data from the Federal Reserve Bank of St. Louis. This data set comes [ggplot](https://ggplot2.tidyverse.org/reference/economics.html) (which in turn comes from loading in tidyverse, and was sourced from the bank's website, [here](https://fred.stlouisfed.org/)).\n",
    "\n",
    "<img src=\"https://www.stlouisfed.org/~/media/Images/About-Us/History/stlouisfed_1924.jpg?la=en&w=100%25\" width=\"25%\" />\n",
    "<p style=\"text-align: center;\"><i>Here's the bank itself!</i></p>\n",
    "\n",
    "\n",
    "We will be preforming a k-means clustering algorithm to compare two country level statistics: personal savings rate (`psavert`) and number of unemployed in thousands (`unemploy`). \n",
    "\n",
    "Here's a definition of personal savings rate in case you're extra curious:\n",
    "\n",
    "> Personal saving as a percentage of disposable personal income (DPI), frequently referred to as *the personal saving rate*, is calculated as the ratio of personal saving to DPI."
   ]
  },
  {
   "cell_type": "code",
   "execution_count": null,
   "metadata": {},
   "outputs": [],
   "source": [
    "# Load in necessary libraries \n",
    "library(tidyverse)\n",
    "library(broom) # importantly, don't forget broom for clustering!"
   ]
  },
  {
   "cell_type": "code",
   "execution_count": null,
   "metadata": {},
   "outputs": [],
   "source": [
    "# Peek the data set\n",
    "head(economics)\n",
    "\n",
    "# Produce a data frame to see if there are any NAs\n",
    "economics_nas <- map_df(economics, ~ any(is.na(.x)))\n",
    "economics_nas \n",
    "\n",
    "# But in case there were... here's how we could do get rid of them\n",
    "economics <- na.omit(economics)"
   ]
  },
  {
   "cell_type": "markdown",
   "metadata": {},
   "source": [
    "Now, let's plot the relationship between `unemploy` and `psavert` to get a picture of where we should go. "
   ]
  },
  {
   "cell_type": "code",
   "execution_count": null,
   "metadata": {
    "deletable": false,
    "nbgrader": {
     "cell_type": "code",
     "checksum": "187f2fa7a40ec8ebe625d27683215318",
     "grade": true,
     "grade_id": "cell-4c453bdca71d0146",
     "locked": false,
     "points": 0,
     "schema_version": 3,
     "solution": true,
     "task": false
    }
   },
   "outputs": [],
   "source": [
    "# A basic plot for our two variables in question\n",
    "# Note this is missing some important features that *should* be in every plot\n",
    "\n",
    "# your code here\n",
    "fail() # No Answer - remove if you provide an answer"
   ]
  },
  {
   "cell_type": "markdown",
   "metadata": {},
   "source": [
    "From this visualization (or from what you know about the data set), what is one additional wrangling step we need to take perform attempting to perform clustering on this data set?"
   ]
  },
  {
   "cell_type": "code",
   "execution_count": null,
   "metadata": {
    "deletable": false,
    "nbgrader": {
     "cell_type": "code",
     "checksum": "987813f8f17668b267b786c9b393dd6e",
     "grade": true,
     "grade_id": "cell-bedb3ba96a832dbd",
     "locked": false,
     "points": 0,
     "schema_version": 3,
     "solution": true,
     "task": false
    }
   },
   "outputs": [],
   "source": [
    "# What wrangling step? ...\n",
    "\n",
    "# First create a dataframe with just the two variables; then scale\n",
    "\n",
    "# your code here\n",
    "fail() # No Answer - remove if you provide an answer"
   ]
  },
  {
   "cell_type": "markdown",
   "metadata": {},
   "source": [
    "Now, let's use the elbow method to choose the best k! 💪 \n",
    "\n",
    "(That is, the k after which the WSSD improves by a *diminishing amount*.)"
   ]
  },
  {
   "cell_type": "code",
   "execution_count": null,
   "metadata": {
    "deletable": false,
    "nbgrader": {
     "cell_type": "code",
     "checksum": "64b69183fcb45ec1c296049e281c3e0b",
     "grade": true,
     "grade_id": "cell-8e4545e2c9d8c544",
     "locked": false,
     "points": 0,
     "schema_version": 3,
     "solution": true,
     "task": false
    }
   },
   "outputs": [],
   "source": [
    "# Remember to use the scaled data frame!\n",
    "\n",
    "# Try the ks\n",
    "\n",
    "# Unnest the glanced data frames\n",
    "\n",
    "# Create the elbow plot\n",
    "\n",
    "# your code here\n",
    "fail() # No Answer - remove if you provide an answer"
   ]
  },
  {
   "cell_type": "markdown",
   "metadata": {},
   "source": [
    "What is the optimal k? Does it appear to have clustered the data properly? (That is, does it match our guess from the beginning?)\n",
    "\n",
    "Proceed by clustering with the correct number of ks and produce a plot to go along with it. This is our final model. "
   ]
  },
  {
   "cell_type": "code",
   "execution_count": null,
   "metadata": {
    "deletable": false,
    "nbgrader": {
     "cell_type": "code",
     "checksum": "e46470b67a0aadf598982e36d5f05808",
     "grade": true,
     "grade_id": "cell-3476f599893eb314",
     "locked": false,
     "points": 0,
     "schema_version": 3,
     "solution": true,
     "task": false
    }
   },
   "outputs": [],
   "source": [
    "# Do kmeans with the optimal k\n",
    "\n",
    "# Augment our model with the original data frame\n",
    "\n",
    "# Plot the clusters -- remember that the new column (with the groupings) is called .cluster\n",
    "\n",
    "# your code here\n",
    "fail() # No Answer - remove if you provide an answer"
   ]
  }
 ],
 "metadata": {
  "kernelspec": {
   "display_name": "R",
   "language": "R",
   "name": "ir"
  },
  "language_info": {
   "codemirror_mode": "r",
   "file_extension": ".r",
   "mimetype": "text/x-r-source",
   "name": "R",
   "pygments_lexer": "r",
   "version": "4.0.0"
  }
 },
 "nbformat": 4,
 "nbformat_minor": 4
}
