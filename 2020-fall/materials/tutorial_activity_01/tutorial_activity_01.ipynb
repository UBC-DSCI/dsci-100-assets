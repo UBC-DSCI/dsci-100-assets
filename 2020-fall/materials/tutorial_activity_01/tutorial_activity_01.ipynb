{
 "cells": [
  {
   "cell_type": "markdown",
   "metadata": {
    "deletable": false,
    "editable": false,
    "nbgrader": {
     "cell_type": "markdown",
     "checksum": "a8c0ba75c94afdbc54d3f541bb2cbd55",
     "grade": false,
     "grade_id": "cell-25e84e7970d67ef1",
     "locked": true,
     "schema_version": 3,
     "solution": false,
     "task": false
    }
   },
   "source": [
    "# Class Activity\n",
    "## Week 1\n",
    "\n",
    "For this activity, we'll be using a dataset called `iris` which is included in R and is great for extra practice. \n",
    "<br> Use the `head()` function to take a look at the variables in the dataset."
   ]
  },
  {
   "cell_type": "code",
   "execution_count": null,
   "metadata": {
    "deletable": false,
    "nbgrader": {
     "cell_type": "code",
     "checksum": "82b1359d391690875e25b120b19fc817",
     "grade": true,
     "grade_id": "cell-df31cae4ffecd1fd",
     "locked": false,
     "points": 0,
     "schema_version": 3,
     "solution": true,
     "task": false
    }
   },
   "outputs": [],
   "source": [
    "# your code here\n",
    "fail() # No Answer - remove if you provide an answer"
   ]
  },
  {
   "cell_type": "markdown",
   "metadata": {
    "deletable": false,
    "editable": false,
    "nbgrader": {
     "cell_type": "markdown",
     "checksum": "c562993562acede24e24c416da073a09",
     "grade": false,
     "grade_id": "cell-e60f6e13a523d649",
     "locked": true,
     "schema_version": 3,
     "solution": false,
     "task": false
    }
   },
   "source": [
    "Note the `<dbl>` and `<fct>` below the variable names. Use Google to find out what those mean, and fill in the answer below."
   ]
  },
  {
   "cell_type": "markdown",
   "metadata": {
    "deletable": false,
    "nbgrader": {
     "cell_type": "markdown",
     "checksum": "0076c39ec90e6c580a2a70957dbd09c4",
     "grade": true,
     "grade_id": "cell-3a4bf45087d63a74",
     "locked": false,
     "points": 0,
     "schema_version": 3,
     "solution": true,
     "task": false
    }
   },
   "source": [
    "<br> `<dbl>`: ...\n",
    "<br> `<fct>`: ...\n",
    "\n",
    "DOUBLE CLICK TO EDIT **THIS CELL** AND REPLACE THIS TEXT WITH YOUR ANSWER."
   ]
  },
  {
   "cell_type": "markdown",
   "metadata": {
    "deletable": false,
    "editable": false,
    "nbgrader": {
     "cell_type": "markdown",
     "checksum": "d578902b2497bd63bc395974e2499441",
     "grade": false,
     "grade_id": "cell-a00a2745683d59c8",
     "locked": true,
     "schema_version": 3,
     "solution": false,
     "task": false
    }
   },
   "source": [
    "A **sepal** is the (typically) green part of the flower. It serves as protection for the flower while it is in bud, and often as support for the petals when in bloom. Source: Wikipedia\n",
    "\n",
    "<img src=\"https://web.extension.illinois.edu/gpe/images/flower12.gif\" width=\"500\">"
   ]
  },
  {
   "cell_type": "markdown",
   "metadata": {
    "deletable": false,
    "editable": false,
    "nbgrader": {
     "cell_type": "markdown",
     "checksum": "f82f257e65bc324338177f4f83612136",
     "grade": false,
     "grade_id": "cell-56b7a2d8958ab857",
     "locked": true,
     "schema_version": 3,
     "solution": false,
     "task": false
    }
   },
   "source": [
    "Use R to create a scatter plot to explore the relationship between **Petal.Length** and **Sepal.Length** of **only** the Virginica Iris species. Put Petal.Length on the Y-axis and Sepal.Length on the x-axis. Give your axis labels human readable names.\n",
    "\n",
    "BONUS: Use the `ggtitle()` feature of ggplot to add a title to your graph. "
   ]
  },
  {
   "cell_type": "code",
   "execution_count": null,
   "metadata": {
    "deletable": false,
    "editable": false,
    "nbgrader": {
     "cell_type": "code",
     "checksum": "f496501c77e16053c044ee41c7350b13",
     "grade": false,
     "grade_id": "cell-570826cf02fab46f",
     "locked": true,
     "schema_version": 3,
     "solution": false,
     "task": false
    }
   },
   "outputs": [],
   "source": [
    "library(tidyverse)\n",
    "library(repr)\n",
    "options(repr.plot.width=4.5, repr.plot.height=3.5)"
   ]
  },
  {
   "cell_type": "code",
   "execution_count": null,
   "metadata": {
    "deletable": false,
    "nbgrader": {
     "cell_type": "code",
     "checksum": "84a16e9e2c15668aa373b1a1ad6bdca0",
     "grade": true,
     "grade_id": "cell-8d5bdf3d1b62c90c",
     "locked": false,
     "points": 0,
     "schema_version": 3,
     "solution": true,
     "task": false
    }
   },
   "outputs": [],
   "source": [
    "# your code here\n",
    "fail() # No Answer - remove if you provide an answer"
   ]
  },
  {
   "cell_type": "markdown",
   "metadata": {
    "deletable": false,
    "editable": false,
    "nbgrader": {
     "cell_type": "markdown",
     "checksum": "25fb4c68cf3dd5123bc0348fc9b25c13",
     "grade": false,
     "grade_id": "cell-a0c5f4292c613bce",
     "locked": true,
     "schema_version": 3,
     "solution": false,
     "task": false
    }
   },
   "source": [
    "#### Using the visualization we made, what can we say about the relationship between these variables?"
   ]
  },
  {
   "cell_type": "markdown",
   "metadata": {
    "deletable": false,
    "nbgrader": {
     "cell_type": "markdown",
     "checksum": "d0340f25909512d04a5f6e68a454c6c9",
     "grade": true,
     "grade_id": "cell-9fcedc75f0793b1a",
     "locked": false,
     "points": 0,
     "schema_version": 3,
     "solution": true,
     "task": false
    }
   },
   "source": [
    "DOUBLE CLICK TO EDIT **THIS CELL** AND REPLACE THIS TEXT WITH YOUR ANSWER."
   ]
  }
 ],
 "metadata": {
  "kernelspec": {
   "display_name": "R",
   "language": "R",
   "name": "ir"
  },
  "language_info": {
   "codemirror_mode": "r",
   "file_extension": ".r",
   "mimetype": "text/x-r-source",
   "name": "R",
   "pygments_lexer": "r",
   "version": "4.0.0"
  }
 },
 "nbformat": 4,
 "nbformat_minor": 2
}
