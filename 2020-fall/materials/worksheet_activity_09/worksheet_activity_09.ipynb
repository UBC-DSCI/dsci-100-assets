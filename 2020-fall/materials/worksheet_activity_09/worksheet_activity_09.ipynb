{
 "cells": [
  {
   "cell_type": "markdown",
   "metadata": {},
   "source": [
    "## Class activity:\n",
    "\n",
    "Which of the following problems could be solved using a regression approach? \n",
    "\n",
    "A) We are interested in predicting CEO salary for new CEO's. We collect a set of data on a number of firms and record profit, number of employees, industry and CEO salary.\n",
    "\n",
    "B) Whether a new patient will have a heart attack in the next 5 years based on answers to a survey about their physical health and attributes.\n",
    "\n",
    "C) A car dealership is interested in predicting its net sales based on money spent on Google and Facebook adds.\n",
    "\n",
    "D) The resting heart rate of a new patient based on answers to a survey about their physical health and attributes."
   ]
  }
 ],
 "metadata": {
  "kernelspec": {
   "display_name": "Python 3",
   "language": "python",
   "name": "python3"
  },
  "language_info": {
   "codemirror_mode": {
    "name": "ipython",
    "version": 3
   },
   "file_extension": ".py",
   "mimetype": "text/x-python",
   "name": "python",
   "nbconvert_exporter": "python",
   "pygments_lexer": "ipython3",
   "version": "3.7.3"
  }
 },
 "nbformat": 4,
 "nbformat_minor": 2
}
