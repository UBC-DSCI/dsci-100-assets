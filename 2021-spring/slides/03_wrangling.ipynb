{
 "cells": [
  {
   "cell_type": "markdown",
   "metadata": {
    "slideshow": {
     "slide_type": "slide"
    }
   },
   "source": [
    "# DSCI 100 - Introduction to Data Science\n",
    "\n",
    "\n",
    "## Lecture 3 - Wrangling to get tidy data\n",
    "\n",
    "*Credit to [Jenny Brian's slides](https://www.slideshare.net/Plotly/plotcon-nyc-behind-every-great-plot-theres-a-great-deal-of-wrangling) and Garrett Grolemund's [tidying example](https://garrettgman.github.io/tidying/)*\n",
    "\n",
    "While you wait... enjoy this plot of the `mtcars` data set from the new {[ggbernie](https://github.com/R-CoderDotCom/ggbernie)} R package 😂:\n",
    "\n",
    "<img src=\"img/bernie_plot.png\" width=400>"
   ]
  },
  {
   "cell_type": "markdown",
   "metadata": {
    "slideshow": {
     "slide_type": "slide"
    }
   },
   "source": [
    "### Housekeeping\n",
    "- Quiz 1 will be **February 11th during the tutorial time for your registered section (i.e., in class)**\n",
    "  - 45 mins\n",
    "  - covers all the material from weeks 1 - 4 (but none of the optional web scraping is included)\n",
    "  - open book (but not collaborative)\n",
    "  - will be served on Canvas.  \n",
    "      - Make sure you have either Chrome or Firefox. Safari has been known to have trouble loading images and math.\n",
    "  - we will work on projects after\n",
    "  - practice questions will be posted -- make sure you can access the quiz on Canvas\n",
    "  - Invigilate using Zoom (see upcoming Canvas post \"Information about the quizzes\" for details) -- make sure you can use Zoom with camera on your personal device \n",
    "\n",
    "- You should see a grade for worksheet 1 and 2 on Canvas (unless you registered late)\n",
    "- We are working in our **project groups** today (different from the breakout room groups)\n",
    "    - Group contracts due Jan 30 "
   ]
  },
  {
   "cell_type": "markdown",
   "metadata": {
    "slideshow": {
     "slide_type": "slide"
    }
   },
   "source": [
    "## Reminder  \n",
    "\n",
    "Where are we? Where are we going?\n",
    "\n",
    "<center><img src=\"https://d33wubrfki0l68.cloudfront.net/571b056757d68e6df81a3e3853f54d3c76ad6efc/32d37/diagrams/data-science.png\" width=\"800px\"/></center>\n",
    "\n",
    "*image source: [R for Data Science](https://r4ds.had.co.nz/) by Grolemund & Wickham*"
   ]
  },
  {
   "cell_type": "markdown",
   "metadata": {
    "slideshow": {
     "slide_type": "slide"
    }
   },
   "source": [
    "## Data Wrangling!\n",
    "<img src=\"img/wrangling.jpeg\" width=\"700\"/>\n",
    "\n",
    "image: [*Medium*](https://medium.com/@earny_joe/springboard-capstone-project-1-wrangling-the-data-a1e284d7ef5d)\n",
    "\n",
    "- In the real world, when you get data, it's usually *very messy*\n",
    "  - inconsistent format (commas, tabs, semicolons, missing data, extra empty lines)\n",
    "  - split into multiple files (e.g. yearly recorded data over many years)\n",
    "  - corrupted files, custom formats\n",
    "- when you read it successfully into R, it will often still be *very messy*"
   ]
  },
  {
   "cell_type": "markdown",
   "metadata": {
    "slideshow": {
     "slide_type": "fragment"
    }
   },
   "source": [
    "- you need to make your data **\"tidy\"**"
   ]
  },
  {
   "cell_type": "markdown",
   "metadata": {
    "slideshow": {
     "slide_type": "slide"
    }
   },
   "source": [
    "## What is Tidy Data?\n",
    "\n",
    "<img src=\"https://github.com/allisonhorst/stats-illustrations/blob/master/rstats-artwork/tidydata_1.jpg?raw=true\" width=800>"
   ]
  },
  {
   "cell_type": "markdown",
   "metadata": {
    "slideshow": {
     "slide_type": "fragment"
    }
   },
   "source": [
    "*Illustrations from the [Openscapes](https://www.openscapes.org/) blog [Tidy Data for reproducibility, efficiency, and collaboration](https://www.openscapes.org/blog/2020/10/12/tidy-data/) by Julia Lowndes and Allison Horst\"*\n"
   ]
  },
  {
   "cell_type": "markdown",
   "metadata": {
    "slideshow": {
     "slide_type": "slide"
    }
   },
   "source": [
    "Like families...\n",
    "\n",
    "<img src=\"https://github.com/allisonhorst/stats-illustrations/blob/master/rstats-artwork/tidydata_2.jpg?raw=true\" width=800>"
   ]
  },
  {
   "cell_type": "markdown",
   "metadata": {
    "slideshow": {
     "slide_type": "slide"
    }
   },
   "source": [
    "Comparison of work benches:\n",
    "\n",
    "\n",
    "<img src=\"https://github.com/allisonhorst/stats-illustrations/blob/master/rstats-artwork/tidydata_3.jpg?raw=true\" width=800>"
   ]
  },
  {
   "cell_type": "markdown",
   "metadata": {
    "slideshow": {
     "slide_type": "slide"
    }
   },
   "source": [
    "Friends with similar tools:\n",
    "\n",
    "<img src=\"https://github.com/allisonhorst/stats-illustrations/blob/master/rstats-artwork/tidydata_4.jpg?raw=true\" width=800>"
   ]
  },
  {
   "cell_type": "markdown",
   "metadata": {
    "slideshow": {
     "slide_type": "slide"
    }
   },
   "source": [
    "Easier for automation & iteration!\n",
    "\n",
    "<img src=\"https://github.com/allisonhorst/stats-illustrations/blob/master/rstats-artwork/tidydata_5.jpg?raw=true\" width=800>"
   ]
  },
  {
   "cell_type": "markdown",
   "metadata": {
    "slideshow": {
     "slide_type": "slide"
    }
   },
   "source": [
    "And it makes all other tidy datasets seem more welcoming!\n",
    "\n",
    "<img src=\"https://github.com/allisonhorst/stats-illustrations/raw/master/rstats-artwork/tidydata_6.jpg?raw=true\" width=800>"
   ]
  },
  {
   "cell_type": "markdown",
   "metadata": {
    "slideshow": {
     "slide_type": "slide"
    }
   },
   "source": [
    "So make friends with tidy data!\n",
    "\n",
    "<img src=\"https://github.com/allisonhorst/stats-illustrations/blob/master/rstats-artwork/tidydata_7.jpg?raw=true\" width=800>"
   ]
  },
  {
   "cell_type": "markdown",
   "metadata": {
    "slideshow": {
     "slide_type": "slide"
    }
   },
   "source": [
    "## Examples of Tidy(?) Data\n",
    "\n",
    "...here is the same data represented in a few different ways. Let's vote on which are tidy!"
   ]
  },
  {
   "cell_type": "markdown",
   "metadata": {
    "slideshow": {
     "slide_type": "slide"
    }
   },
   "source": [
    "### Tuberculosis data\n",
    "\n",
    "This data is tidy. True or false?\n",
    "\n",
    "\n",
    "| country | year  | rate |\n",
    "|---------|-------|---|\n",
    "| Afghanistan | 1999|      745/19987071\n",
    "|Afghanistan |2000    | 2666/20595360\n",
    "|      Brazil |1999|   37737/172006362\n",
    "|      Brazil |2000  | 80488/174504898\n",
    "|      China |1999| 212258/1272915272\n",
    "|      China |2000 |213766/1280428583\n",
    "\n"
   ]
  },
  {
   "cell_type": "markdown",
   "metadata": {
    "slideshow": {
     "slide_type": "notes"
    }
   },
   "source": [
    "False. Multiple variables are stored in one column.\n",
    "\n",
    "the rate column is a combination of the number of cases and population \n",
    "**each cell (row, column pair) does not correspond to a single value**"
   ]
  },
  {
   "cell_type": "markdown",
   "metadata": {
    "slideshow": {
     "slide_type": "slide"
    }
   },
   "source": [
    "### Tuberculosis data\n",
    "\n",
    "This data is tidy. True or false?\n",
    "\n",
    "| country | cases (year=1999) | cases (year=2000)|\n",
    "|---------|-------|-------|\n",
    "| Afghanistan |   745 |  2666\n",
    "|  Brazil | 37737 | 80488\n",
    "|  China | 212258 | 213766\n",
    "\n",
    "| country | population (year=1999) | population (year=2000)|\n",
    "|---------|-------|-------|\n",
    "| Afghanistan |  19987071 |  20595360 |\n",
    "| Brazil | 172006362 | 174504898 |\n",
    "| China | 1272915272 | 1280428583 |\n"
   ]
  },
  {
   "cell_type": "markdown",
   "metadata": {
    "slideshow": {
     "slide_type": "notes"
    }
   },
   "source": [
    "False. A single observational unit is stored in multiple tables.\n",
    "\n",
    "Here we have data values about a single type of observational unit spread out over multiple tables. These tables are split up by the number of cases of tuberculosis and the population of each country, so that each represents a single \n",
    "**each row is not a single observation**"
   ]
  },
  {
   "cell_type": "markdown",
   "metadata": {
    "slideshow": {
     "slide_type": "slide"
    }
   },
   "source": [
    "### Tuberculosis data\n",
    "\n",
    "This data is tidy. True or false?\n",
    "\n",
    "| country | 1999  | 2000 | \n",
    "|---------|-------|-------|\n",
    "| Afghanistan | 745  |  2666  |\n",
    "|Brazil |37737 | 80488  |\n",
    "| China | 212258 | 213766 |\n"
   ]
  },
  {
   "cell_type": "markdown",
   "metadata": {
    "slideshow": {
     "slide_type": "notes"
    }
   },
   "source": [
    "False. Column headers are values, not variable names.\n",
    "\n",
    "Here we see the columns headers are values (the year) not variable names. This common type of messy dataset is tabular data designed for presentation, where variables form both the rows and columns, and column headers are values, not variable names.\n",
    "\n",
    "**each column does not corresponds to a single variable** since year is across the top"
   ]
  },
  {
   "cell_type": "markdown",
   "metadata": {
    "slideshow": {
     "slide_type": "slide"
    }
   },
   "source": [
    "### Tuberculosis data\n",
    "\n",
    "This data is tidy. True or false?\n",
    "\n",
    "| country | year  | key | value |\n",
    "|---------|-------|-------|------------|\n",
    "|Afghanistan |1999 |     cases   |     745\n",
    "| Afghanistan |1999| population  | 19987071\n",
    "|  Afghanistan |2000|      cases |      2666\n",
    "|  Afghanistan| 2000| population |  20595360\n",
    "|       Brazil| 1999|      cases |     37737\n",
    "|       Brazil |1999| population | 172006362\n",
    "|       Brazil| 2000|      cases  |    80488\n",
    "|       Brazil |2000| population | 174504898\n",
    "|        China |1999|      cases  |   212258\n",
    "|       China |1999| population |1272915272\n",
    "|       China |2000|      cases |    213766\n",
    "|       China |2000| population| 1280428583"
   ]
  },
  {
   "cell_type": "markdown",
   "metadata": {
    "slideshow": {
     "slide_type": "notes"
    }
   },
   "source": [
    "False. Variables are stored in both rows and columns. It has variables in individual columns (country, year), and across rows (population, cases) in the \"key\" column\n",
    "\n",
    "**each row does not corresponds to a single observation,\n",
    "each column does not corresponds to a single variable, and\n",
    "each cell (row, column pair) does not correspond to a single value**"
   ]
  },
  {
   "cell_type": "markdown",
   "metadata": {
    "slideshow": {
     "slide_type": "slide"
    }
   },
   "source": [
    "### Tuberculosis data\n",
    "\n",
    "This data is tidy. True or false?\n",
    "\n",
    "| country | year  | cases | population |\n",
    "|---------|-------|-------|------------|\n",
    "| Afghanistan | 1999  |  745  | 19987071|\n",
    "| Afghanistan | 2000 |  2666 |  20595360|\n",
    "|Brazil |1999 | 37737  |172006362|\n",
    "| Brazil| 2000 | 80488 | 174504898|\n",
    "| China | 1999 | 212258 |1272915272|\n",
    "|  China |2000 | 213766 | 1280428583|"
   ]
  },
  {
   "cell_type": "markdown",
   "metadata": {
    "slideshow": {
     "slide_type": "notes"
    }
   },
   "source": [
    "- each row corresponds to a single observation,\n",
    "- each column corresponds to a single variable, and\n",
    "- each cell (row, column pair) correspond to a single value"
   ]
  },
  {
   "cell_type": "markdown",
   "metadata": {
    "slideshow": {
     "slide_type": "slide"
    }
   },
   "source": [
    "## Tools for tidying:\n",
    "\n",
    "- `tidyverse` package functions from: \n",
    "    - `dplyr` package (`select`, `filter`, `mutate`, `group_by`, `summarize`)\n",
    "    \n",
    "    - `tidyr` package (`pivot_longer`, `pivot_wider`)\n",
    "    \n",
    "    - `purrr` package (`map_df`)"
   ]
  },
  {
   "cell_type": "markdown",
   "metadata": {
    "slideshow": {
     "slide_type": "slide"
    }
   },
   "source": [
    "## Demo Time! \n",
    "<img src=\"img/penguins.jpg\" width=\"300\"/>\n"
   ]
  },
  {
   "cell_type": "code",
   "execution_count": 2,
   "metadata": {
    "slideshow": {
     "slide_type": "slide"
    }
   },
   "outputs": [
    {
     "name": "stderr",
     "output_type": "stream",
     "text": [
      "── \u001b[1mAttaching packages\u001b[22m ───────────────────────────────────────────────────────────────── tidyverse 1.3.0 ──\n",
      "\n",
      "\u001b[32m✔\u001b[39m \u001b[34mggplot2\u001b[39m 3.3.2     \u001b[32m✔\u001b[39m \u001b[34mpurrr  \u001b[39m 0.3.4\n",
      "\u001b[32m✔\u001b[39m \u001b[34mtibble \u001b[39m 3.0.4     \u001b[32m✔\u001b[39m \u001b[34mdplyr  \u001b[39m 1.0.2\n",
      "\u001b[32m✔\u001b[39m \u001b[34mtidyr  \u001b[39m 1.1.2     \u001b[32m✔\u001b[39m \u001b[34mstringr\u001b[39m 1.4.0\n",
      "\u001b[32m✔\u001b[39m \u001b[34mreadr  \u001b[39m 1.4.0     \u001b[32m✔\u001b[39m \u001b[34mforcats\u001b[39m 0.5.0\n",
      "\n",
      "── \u001b[1mConflicts\u001b[22m ──────────────────────────────────────────────────────────────────── tidyverse_conflicts() ──\n",
      "\u001b[31m✖\u001b[39m \u001b[34mdplyr\u001b[39m::\u001b[32mfilter()\u001b[39m masks \u001b[34mstats\u001b[39m::filter()\n",
      "\u001b[31m✖\u001b[39m \u001b[34mdplyr\u001b[39m::\u001b[32mlag()\u001b[39m    masks \u001b[34mstats\u001b[39m::lag()\n",
      "\n"
     ]
    }
   ],
   "source": [
    "library(tidyverse)\n",
    "library(palmerpenguins)\n",
    "options(repr.matrix.max.rows = 6)"
   ]
  },
  {
   "cell_type": "code",
   "execution_count": null,
   "metadata": {
    "slideshow": {
     "slide_type": "slide"
    }
   },
   "outputs": [],
   "source": [
    "penguins"
   ]
  },
  {
   "cell_type": "markdown",
   "metadata": {
    "slideshow": {
     "slide_type": "notes"
    }
   },
   "source": [
    "Data for 344 penguins. There are 3 different species of penguins in this dataset, collected from 3 islands in the Antarctica.\n"
   ]
  },
  {
   "cell_type": "markdown",
   "metadata": {
    "slideshow": {
     "slide_type": "slide"
    }
   },
   "source": [
    "## Select\n",
    "\n",
    "The `select` function is used to choose a subset of columns (variables) in a dataframe.\n",
    "\n",
    "e.g. select only numeric variables"
   ]
  },
  {
   "cell_type": "code",
   "execution_count": null,
   "metadata": {},
   "outputs": [],
   "source": [
    "# select penguins example \n"
   ]
  },
  {
   "cell_type": "markdown",
   "metadata": {
    "slideshow": {
     "slide_type": "notes"
    }
   },
   "source": [
    "```\n",
    "penguins\n",
    "\n",
    "penguins_select <- select(penguins, bill_length_mm,\tbill_depth_mm,\tflipper_length_mm,\tbody_mass_g)\n",
    "penguins_select\n",
    "\n",
    "penguins_no_island <- select(penguins, -island)\n",
    "penguins_no_island\n",
    "```\n",
    "Note to students: you don't always have to select columns when you tidy data"
   ]
  },
  {
   "cell_type": "markdown",
   "metadata": {
    "slideshow": {
     "slide_type": "slide"
    }
   },
   "source": [
    "## Filter\n",
    "\n",
    "The `filter` function is used to choose a subset of rows (observations) in a dataframe.\n",
    "\n",
    "e.g. filter for only penguins with long flippers"
   ]
  },
  {
   "cell_type": "code",
   "execution_count": null,
   "metadata": {
    "slideshow": {
     "slide_type": "-"
    }
   },
   "outputs": [],
   "source": [
    "#penguins filter example\n",
    "penguins"
   ]
  },
  {
   "cell_type": "markdown",
   "metadata": {
    "slideshow": {
     "slide_type": "notes"
    }
   },
   "source": [
    "```\n",
    "penguins\n",
    "\n",
    "penguins_long <- filter(penguins, flipper_length_mm > 190)\n",
    "penguins_long\n",
    "\n",
    "```"
   ]
  },
  {
   "cell_type": "markdown",
   "metadata": {
    "slideshow": {
     "slide_type": "slide"
    }
   },
   "source": [
    "## Mutate\n",
    "\n",
    "The `mutate` function transforms old columns to add new columns.\n",
    "\n",
    "e.g. convert body mass from grams to pounds "
   ]
  },
  {
   "cell_type": "code",
   "execution_count": null,
   "metadata": {
    "slideshow": {
     "slide_type": "-"
    }
   },
   "outputs": [],
   "source": [
    "#penguin mutate example\n"
   ]
  },
  {
   "cell_type": "markdown",
   "metadata": {
    "slideshow": {
     "slide_type": "notes"
    }
   },
   "source": [
    "```\n",
    "penguin_pounds <- mutate(penguins, body_mass_lb = body_mass_g / 454)\n",
    "penguin_pounds\n",
    "```"
   ]
  },
  {
   "cell_type": "markdown",
   "metadata": {
    "slideshow": {
     "slide_type": "slide"
    }
   },
   "source": [
    "## Pipe Operator `%>%`\n",
    "\n",
    "When you need to do a long sequence of operations on data, you could: \n",
    "\n",
    "### 1. Save intermediate objects\n",
    "You *could* save intermediate objects (hard to read):\n",
    "\n",
    "```\n",
    "penguins_1 <- mutate(penguins, body_mass_lb = body_mass_g/454)\n",
    "penguins_2 <- filter(penguins_1, flipper_length_mm > 190)\n",
    "penguins_3 <- select(penguins_2, bill_length_mm, bill_depth_mm, flipper_length_mm, body_mass_lb)\n",
    "penguins3\n",
    "```\n",
    "#### Disadvantages:\n",
    "- The reader may be tricked into thinking the named penguins_1 and penguins_2 objects are important for some reason, while they are just temporary intermediate computations. \n",
    "- Further, the reader has to look through and find where penguins_1 and penguins_2 are used in each subsequent line."
   ]
  },
  {
   "cell_type": "markdown",
   "metadata": {
    "slideshow": {
     "slide_type": "slide"
    }
   },
   "source": [
    "### 2. Composing functions \n",
    "You *could* compose functions:\n",
    "\n",
    "```\n",
    "penguins_composed <- select(filter(mutate(penguins, body_mass_lb = body_mass_g/454), flipper_length_mm > 190), bill_length_mm, bill_depth_mm, flipper_length_mm, body_mass_lb)\n",
    "penguins_composed\n",
    "```\n",
    "#### Disadvantage: \n",
    "- Difficult to read"
   ]
  },
  {
   "cell_type": "markdown",
   "metadata": {
    "slideshow": {
     "slide_type": "slide"
    }
   },
   "source": [
    "### 3. Piping\n",
    "You can also *pipe* with the **`%>%` symbol**: passes the output of a function to the **1st argument** of another. \n",
    "\n",
    "```\n",
    "penguins_piped <- penguins %>% \n",
    "            mutate(body_mass_lb = body_mass_g/454) %>%\n",
    "            filter(flipper_length_mm > 190) %>%\n",
    "            select(bill_length_mm, bill_depth_mm, flipper_length_mm, body_mass_lb)\n",
    "penguins_piped\n",
    "```\n",
    "**note**: *if R sees a `%>%` at the end of a line, it keeps reading the next line of code before evaluating!*\n",
    "\n",
    "#### Advantage: \n",
    "Pipes make code more readable when you need to do a long sequence of operations on data."
   ]
  },
  {
   "cell_type": "markdown",
   "metadata": {
    "slideshow": {
     "slide_type": "slide"
    }
   },
   "source": [
    "## Another big concept this week: iteration\n",
    "\n",
    "- iteration is when you need to do something repeatedly (e.g., ringing in and bagging groceries at the till)\n",
    "\n",
    "![](https://www.ecomcrew.com/wp-content/uploads/2015/07/bar-code-scanning-grocery-store.jpg)"
   ]
  },
  {
   "cell_type": "markdown",
   "metadata": {
    "slideshow": {
     "slide_type": "slide"
    }
   },
   "source": [
    "## Tidyverse tools for iteration\n",
    "\n",
    "1. `group_by` + `summarize`: iterate over groups of rows\n",
    "2. `map_df`: iterate over columns"
   ]
  },
  {
   "cell_type": "markdown",
   "metadata": {
    "slideshow": {
     "slide_type": "slide"
    }
   },
   "source": [
    "## `group_by` + `summarize`\n",
    "\n",
    "e.g. calculate the average body mass (`body_mass_g`) for each penguin species from the `penguins` dataset\n"
   ]
  },
  {
   "cell_type": "code",
   "execution_count": 3,
   "metadata": {
    "slideshow": {
     "slide_type": "slide"
    }
   },
   "outputs": [
    {
     "data": {
      "text/html": [
       "<table>\n",
       "<caption>A tibble: 344 × 8</caption>\n",
       "<thead>\n",
       "\t<tr><th scope=col>species</th><th scope=col>island</th><th scope=col>bill_length_mm</th><th scope=col>bill_depth_mm</th><th scope=col>flipper_length_mm</th><th scope=col>body_mass_g</th><th scope=col>sex</th><th scope=col>year</th></tr>\n",
       "\t<tr><th scope=col>&lt;fct&gt;</th><th scope=col>&lt;fct&gt;</th><th scope=col>&lt;dbl&gt;</th><th scope=col>&lt;dbl&gt;</th><th scope=col>&lt;int&gt;</th><th scope=col>&lt;int&gt;</th><th scope=col>&lt;fct&gt;</th><th scope=col>&lt;int&gt;</th></tr>\n",
       "</thead>\n",
       "<tbody>\n",
       "\t<tr><td>Adelie</td><td>Torgersen</td><td>39.1</td><td>18.7</td><td>181</td><td>3750</td><td>male  </td><td>2007</td></tr>\n",
       "\t<tr><td>Adelie</td><td>Torgersen</td><td>39.5</td><td>17.4</td><td>186</td><td>3800</td><td>female</td><td>2007</td></tr>\n",
       "\t<tr><td>Adelie</td><td>Torgersen</td><td>40.3</td><td>18.0</td><td>195</td><td>3250</td><td>female</td><td>2007</td></tr>\n",
       "\t<tr><td>⋮</td><td>⋮</td><td>⋮</td><td>⋮</td><td>⋮</td><td>⋮</td><td>⋮</td><td>⋮</td></tr>\n",
       "\t<tr><td>Chinstrap</td><td>Dream</td><td>49.6</td><td>18.2</td><td>193</td><td>3775</td><td>male  </td><td>2009</td></tr>\n",
       "\t<tr><td>Chinstrap</td><td>Dream</td><td>50.8</td><td>19.0</td><td>210</td><td>4100</td><td>male  </td><td>2009</td></tr>\n",
       "\t<tr><td>Chinstrap</td><td>Dream</td><td>50.2</td><td>18.7</td><td>198</td><td>3775</td><td>female</td><td>2009</td></tr>\n",
       "</tbody>\n",
       "</table>\n"
      ],
      "text/latex": [
       "A tibble: 344 × 8\n",
       "\\begin{tabular}{llllllll}\n",
       " species & island & bill\\_length\\_mm & bill\\_depth\\_mm & flipper\\_length\\_mm & body\\_mass\\_g & sex & year\\\\\n",
       " <fct> & <fct> & <dbl> & <dbl> & <int> & <int> & <fct> & <int>\\\\\n",
       "\\hline\n",
       "\t Adelie & Torgersen & 39.1 & 18.7 & 181 & 3750 & male   & 2007\\\\\n",
       "\t Adelie & Torgersen & 39.5 & 17.4 & 186 & 3800 & female & 2007\\\\\n",
       "\t Adelie & Torgersen & 40.3 & 18.0 & 195 & 3250 & female & 2007\\\\\n",
       "\t ⋮ & ⋮ & ⋮ & ⋮ & ⋮ & ⋮ & ⋮ & ⋮\\\\\n",
       "\t Chinstrap & Dream & 49.6 & 18.2 & 193 & 3775 & male   & 2009\\\\\n",
       "\t Chinstrap & Dream & 50.8 & 19.0 & 210 & 4100 & male   & 2009\\\\\n",
       "\t Chinstrap & Dream & 50.2 & 18.7 & 198 & 3775 & female & 2009\\\\\n",
       "\\end{tabular}\n"
      ],
      "text/markdown": [
       "\n",
       "A tibble: 344 × 8\n",
       "\n",
       "| species &lt;fct&gt; | island &lt;fct&gt; | bill_length_mm &lt;dbl&gt; | bill_depth_mm &lt;dbl&gt; | flipper_length_mm &lt;int&gt; | body_mass_g &lt;int&gt; | sex &lt;fct&gt; | year &lt;int&gt; |\n",
       "|---|---|---|---|---|---|---|---|\n",
       "| Adelie | Torgersen | 39.1 | 18.7 | 181 | 3750 | male   | 2007 |\n",
       "| Adelie | Torgersen | 39.5 | 17.4 | 186 | 3800 | female | 2007 |\n",
       "| Adelie | Torgersen | 40.3 | 18.0 | 195 | 3250 | female | 2007 |\n",
       "| ⋮ | ⋮ | ⋮ | ⋮ | ⋮ | ⋮ | ⋮ | ⋮ |\n",
       "| Chinstrap | Dream | 49.6 | 18.2 | 193 | 3775 | male   | 2009 |\n",
       "| Chinstrap | Dream | 50.8 | 19.0 | 210 | 4100 | male   | 2009 |\n",
       "| Chinstrap | Dream | 50.2 | 18.7 | 198 | 3775 | female | 2009 |\n",
       "\n"
      ],
      "text/plain": [
       "    species   island    bill_length_mm bill_depth_mm flipper_length_mm\n",
       "1   Adelie    Torgersen 39.1           18.7          181              \n",
       "2   Adelie    Torgersen 39.5           17.4          186              \n",
       "3   Adelie    Torgersen 40.3           18.0          195              \n",
       "⋮   ⋮         ⋮         ⋮              ⋮             ⋮                \n",
       "342 Chinstrap Dream     49.6           18.2          193              \n",
       "343 Chinstrap Dream     50.8           19.0          210              \n",
       "344 Chinstrap Dream     50.2           18.7          198              \n",
       "    body_mass_g sex    year\n",
       "1   3750        male   2007\n",
       "2   3800        female 2007\n",
       "3   3250        female 2007\n",
       "⋮   ⋮           ⋮      ⋮   \n",
       "342 3775        male   2009\n",
       "343 4100        male   2009\n",
       "344 3775        female 2009"
      ]
     },
     "metadata": {},
     "output_type": "display_data"
    }
   ],
   "source": [
    "#preview data frame\n",
    "penguins"
   ]
  },
  {
   "cell_type": "markdown",
   "metadata": {
    "slideshow": {
     "slide_type": "slide"
    }
   },
   "source": [
    "To do this we use `group_by` + `summarize` to iterate over species, calculating average body mass."
   ]
  },
  {
   "cell_type": "code",
   "execution_count": 5,
   "metadata": {
    "slideshow": {
     "slide_type": "fragment"
    }
   },
   "outputs": [
    {
     "name": "stderr",
     "output_type": "stream",
     "text": [
      "`summarise()` ungrouping output (override with `.groups` argument)\n",
      "\n"
     ]
    },
    {
     "data": {
      "text/html": [
       "<table>\n",
       "<caption>A tibble: 3 × 2</caption>\n",
       "<thead>\n",
       "\t<tr><th scope=col>species</th><th scope=col>avg_body_mass</th></tr>\n",
       "\t<tr><th scope=col>&lt;fct&gt;</th><th scope=col>&lt;dbl&gt;</th></tr>\n",
       "</thead>\n",
       "<tbody>\n",
       "\t<tr><td>Adelie   </td><td>      NA</td></tr>\n",
       "\t<tr><td>Chinstrap</td><td>3733.088</td></tr>\n",
       "\t<tr><td>Gentoo   </td><td>      NA</td></tr>\n",
       "</tbody>\n",
       "</table>\n"
      ],
      "text/latex": [
       "A tibble: 3 × 2\n",
       "\\begin{tabular}{ll}\n",
       " species & avg\\_body\\_mass\\\\\n",
       " <fct> & <dbl>\\\\\n",
       "\\hline\n",
       "\t Adelie    &       NA\\\\\n",
       "\t Chinstrap & 3733.088\\\\\n",
       "\t Gentoo    &       NA\\\\\n",
       "\\end{tabular}\n"
      ],
      "text/markdown": [
       "\n",
       "A tibble: 3 × 2\n",
       "\n",
       "| species &lt;fct&gt; | avg_body_mass &lt;dbl&gt; |\n",
       "|---|---|\n",
       "| Adelie    |       NA |\n",
       "| Chinstrap | 3733.088 |\n",
       "| Gentoo    |       NA |\n",
       "\n"
      ],
      "text/plain": [
       "  species   avg_body_mass\n",
       "1 Adelie          NA     \n",
       "2 Chinstrap 3733.088     \n",
       "3 Gentoo          NA     "
      ]
     },
     "metadata": {},
     "output_type": "display_data"
    }
   ],
   "source": [
    "# calculate average body mass for each species"
   ]
  },
  {
   "cell_type": "markdown",
   "metadata": {
    "slideshow": {
     "slide_type": "notes"
    }
   },
   "source": [
    "```\n",
    "avg_body_mass <- penguins %>% \n",
    "    group_by(species) %>% \n",
    "    summarise(avg_body_mass = mean(body_mass_g))\n",
    "avg_body_mass\n",
    "```"
   ]
  },
  {
   "cell_type": "markdown",
   "metadata": {
    "slideshow": {
     "slide_type": "slide"
    }
   },
   "source": [
    "What's going on with those NA's?"
   ]
  },
  {
   "cell_type": "code",
   "execution_count": 7,
   "metadata": {
    "slideshow": {
     "slide_type": "fragment"
    }
   },
   "outputs": [],
   "source": [
    "# calculate average body mass for each species handling NA's\n"
   ]
  },
  {
   "cell_type": "markdown",
   "metadata": {
    "slideshow": {
     "slide_type": "notes"
    }
   },
   "source": [
    "```\n",
    "avg_body_mass <- penguins %>% \n",
    "    group_by(species) %>% \n",
    "    summarise(avg_body_mass = mean(body_mass_g, na.rm = TRUE))\n",
    "avg_body_mass\n",
    "```"
   ]
  },
  {
   "cell_type": "markdown",
   "metadata": {
    "slideshow": {
     "slide_type": "slide"
    }
   },
   "source": [
    "## `map_df` \n",
    "\n",
    "e.g. calculate the average rate of each type of crime from the `USAarrests` data\n",
    "\n",
    "**Be careful:** *There are a lot of `map_...` functions that you could use (`map`, `map_lgl`, `map_chr`, etc). Usually in this course we'll only use `map_df`, but you should investigate the others yourself!*"
   ]
  },
  {
   "cell_type": "markdown",
   "metadata": {
    "slideshow": {
     "slide_type": "notes"
    }
   },
   "source": [
    "- `map()` is a function for applying a function to each element of a list (similar to lapply() ) \n",
    "- `map_df()` returns a data frame\n",
    "- `map()` returns a list, `map_lgl()` a logical vector, `map_int()` an integer vector, `map_dbl()` a double vector, `and map_chr()` a character vector.\n",
    "- `map(YOUR_LIST, YOUR_FUNCTION)`\n",
    "\n",
    "- This data set contains statistics, in arrests per 100,000 residents for assault, murder, and rape in each of the 50 US states in 1973. Also given is the percent of the population living in urban areas.\n",
    "\n",
    "- Vector, Array, List and Data Frame are 4 basic data types defined in R. Knowing the differences between them will help you use R more efficiently.\n",
    "- Vector: All elements must be of the same type.\n",
    "- Matrix/array: A matrix is a vector with two additional attributes: the number of rows and the number of columns.\n",
    "- List can contain elements of different types.\n",
    "- Dataframe: A data frame is used for storing data tables. It is a list of vectors of equal length."
   ]
  },
  {
   "cell_type": "code",
   "execution_count": null,
   "metadata": {
    "scrolled": true,
    "slideshow": {
     "slide_type": "-"
    }
   },
   "outputs": [],
   "source": [
    "head(USArrests)\n"
   ]
  },
  {
   "cell_type": "code",
   "execution_count": null,
   "metadata": {
    "slideshow": {
     "slide_type": "-"
    }
   },
   "outputs": [],
   "source": [
    "#calculate average per capita crime rate for each type of crime"
   ]
  },
  {
   "cell_type": "markdown",
   "metadata": {
    "slideshow": {
     "slide_type": "notes"
    }
   },
   "source": [
    "```\n",
    "USavg <- map_df(USArrests, mean) # returns a dataframe\n",
    "USavg\n",
    "\n",
    "map(USArrests, mean) # returns a list\n",
    "class(USavg)\n",
    "```\n",
    "\n",
    "- Vector, Array, List and Data Frame are 4 basic data types defined in R. Knowing the differences between them will help you use R more efficiently.\n",
    "- Vector: All elements must be of the same type.\n",
    "- Matrix/array: A matrix is a vector with two additional attributes: the number of rows and the number of columns.\n",
    "- List can contain elements of different types.\n",
    "- Dataframe: A data frame is used for storing data tables. It is a list of vectors of equal length."
   ]
  },
  {
   "cell_type": "markdown",
   "metadata": {
    "slideshow": {
     "slide_type": "slide"
    }
   },
   "source": [
    "\n",
    "## Go forth and wrangle! \n",
    "\n",
    "1. Go to your **project groups** (different from your breakout rooms) \n",
    "2. Work on the group contract (due Jan 30): https://canvas.ubc.ca/courses/59079/assignments/784941\n",
    "3. Discuss platforms for working on the group project together (e.g. via Canvas, exchange emails/phone, Slack) \n",
    "4. Go ahead and get started on the worksheet! We'll be here to help if you need it.\n",
    "5. If any members of your group aren't here today -- reach out to them via Canvas! \n",
    "\n",
    "<img align=\"left\" src=\"https://media.giphy.com/media/Qgm6tIYrSQqC4/giphy.gif\" width=\"300\">\n",
    "\n"
   ]
  },
  {
   "cell_type": "markdown",
   "metadata": {
    "slideshow": {
     "slide_type": "-"
    }
   },
   "source": [
    "*image source: https://media.giphy.com/media/Qgm6tIYrSQqC4/giphy-downsized-large.gif*"
   ]
  },
  {
   "cell_type": "markdown",
   "metadata": {
    "slideshow": {
     "slide_type": "slide"
    }
   },
   "source": [
    "## What did we learn?\n",
    "\n",
    "- \n",
    "- \n",
    "- \n",
    "\n",
    "\n",
    "\n"
   ]
  }
 ],
 "metadata": {
  "celltoolbar": "Slideshow",
  "kernelspec": {
   "display_name": "R",
   "language": "R",
   "name": "ir"
  },
  "language_info": {
   "codemirror_mode": "r",
   "file_extension": ".r",
   "mimetype": "text/x-r-source",
   "name": "R",
   "pygments_lexer": "r",
   "version": "4.0.3"
  }
 },
 "nbformat": 4,
 "nbformat_minor": 2
}
