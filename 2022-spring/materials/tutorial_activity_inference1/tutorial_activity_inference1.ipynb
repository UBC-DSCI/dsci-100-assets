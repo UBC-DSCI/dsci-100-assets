{
 "cells": [
  {
   "cell_type": "markdown",
   "metadata": {
    "nbgrader": {
     "grade": false,
     "grade_id": "cell-24f9bfcfc0c028b2",
     "locked": true,
     "schema_version": 3,
     "solution": false,
     "task": false
    },
    "slideshow": {
     "slide_type": "slide"
    }
   },
   "source": [
    "# DSCI 100: Introduction to Data Science\n",
    "\n",
    "## Tutorial 11 - Introduction to Statistical Inference"
   ]
  },
  {
   "cell_type": "markdown",
   "metadata": {
    "nbgrader": {
     "grade": false,
     "grade_id": "cell-a30d7f12f24db0c2",
     "locked": true,
     "schema_version": 3,
     "solution": false,
     "task": false
    },
    "slideshow": {
     "slide_type": "slide"
    }
   },
   "source": [
    "First, load the necessary libraries."
   ]
  },
  {
   "cell_type": "code",
   "execution_count": null,
   "metadata": {
    "nbgrader": {
     "grade": false,
     "grade_id": "cell-862ad148734f02d5",
     "locked": true,
     "schema_version": 3,
     "solution": false,
     "task": false
    },
    "slideshow": {
     "slide_type": "fragment"
    }
   },
   "outputs": [],
   "source": [
    "### Run this cell before continuing\n",
    "library(tidyverse)\n",
    "library(repr)\n",
    "library(digest)\n",
    "library(infer)\n",
    "library(gridExtra)"
   ]
  },
  {
   "cell_type": "markdown",
   "metadata": {
    "nbgrader": {
     "grade": false,
     "grade_id": "cell-7128b905ae8e4202",
     "locked": true,
     "schema_version": 3,
     "solution": false,
     "task": false
    },
    "slideshow": {
     "slide_type": "slide"
    }
   },
   "source": [
    "Just like in the tutorial, we're going to create a simulated dataset of data science final grades for a large population of students. "
   ]
  },
  {
   "cell_type": "code",
   "execution_count": null,
   "metadata": {
    "nbgrader": {
     "grade": false,
     "grade_id": "cell-411f5c32f74e8702",
     "locked": true,
     "schema_version": 3,
     "solution": false,
     "task": false
    },
    "slideshow": {
     "slide_type": "fragment"
    }
   },
   "outputs": [],
   "source": [
    "# run this cell to simulate a finite population\n",
    "set.seed(12341)\n",
    "students_pop <- tibble(grade = (rnorm(mean = 70, sd = 8, n = 10000)))\n",
    "head(students_pop)"
   ]
  },
  {
   "cell_type": "markdown",
   "metadata": {
    "nbgrader": {
     "grade": false,
     "grade_id": "cell-8dbbe8cbaae55ef9",
     "locked": true,
     "schema_version": 3,
     "solution": false,
     "task": false
    }
   },
   "source": [
    "Draw 200 random samples from our population of students. Each sample should have 50 observations. Name the data frame `samples_50`. "
   ]
  },
  {
   "cell_type": "code",
   "execution_count": null,
   "metadata": {
    "nbgrader": {
     "grade": true,
     "grade_id": "cell-1ca3281e90b09d1f",
     "locked": false,
     "points": 0,
     "schema_version": 3,
     "solution": true,
     "task": false
    }
   },
   "outputs": [],
   "source": [
    "set.seed(12341)\n",
    "\n",
    "### BEGIN SOLUTION\n",
    "samples_50 <- rep_sample_n(students_pop, size = 50, reps = 200)\n",
    "### END SOLUTION\n",
    "\n",
    "head(samples_50)"
   ]
  },
  {
   "cell_type": "markdown",
   "metadata": {
    "nbgrader": {
     "grade": false,
     "grade_id": "cell-0aae1b00b224ee46",
     "locked": true,
     "schema_version": 3,
     "solution": false,
     "task": false
    }
   },
   "source": [
    "Group by the sample replicate number, and then for each sample, calculate the mean. Name the data frame `sample_estimates_50`. The data frame should have the column names `replicate` and `sample_mean`."
   ]
  },
  {
   "cell_type": "code",
   "execution_count": null,
   "metadata": {
    "nbgrader": {
     "grade": true,
     "grade_id": "cell-2759d44e9c66a7d4",
     "locked": false,
     "points": 0,
     "schema_version": 3,
     "solution": true,
     "task": false
    }
   },
   "outputs": [],
   "source": [
    "### BEGIN SOLUTION\n",
    "sample_estimates_50 <- samples_50 %>% \n",
    "    group_by(replicate) %>% \n",
    "    summarise(sample_mean = mean(grade))\n",
    "### END SOLUTION\n",
    "\n",
    "head(sample_estimates_50)"
   ]
  },
  {
   "cell_type": "markdown",
   "metadata": {
    "nbgrader": {
     "grade": false,
     "grade_id": "cell-cd6602003e295cda",
     "locked": true,
     "schema_version": 3,
     "solution": false,
     "task": false
    },
    "slideshow": {
     "slide_type": "slide"
    }
   },
   "source": [
    "Visualize the distribution of the sample estimates (sample_estimates) you just calculated by plotting a histogram using `binwidth = 0.5` in the `geom_histogram` argument. "
   ]
  },
  {
   "cell_type": "code",
   "execution_count": null,
   "metadata": {
    "nbgrader": {
     "grade": true,
     "grade_id": "cell-1e6adb2a7f93ea0c",
     "locked": false,
     "points": 0,
     "schema_version": 3,
     "solution": true,
     "task": false
    },
    "slideshow": {
     "slide_type": "fragment"
    }
   },
   "outputs": [],
   "source": [
    "### BEGIN SOLUTION\n",
    "sampling_distribution_50 <-  ggplot(sample_estimates_50, aes(x = sample_mean)) +\n",
    "    geom_histogram(binwidth = 0.5) +\n",
    "    xlab(\"Sample Mean Grades\") +\n",
    "    ggtitle(\"Sampling distribution of the sample means\") \n",
    "### END SOLUTION\n",
    "\n",
    "sampling_distribution_50"
   ]
  },
  {
   "cell_type": "markdown",
   "metadata": {
    "nbgrader": {
     "grade": false,
     "grade_id": "cell-197073db13b4c44c",
     "locked": true,
     "schema_version": 3,
     "solution": false,
     "task": false
    },
    "slideshow": {
     "slide_type": "slide"
    }
   },
   "source": [
    "Next, repeat this process, but with a sample size of 500. Name the data frame `samples_500`. "
   ]
  },
  {
   "cell_type": "code",
   "execution_count": null,
   "metadata": {
    "nbgrader": {
     "grade": true,
     "grade_id": "cell-418ddd4dae62425a",
     "locked": false,
     "points": 0,
     "schema_version": 3,
     "solution": true,
     "task": false
    },
    "slideshow": {
     "slide_type": "fragment"
    }
   },
   "outputs": [],
   "source": [
    "set.seed(12341)\n",
    "\n",
    "### BEGIN SOLUTION\n",
    "samples_500 <- rep_sample_n(students_pop, size = 500, reps = 200)\n",
    "\n",
    "sample_estimates_500 <- samples_500 %>% \n",
    "    group_by(replicate) %>% \n",
    "    summarise(sample_mean = mean(grade))\n",
    "\n",
    "sampling_distribution_500 <-  ggplot(sample_estimates_500, aes(x = sample_mean)) +\n",
    "    geom_histogram(binwidth = 0.5) +\n",
    "    xlab(\"Sample Mean Grades\") +\n",
    "    ggtitle(\"Sampling distribution of the sample means\") \n",
    "### END SOLUTION\n",
    "\n",
    "sampling_distribution_500"
   ]
  },
  {
   "cell_type": "markdown",
   "metadata": {
    "nbgrader": {
     "grade": false,
     "grade_id": "cell-a8c888ca6e7be087",
     "locked": true,
     "schema_version": 3,
     "solution": false,
     "task": false
    }
   },
   "source": [
    "Based on these two plots, how does sample size affect the sampling distribution and standard error?"
   ]
  }
 ],
 "metadata": {
  "celltoolbar": "Create Assignment",
  "kernelspec": {
   "display_name": "R",
   "language": "R",
   "name": "ir"
  },
  "language_info": {
   "codemirror_mode": "r",
   "file_extension": ".r",
   "mimetype": "text/x-r-source",
   "name": "R",
   "pygments_lexer": "r",
   "version": "4.0.0"
  }
 },
 "nbformat": 4,
 "nbformat_minor": 2
}
